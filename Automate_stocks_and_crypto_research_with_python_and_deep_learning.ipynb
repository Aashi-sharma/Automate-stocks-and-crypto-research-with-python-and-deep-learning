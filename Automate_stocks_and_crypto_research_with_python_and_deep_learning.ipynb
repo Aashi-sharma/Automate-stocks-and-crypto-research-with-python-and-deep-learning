{
  "nbformat": 4,
  "nbformat_minor": 0,
  "metadata": {
    "colab": {
      "provenance": [],
      "authorship_tag": "ABX9TyNXHpLgZSjnD37brkRH9rAK",
      "include_colab_link": true
    },
    "kernelspec": {
      "name": "python3",
      "display_name": "Python 3"
    },
    "language_info": {
      "name": "python"
    },
    "widgets": {
      "application/vnd.jupyter.widget-state+json": {
        "0597ca9d8c614f86a457217a0b681191": {
          "model_module": "@jupyter-widgets/controls",
          "model_name": "HBoxModel",
          "model_module_version": "1.5.0",
          "state": {
            "_dom_classes": [],
            "_model_module": "@jupyter-widgets/controls",
            "_model_module_version": "1.5.0",
            "_model_name": "HBoxModel",
            "_view_count": null,
            "_view_module": "@jupyter-widgets/controls",
            "_view_module_version": "1.5.0",
            "_view_name": "HBoxView",
            "box_style": "",
            "children": [
              "IPY_MODEL_405ac882aa624580940f73fff99855d9",
              "IPY_MODEL_bb064478bb874e4484d2d5741fd349d3",
              "IPY_MODEL_be078fb7ffba468ea8f969b31a01a3d7"
            ],
            "layout": "IPY_MODEL_0161f0ef6bbc43189da28bf9de5b9b7b"
          }
        },
        "405ac882aa624580940f73fff99855d9": {
          "model_module": "@jupyter-widgets/controls",
          "model_name": "HTMLModel",
          "model_module_version": "1.5.0",
          "state": {
            "_dom_classes": [],
            "_model_module": "@jupyter-widgets/controls",
            "_model_module_version": "1.5.0",
            "_model_name": "HTMLModel",
            "_view_count": null,
            "_view_module": "@jupyter-widgets/controls",
            "_view_module_version": "1.5.0",
            "_view_name": "HTMLView",
            "description": "",
            "description_tooltip": null,
            "layout": "IPY_MODEL_e285abc57980404b8fd7ff9ced0e75b6",
            "placeholder": "​",
            "style": "IPY_MODEL_02f2ad83d185425ab36cb52b82edc7cc",
            "value": "Downloading: 100%"
          }
        },
        "bb064478bb874e4484d2d5741fd349d3": {
          "model_module": "@jupyter-widgets/controls",
          "model_name": "FloatProgressModel",
          "model_module_version": "1.5.0",
          "state": {
            "_dom_classes": [],
            "_model_module": "@jupyter-widgets/controls",
            "_model_module_version": "1.5.0",
            "_model_name": "FloatProgressModel",
            "_view_count": null,
            "_view_module": "@jupyter-widgets/controls",
            "_view_module_version": "1.5.0",
            "_view_name": "ProgressView",
            "bar_style": "success",
            "description": "",
            "description_tooltip": null,
            "layout": "IPY_MODEL_74c78f9e281a405cbca92253c5297e9e",
            "max": 1912529,
            "min": 0,
            "orientation": "horizontal",
            "style": "IPY_MODEL_7f5841388fc14bf7948d9c30feaf1445",
            "value": 1912529
          }
        },
        "be078fb7ffba468ea8f969b31a01a3d7": {
          "model_module": "@jupyter-widgets/controls",
          "model_name": "HTMLModel",
          "model_module_version": "1.5.0",
          "state": {
            "_dom_classes": [],
            "_model_module": "@jupyter-widgets/controls",
            "_model_module_version": "1.5.0",
            "_model_name": "HTMLModel",
            "_view_count": null,
            "_view_module": "@jupyter-widgets/controls",
            "_view_module_version": "1.5.0",
            "_view_name": "HTMLView",
            "description": "",
            "description_tooltip": null,
            "layout": "IPY_MODEL_ea93d144bda64bdea7aa8ef9969d059e",
            "placeholder": "​",
            "style": "IPY_MODEL_dc509f7fcf314cadb06425e65338ba74",
            "value": " 1.91M/1.91M [00:00&lt;00:00, 19.1MB/s]"
          }
        },
        "0161f0ef6bbc43189da28bf9de5b9b7b": {
          "model_module": "@jupyter-widgets/base",
          "model_name": "LayoutModel",
          "model_module_version": "1.2.0",
          "state": {
            "_model_module": "@jupyter-widgets/base",
            "_model_module_version": "1.2.0",
            "_model_name": "LayoutModel",
            "_view_count": null,
            "_view_module": "@jupyter-widgets/base",
            "_view_module_version": "1.2.0",
            "_view_name": "LayoutView",
            "align_content": null,
            "align_items": null,
            "align_self": null,
            "border": null,
            "bottom": null,
            "display": null,
            "flex": null,
            "flex_flow": null,
            "grid_area": null,
            "grid_auto_columns": null,
            "grid_auto_flow": null,
            "grid_auto_rows": null,
            "grid_column": null,
            "grid_gap": null,
            "grid_row": null,
            "grid_template_areas": null,
            "grid_template_columns": null,
            "grid_template_rows": null,
            "height": null,
            "justify_content": null,
            "justify_items": null,
            "left": null,
            "margin": null,
            "max_height": null,
            "max_width": null,
            "min_height": null,
            "min_width": null,
            "object_fit": null,
            "object_position": null,
            "order": null,
            "overflow": null,
            "overflow_x": null,
            "overflow_y": null,
            "padding": null,
            "right": null,
            "top": null,
            "visibility": null,
            "width": null
          }
        },
        "e285abc57980404b8fd7ff9ced0e75b6": {
          "model_module": "@jupyter-widgets/base",
          "model_name": "LayoutModel",
          "model_module_version": "1.2.0",
          "state": {
            "_model_module": "@jupyter-widgets/base",
            "_model_module_version": "1.2.0",
            "_model_name": "LayoutModel",
            "_view_count": null,
            "_view_module": "@jupyter-widgets/base",
            "_view_module_version": "1.2.0",
            "_view_name": "LayoutView",
            "align_content": null,
            "align_items": null,
            "align_self": null,
            "border": null,
            "bottom": null,
            "display": null,
            "flex": null,
            "flex_flow": null,
            "grid_area": null,
            "grid_auto_columns": null,
            "grid_auto_flow": null,
            "grid_auto_rows": null,
            "grid_column": null,
            "grid_gap": null,
            "grid_row": null,
            "grid_template_areas": null,
            "grid_template_columns": null,
            "grid_template_rows": null,
            "height": null,
            "justify_content": null,
            "justify_items": null,
            "left": null,
            "margin": null,
            "max_height": null,
            "max_width": null,
            "min_height": null,
            "min_width": null,
            "object_fit": null,
            "object_position": null,
            "order": null,
            "overflow": null,
            "overflow_x": null,
            "overflow_y": null,
            "padding": null,
            "right": null,
            "top": null,
            "visibility": null,
            "width": null
          }
        },
        "02f2ad83d185425ab36cb52b82edc7cc": {
          "model_module": "@jupyter-widgets/controls",
          "model_name": "DescriptionStyleModel",
          "model_module_version": "1.5.0",
          "state": {
            "_model_module": "@jupyter-widgets/controls",
            "_model_module_version": "1.5.0",
            "_model_name": "DescriptionStyleModel",
            "_view_count": null,
            "_view_module": "@jupyter-widgets/base",
            "_view_module_version": "1.2.0",
            "_view_name": "StyleView",
            "description_width": ""
          }
        },
        "74c78f9e281a405cbca92253c5297e9e": {
          "model_module": "@jupyter-widgets/base",
          "model_name": "LayoutModel",
          "model_module_version": "1.2.0",
          "state": {
            "_model_module": "@jupyter-widgets/base",
            "_model_module_version": "1.2.0",
            "_model_name": "LayoutModel",
            "_view_count": null,
            "_view_module": "@jupyter-widgets/base",
            "_view_module_version": "1.2.0",
            "_view_name": "LayoutView",
            "align_content": null,
            "align_items": null,
            "align_self": null,
            "border": null,
            "bottom": null,
            "display": null,
            "flex": null,
            "flex_flow": null,
            "grid_area": null,
            "grid_auto_columns": null,
            "grid_auto_flow": null,
            "grid_auto_rows": null,
            "grid_column": null,
            "grid_gap": null,
            "grid_row": null,
            "grid_template_areas": null,
            "grid_template_columns": null,
            "grid_template_rows": null,
            "height": null,
            "justify_content": null,
            "justify_items": null,
            "left": null,
            "margin": null,
            "max_height": null,
            "max_width": null,
            "min_height": null,
            "min_width": null,
            "object_fit": null,
            "object_position": null,
            "order": null,
            "overflow": null,
            "overflow_x": null,
            "overflow_y": null,
            "padding": null,
            "right": null,
            "top": null,
            "visibility": null,
            "width": null
          }
        },
        "7f5841388fc14bf7948d9c30feaf1445": {
          "model_module": "@jupyter-widgets/controls",
          "model_name": "ProgressStyleModel",
          "model_module_version": "1.5.0",
          "state": {
            "_model_module": "@jupyter-widgets/controls",
            "_model_module_version": "1.5.0",
            "_model_name": "ProgressStyleModel",
            "_view_count": null,
            "_view_module": "@jupyter-widgets/base",
            "_view_module_version": "1.2.0",
            "_view_name": "StyleView",
            "bar_color": null,
            "description_width": ""
          }
        },
        "ea93d144bda64bdea7aa8ef9969d059e": {
          "model_module": "@jupyter-widgets/base",
          "model_name": "LayoutModel",
          "model_module_version": "1.2.0",
          "state": {
            "_model_module": "@jupyter-widgets/base",
            "_model_module_version": "1.2.0",
            "_model_name": "LayoutModel",
            "_view_count": null,
            "_view_module": "@jupyter-widgets/base",
            "_view_module_version": "1.2.0",
            "_view_name": "LayoutView",
            "align_content": null,
            "align_items": null,
            "align_self": null,
            "border": null,
            "bottom": null,
            "display": null,
            "flex": null,
            "flex_flow": null,
            "grid_area": null,
            "grid_auto_columns": null,
            "grid_auto_flow": null,
            "grid_auto_rows": null,
            "grid_column": null,
            "grid_gap": null,
            "grid_row": null,
            "grid_template_areas": null,
            "grid_template_columns": null,
            "grid_template_rows": null,
            "height": null,
            "justify_content": null,
            "justify_items": null,
            "left": null,
            "margin": null,
            "max_height": null,
            "max_width": null,
            "min_height": null,
            "min_width": null,
            "object_fit": null,
            "object_position": null,
            "order": null,
            "overflow": null,
            "overflow_x": null,
            "overflow_y": null,
            "padding": null,
            "right": null,
            "top": null,
            "visibility": null,
            "width": null
          }
        },
        "dc509f7fcf314cadb06425e65338ba74": {
          "model_module": "@jupyter-widgets/controls",
          "model_name": "DescriptionStyleModel",
          "model_module_version": "1.5.0",
          "state": {
            "_model_module": "@jupyter-widgets/controls",
            "_model_module_version": "1.5.0",
            "_model_name": "DescriptionStyleModel",
            "_view_count": null,
            "_view_module": "@jupyter-widgets/base",
            "_view_module_version": "1.2.0",
            "_view_name": "StyleView",
            "description_width": ""
          }
        },
        "b6b79d0c857e406f8784ad7407921df5": {
          "model_module": "@jupyter-widgets/controls",
          "model_name": "HBoxModel",
          "model_module_version": "1.5.0",
          "state": {
            "_dom_classes": [],
            "_model_module": "@jupyter-widgets/controls",
            "_model_module_version": "1.5.0",
            "_model_name": "HBoxModel",
            "_view_count": null,
            "_view_module": "@jupyter-widgets/controls",
            "_view_module_version": "1.5.0",
            "_view_name": "HBoxView",
            "box_style": "",
            "children": [
              "IPY_MODEL_f9f097b600b04a1ea4ee8c3ea5a42f08",
              "IPY_MODEL_198f9552a3c045959a80c766f45d9db9",
              "IPY_MODEL_83a5d87e664d43a9830a87829aaf34ce"
            ],
            "layout": "IPY_MODEL_78fa2f6c95b04737b87f460096256fb8"
          }
        },
        "f9f097b600b04a1ea4ee8c3ea5a42f08": {
          "model_module": "@jupyter-widgets/controls",
          "model_name": "HTMLModel",
          "model_module_version": "1.5.0",
          "state": {
            "_dom_classes": [],
            "_model_module": "@jupyter-widgets/controls",
            "_model_module_version": "1.5.0",
            "_model_name": "HTMLModel",
            "_view_count": null,
            "_view_module": "@jupyter-widgets/controls",
            "_view_module_version": "1.5.0",
            "_view_name": "HTMLView",
            "description": "",
            "description_tooltip": null,
            "layout": "IPY_MODEL_f05f5742a3424b50a927c6e7b5d7adf7",
            "placeholder": "​",
            "style": "IPY_MODEL_f8abab53bc824f09b702c8b296619654",
            "value": "Downloading: 100%"
          }
        },
        "198f9552a3c045959a80c766f45d9db9": {
          "model_module": "@jupyter-widgets/controls",
          "model_name": "FloatProgressModel",
          "model_module_version": "1.5.0",
          "state": {
            "_dom_classes": [],
            "_model_module": "@jupyter-widgets/controls",
            "_model_module_version": "1.5.0",
            "_model_name": "FloatProgressModel",
            "_view_count": null,
            "_view_module": "@jupyter-widgets/controls",
            "_view_module_version": "1.5.0",
            "_view_name": "ProgressView",
            "bar_style": "success",
            "description": "",
            "description_tooltip": null,
            "layout": "IPY_MODEL_bae0e0ba5144470eaac74f21aa0cbb07",
            "max": 1341,
            "min": 0,
            "orientation": "horizontal",
            "style": "IPY_MODEL_ad91af2a7e3c45829982953c1bb501d2",
            "value": 1341
          }
        },
        "83a5d87e664d43a9830a87829aaf34ce": {
          "model_module": "@jupyter-widgets/controls",
          "model_name": "HTMLModel",
          "model_module_version": "1.5.0",
          "state": {
            "_dom_classes": [],
            "_model_module": "@jupyter-widgets/controls",
            "_model_module_version": "1.5.0",
            "_model_name": "HTMLModel",
            "_view_count": null,
            "_view_module": "@jupyter-widgets/controls",
            "_view_module_version": "1.5.0",
            "_view_name": "HTMLView",
            "description": "",
            "description_tooltip": null,
            "layout": "IPY_MODEL_f91d5ee6e27247f4a059853166e5b4fe",
            "placeholder": "​",
            "style": "IPY_MODEL_38265dab297241e1bf43d8a26e7f03ac",
            "value": " 1.34k/1.34k [00:00&lt;00:00, 62.2kB/s]"
          }
        },
        "78fa2f6c95b04737b87f460096256fb8": {
          "model_module": "@jupyter-widgets/base",
          "model_name": "LayoutModel",
          "model_module_version": "1.2.0",
          "state": {
            "_model_module": "@jupyter-widgets/base",
            "_model_module_version": "1.2.0",
            "_model_name": "LayoutModel",
            "_view_count": null,
            "_view_module": "@jupyter-widgets/base",
            "_view_module_version": "1.2.0",
            "_view_name": "LayoutView",
            "align_content": null,
            "align_items": null,
            "align_self": null,
            "border": null,
            "bottom": null,
            "display": null,
            "flex": null,
            "flex_flow": null,
            "grid_area": null,
            "grid_auto_columns": null,
            "grid_auto_flow": null,
            "grid_auto_rows": null,
            "grid_column": null,
            "grid_gap": null,
            "grid_row": null,
            "grid_template_areas": null,
            "grid_template_columns": null,
            "grid_template_rows": null,
            "height": null,
            "justify_content": null,
            "justify_items": null,
            "left": null,
            "margin": null,
            "max_height": null,
            "max_width": null,
            "min_height": null,
            "min_width": null,
            "object_fit": null,
            "object_position": null,
            "order": null,
            "overflow": null,
            "overflow_x": null,
            "overflow_y": null,
            "padding": null,
            "right": null,
            "top": null,
            "visibility": null,
            "width": null
          }
        },
        "f05f5742a3424b50a927c6e7b5d7adf7": {
          "model_module": "@jupyter-widgets/base",
          "model_name": "LayoutModel",
          "model_module_version": "1.2.0",
          "state": {
            "_model_module": "@jupyter-widgets/base",
            "_model_module_version": "1.2.0",
            "_model_name": "LayoutModel",
            "_view_count": null,
            "_view_module": "@jupyter-widgets/base",
            "_view_module_version": "1.2.0",
            "_view_name": "LayoutView",
            "align_content": null,
            "align_items": null,
            "align_self": null,
            "border": null,
            "bottom": null,
            "display": null,
            "flex": null,
            "flex_flow": null,
            "grid_area": null,
            "grid_auto_columns": null,
            "grid_auto_flow": null,
            "grid_auto_rows": null,
            "grid_column": null,
            "grid_gap": null,
            "grid_row": null,
            "grid_template_areas": null,
            "grid_template_columns": null,
            "grid_template_rows": null,
            "height": null,
            "justify_content": null,
            "justify_items": null,
            "left": null,
            "margin": null,
            "max_height": null,
            "max_width": null,
            "min_height": null,
            "min_width": null,
            "object_fit": null,
            "object_position": null,
            "order": null,
            "overflow": null,
            "overflow_x": null,
            "overflow_y": null,
            "padding": null,
            "right": null,
            "top": null,
            "visibility": null,
            "width": null
          }
        },
        "f8abab53bc824f09b702c8b296619654": {
          "model_module": "@jupyter-widgets/controls",
          "model_name": "DescriptionStyleModel",
          "model_module_version": "1.5.0",
          "state": {
            "_model_module": "@jupyter-widgets/controls",
            "_model_module_version": "1.5.0",
            "_model_name": "DescriptionStyleModel",
            "_view_count": null,
            "_view_module": "@jupyter-widgets/base",
            "_view_module_version": "1.2.0",
            "_view_name": "StyleView",
            "description_width": ""
          }
        },
        "bae0e0ba5144470eaac74f21aa0cbb07": {
          "model_module": "@jupyter-widgets/base",
          "model_name": "LayoutModel",
          "model_module_version": "1.2.0",
          "state": {
            "_model_module": "@jupyter-widgets/base",
            "_model_module_version": "1.2.0",
            "_model_name": "LayoutModel",
            "_view_count": null,
            "_view_module": "@jupyter-widgets/base",
            "_view_module_version": "1.2.0",
            "_view_name": "LayoutView",
            "align_content": null,
            "align_items": null,
            "align_self": null,
            "border": null,
            "bottom": null,
            "display": null,
            "flex": null,
            "flex_flow": null,
            "grid_area": null,
            "grid_auto_columns": null,
            "grid_auto_flow": null,
            "grid_auto_rows": null,
            "grid_column": null,
            "grid_gap": null,
            "grid_row": null,
            "grid_template_areas": null,
            "grid_template_columns": null,
            "grid_template_rows": null,
            "height": null,
            "justify_content": null,
            "justify_items": null,
            "left": null,
            "margin": null,
            "max_height": null,
            "max_width": null,
            "min_height": null,
            "min_width": null,
            "object_fit": null,
            "object_position": null,
            "order": null,
            "overflow": null,
            "overflow_x": null,
            "overflow_y": null,
            "padding": null,
            "right": null,
            "top": null,
            "visibility": null,
            "width": null
          }
        },
        "ad91af2a7e3c45829982953c1bb501d2": {
          "model_module": "@jupyter-widgets/controls",
          "model_name": "ProgressStyleModel",
          "model_module_version": "1.5.0",
          "state": {
            "_model_module": "@jupyter-widgets/controls",
            "_model_module_version": "1.5.0",
            "_model_name": "ProgressStyleModel",
            "_view_count": null,
            "_view_module": "@jupyter-widgets/base",
            "_view_module_version": "1.2.0",
            "_view_name": "StyleView",
            "bar_color": null,
            "description_width": ""
          }
        },
        "f91d5ee6e27247f4a059853166e5b4fe": {
          "model_module": "@jupyter-widgets/base",
          "model_name": "LayoutModel",
          "model_module_version": "1.2.0",
          "state": {
            "_model_module": "@jupyter-widgets/base",
            "_model_module_version": "1.2.0",
            "_model_name": "LayoutModel",
            "_view_count": null,
            "_view_module": "@jupyter-widgets/base",
            "_view_module_version": "1.2.0",
            "_view_name": "LayoutView",
            "align_content": null,
            "align_items": null,
            "align_self": null,
            "border": null,
            "bottom": null,
            "display": null,
            "flex": null,
            "flex_flow": null,
            "grid_area": null,
            "grid_auto_columns": null,
            "grid_auto_flow": null,
            "grid_auto_rows": null,
            "grid_column": null,
            "grid_gap": null,
            "grid_row": null,
            "grid_template_areas": null,
            "grid_template_columns": null,
            "grid_template_rows": null,
            "height": null,
            "justify_content": null,
            "justify_items": null,
            "left": null,
            "margin": null,
            "max_height": null,
            "max_width": null,
            "min_height": null,
            "min_width": null,
            "object_fit": null,
            "object_position": null,
            "order": null,
            "overflow": null,
            "overflow_x": null,
            "overflow_y": null,
            "padding": null,
            "right": null,
            "top": null,
            "visibility": null,
            "width": null
          }
        },
        "38265dab297241e1bf43d8a26e7f03ac": {
          "model_module": "@jupyter-widgets/controls",
          "model_name": "DescriptionStyleModel",
          "model_module_version": "1.5.0",
          "state": {
            "_model_module": "@jupyter-widgets/controls",
            "_model_module_version": "1.5.0",
            "_model_name": "DescriptionStyleModel",
            "_view_count": null,
            "_view_module": "@jupyter-widgets/base",
            "_view_module_version": "1.2.0",
            "_view_name": "StyleView",
            "description_width": ""
          }
        },
        "29841427bc2b41fdba4e8c132cd30195": {
          "model_module": "@jupyter-widgets/controls",
          "model_name": "HBoxModel",
          "model_module_version": "1.5.0",
          "state": {
            "_dom_classes": [],
            "_model_module": "@jupyter-widgets/controls",
            "_model_module_version": "1.5.0",
            "_model_name": "HBoxModel",
            "_view_count": null,
            "_view_module": "@jupyter-widgets/controls",
            "_view_module_version": "1.5.0",
            "_view_name": "HBoxView",
            "box_style": "",
            "children": [
              "IPY_MODEL_562ec48d2b7e4e2e9429fc0c0d69b3a4",
              "IPY_MODEL_dc44ad673f8146e5bd9340bd908363c4",
              "IPY_MODEL_e10083426c0946a8bcb2ff97ff9cc05f"
            ],
            "layout": "IPY_MODEL_c86d37b1677c45cabe0adb68049a7d21"
          }
        },
        "562ec48d2b7e4e2e9429fc0c0d69b3a4": {
          "model_module": "@jupyter-widgets/controls",
          "model_name": "HTMLModel",
          "model_module_version": "1.5.0",
          "state": {
            "_dom_classes": [],
            "_model_module": "@jupyter-widgets/controls",
            "_model_module_version": "1.5.0",
            "_model_name": "HTMLModel",
            "_view_count": null,
            "_view_module": "@jupyter-widgets/controls",
            "_view_module_version": "1.5.0",
            "_view_name": "HTMLView",
            "description": "",
            "description_tooltip": null,
            "layout": "IPY_MODEL_b5a00643030547ad948fb6ec3667fedb",
            "placeholder": "​",
            "style": "IPY_MODEL_2f4022b7d8b14456ba33b9423beffa8e",
            "value": "Downloading: 100%"
          }
        },
        "dc44ad673f8146e5bd9340bd908363c4": {
          "model_module": "@jupyter-widgets/controls",
          "model_name": "FloatProgressModel",
          "model_module_version": "1.5.0",
          "state": {
            "_dom_classes": [],
            "_model_module": "@jupyter-widgets/controls",
            "_model_module_version": "1.5.0",
            "_model_name": "FloatProgressModel",
            "_view_count": null,
            "_view_module": "@jupyter-widgets/controls",
            "_view_module_version": "1.5.0",
            "_view_name": "ProgressView",
            "bar_style": "success",
            "description": "",
            "description_tooltip": null,
            "layout": "IPY_MODEL_a281da11a2324394ab905dbfea33e494",
            "max": 1436,
            "min": 0,
            "orientation": "horizontal",
            "style": "IPY_MODEL_149a0d1554ea4d63bd2570d191720dce",
            "value": 1436
          }
        },
        "e10083426c0946a8bcb2ff97ff9cc05f": {
          "model_module": "@jupyter-widgets/controls",
          "model_name": "HTMLModel",
          "model_module_version": "1.5.0",
          "state": {
            "_dom_classes": [],
            "_model_module": "@jupyter-widgets/controls",
            "_model_module_version": "1.5.0",
            "_model_name": "HTMLModel",
            "_view_count": null,
            "_view_module": "@jupyter-widgets/controls",
            "_view_module_version": "1.5.0",
            "_view_name": "HTMLView",
            "description": "",
            "description_tooltip": null,
            "layout": "IPY_MODEL_03f2de126a4e4ece89fa69696c3385d6",
            "placeholder": "​",
            "style": "IPY_MODEL_35ce67069e514bfc9d4226a4ca8d7031",
            "value": " 1.44k/1.44k [00:00&lt;00:00, 13.7kB/s]"
          }
        },
        "c86d37b1677c45cabe0adb68049a7d21": {
          "model_module": "@jupyter-widgets/base",
          "model_name": "LayoutModel",
          "model_module_version": "1.2.0",
          "state": {
            "_model_module": "@jupyter-widgets/base",
            "_model_module_version": "1.2.0",
            "_model_name": "LayoutModel",
            "_view_count": null,
            "_view_module": "@jupyter-widgets/base",
            "_view_module_version": "1.2.0",
            "_view_name": "LayoutView",
            "align_content": null,
            "align_items": null,
            "align_self": null,
            "border": null,
            "bottom": null,
            "display": null,
            "flex": null,
            "flex_flow": null,
            "grid_area": null,
            "grid_auto_columns": null,
            "grid_auto_flow": null,
            "grid_auto_rows": null,
            "grid_column": null,
            "grid_gap": null,
            "grid_row": null,
            "grid_template_areas": null,
            "grid_template_columns": null,
            "grid_template_rows": null,
            "height": null,
            "justify_content": null,
            "justify_items": null,
            "left": null,
            "margin": null,
            "max_height": null,
            "max_width": null,
            "min_height": null,
            "min_width": null,
            "object_fit": null,
            "object_position": null,
            "order": null,
            "overflow": null,
            "overflow_x": null,
            "overflow_y": null,
            "padding": null,
            "right": null,
            "top": null,
            "visibility": null,
            "width": null
          }
        },
        "b5a00643030547ad948fb6ec3667fedb": {
          "model_module": "@jupyter-widgets/base",
          "model_name": "LayoutModel",
          "model_module_version": "1.2.0",
          "state": {
            "_model_module": "@jupyter-widgets/base",
            "_model_module_version": "1.2.0",
            "_model_name": "LayoutModel",
            "_view_count": null,
            "_view_module": "@jupyter-widgets/base",
            "_view_module_version": "1.2.0",
            "_view_name": "LayoutView",
            "align_content": null,
            "align_items": null,
            "align_self": null,
            "border": null,
            "bottom": null,
            "display": null,
            "flex": null,
            "flex_flow": null,
            "grid_area": null,
            "grid_auto_columns": null,
            "grid_auto_flow": null,
            "grid_auto_rows": null,
            "grid_column": null,
            "grid_gap": null,
            "grid_row": null,
            "grid_template_areas": null,
            "grid_template_columns": null,
            "grid_template_rows": null,
            "height": null,
            "justify_content": null,
            "justify_items": null,
            "left": null,
            "margin": null,
            "max_height": null,
            "max_width": null,
            "min_height": null,
            "min_width": null,
            "object_fit": null,
            "object_position": null,
            "order": null,
            "overflow": null,
            "overflow_x": null,
            "overflow_y": null,
            "padding": null,
            "right": null,
            "top": null,
            "visibility": null,
            "width": null
          }
        },
        "2f4022b7d8b14456ba33b9423beffa8e": {
          "model_module": "@jupyter-widgets/controls",
          "model_name": "DescriptionStyleModel",
          "model_module_version": "1.5.0",
          "state": {
            "_model_module": "@jupyter-widgets/controls",
            "_model_module_version": "1.5.0",
            "_model_name": "DescriptionStyleModel",
            "_view_count": null,
            "_view_module": "@jupyter-widgets/base",
            "_view_module_version": "1.2.0",
            "_view_name": "StyleView",
            "description_width": ""
          }
        },
        "a281da11a2324394ab905dbfea33e494": {
          "model_module": "@jupyter-widgets/base",
          "model_name": "LayoutModel",
          "model_module_version": "1.2.0",
          "state": {
            "_model_module": "@jupyter-widgets/base",
            "_model_module_version": "1.2.0",
            "_model_name": "LayoutModel",
            "_view_count": null,
            "_view_module": "@jupyter-widgets/base",
            "_view_module_version": "1.2.0",
            "_view_name": "LayoutView",
            "align_content": null,
            "align_items": null,
            "align_self": null,
            "border": null,
            "bottom": null,
            "display": null,
            "flex": null,
            "flex_flow": null,
            "grid_area": null,
            "grid_auto_columns": null,
            "grid_auto_flow": null,
            "grid_auto_rows": null,
            "grid_column": null,
            "grid_gap": null,
            "grid_row": null,
            "grid_template_areas": null,
            "grid_template_columns": null,
            "grid_template_rows": null,
            "height": null,
            "justify_content": null,
            "justify_items": null,
            "left": null,
            "margin": null,
            "max_height": null,
            "max_width": null,
            "min_height": null,
            "min_width": null,
            "object_fit": null,
            "object_position": null,
            "order": null,
            "overflow": null,
            "overflow_x": null,
            "overflow_y": null,
            "padding": null,
            "right": null,
            "top": null,
            "visibility": null,
            "width": null
          }
        },
        "149a0d1554ea4d63bd2570d191720dce": {
          "model_module": "@jupyter-widgets/controls",
          "model_name": "ProgressStyleModel",
          "model_module_version": "1.5.0",
          "state": {
            "_model_module": "@jupyter-widgets/controls",
            "_model_module_version": "1.5.0",
            "_model_name": "ProgressStyleModel",
            "_view_count": null,
            "_view_module": "@jupyter-widgets/base",
            "_view_module_version": "1.2.0",
            "_view_name": "StyleView",
            "bar_color": null,
            "description_width": ""
          }
        },
        "03f2de126a4e4ece89fa69696c3385d6": {
          "model_module": "@jupyter-widgets/base",
          "model_name": "LayoutModel",
          "model_module_version": "1.2.0",
          "state": {
            "_model_module": "@jupyter-widgets/base",
            "_model_module_version": "1.2.0",
            "_model_name": "LayoutModel",
            "_view_count": null,
            "_view_module": "@jupyter-widgets/base",
            "_view_module_version": "1.2.0",
            "_view_name": "LayoutView",
            "align_content": null,
            "align_items": null,
            "align_self": null,
            "border": null,
            "bottom": null,
            "display": null,
            "flex": null,
            "flex_flow": null,
            "grid_area": null,
            "grid_auto_columns": null,
            "grid_auto_flow": null,
            "grid_auto_rows": null,
            "grid_column": null,
            "grid_gap": null,
            "grid_row": null,
            "grid_template_areas": null,
            "grid_template_columns": null,
            "grid_template_rows": null,
            "height": null,
            "justify_content": null,
            "justify_items": null,
            "left": null,
            "margin": null,
            "max_height": null,
            "max_width": null,
            "min_height": null,
            "min_width": null,
            "object_fit": null,
            "object_position": null,
            "order": null,
            "overflow": null,
            "overflow_x": null,
            "overflow_y": null,
            "padding": null,
            "right": null,
            "top": null,
            "visibility": null,
            "width": null
          }
        },
        "35ce67069e514bfc9d4226a4ca8d7031": {
          "model_module": "@jupyter-widgets/controls",
          "model_name": "DescriptionStyleModel",
          "model_module_version": "1.5.0",
          "state": {
            "_model_module": "@jupyter-widgets/controls",
            "_model_module_version": "1.5.0",
            "_model_name": "DescriptionStyleModel",
            "_view_count": null,
            "_view_module": "@jupyter-widgets/base",
            "_view_module_version": "1.2.0",
            "_view_name": "StyleView",
            "description_width": ""
          }
        },
        "2c173c0dd047464a93e23ee51c964317": {
          "model_module": "@jupyter-widgets/controls",
          "model_name": "HBoxModel",
          "model_module_version": "1.5.0",
          "state": {
            "_dom_classes": [],
            "_model_module": "@jupyter-widgets/controls",
            "_model_module_version": "1.5.0",
            "_model_name": "HBoxModel",
            "_view_count": null,
            "_view_module": "@jupyter-widgets/controls",
            "_view_module_version": "1.5.0",
            "_view_name": "HBoxView",
            "box_style": "",
            "children": [
              "IPY_MODEL_b95aca1bedd741dcbadfcfee32e5cde8",
              "IPY_MODEL_c0be47ba157849aabd7dc858fb9f17d8",
              "IPY_MODEL_d34babaca3a94036ab1986bbe69fb913"
            ],
            "layout": "IPY_MODEL_930faf2d4012478ca91d48a675bab480"
          }
        },
        "b95aca1bedd741dcbadfcfee32e5cde8": {
          "model_module": "@jupyter-widgets/controls",
          "model_name": "HTMLModel",
          "model_module_version": "1.5.0",
          "state": {
            "_dom_classes": [],
            "_model_module": "@jupyter-widgets/controls",
            "_model_module_version": "1.5.0",
            "_model_name": "HTMLModel",
            "_view_count": null,
            "_view_module": "@jupyter-widgets/controls",
            "_view_module_version": "1.5.0",
            "_view_name": "HTMLView",
            "description": "",
            "description_tooltip": null,
            "layout": "IPY_MODEL_2d1b3325011f460d9d60e6709891d93e",
            "placeholder": "​",
            "style": "IPY_MODEL_be2f0787841a4eff91344ec23899ed6e",
            "value": "Downloading: 100%"
          }
        },
        "c0be47ba157849aabd7dc858fb9f17d8": {
          "model_module": "@jupyter-widgets/controls",
          "model_name": "FloatProgressModel",
          "model_module_version": "1.5.0",
          "state": {
            "_dom_classes": [],
            "_model_module": "@jupyter-widgets/controls",
            "_model_module_version": "1.5.0",
            "_model_name": "FloatProgressModel",
            "_view_count": null,
            "_view_module": "@jupyter-widgets/controls",
            "_view_module_version": "1.5.0",
            "_view_name": "ProgressView",
            "bar_style": "success",
            "description": "",
            "description_tooltip": null,
            "layout": "IPY_MODEL_a017cb10159a4afc8759ea7c2ce23abc",
            "max": 1274,
            "min": 0,
            "orientation": "horizontal",
            "style": "IPY_MODEL_3cbae9ab5fbf4e41aa0184b0450925a3",
            "value": 1274
          }
        },
        "d34babaca3a94036ab1986bbe69fb913": {
          "model_module": "@jupyter-widgets/controls",
          "model_name": "HTMLModel",
          "model_module_version": "1.5.0",
          "state": {
            "_dom_classes": [],
            "_model_module": "@jupyter-widgets/controls",
            "_model_module_version": "1.5.0",
            "_model_name": "HTMLModel",
            "_view_count": null,
            "_view_module": "@jupyter-widgets/controls",
            "_view_module_version": "1.5.0",
            "_view_name": "HTMLView",
            "description": "",
            "description_tooltip": null,
            "layout": "IPY_MODEL_9222ff4cc7d546b3b073ac74fe0e80d8",
            "placeholder": "​",
            "style": "IPY_MODEL_c875a4c93e6c4e23ac2847029415379a",
            "value": " 1.27k/1.27k [00:00&lt;00:00, 58.3kB/s]"
          }
        },
        "930faf2d4012478ca91d48a675bab480": {
          "model_module": "@jupyter-widgets/base",
          "model_name": "LayoutModel",
          "model_module_version": "1.2.0",
          "state": {
            "_model_module": "@jupyter-widgets/base",
            "_model_module_version": "1.2.0",
            "_model_name": "LayoutModel",
            "_view_count": null,
            "_view_module": "@jupyter-widgets/base",
            "_view_module_version": "1.2.0",
            "_view_name": "LayoutView",
            "align_content": null,
            "align_items": null,
            "align_self": null,
            "border": null,
            "bottom": null,
            "display": null,
            "flex": null,
            "flex_flow": null,
            "grid_area": null,
            "grid_auto_columns": null,
            "grid_auto_flow": null,
            "grid_auto_rows": null,
            "grid_column": null,
            "grid_gap": null,
            "grid_row": null,
            "grid_template_areas": null,
            "grid_template_columns": null,
            "grid_template_rows": null,
            "height": null,
            "justify_content": null,
            "justify_items": null,
            "left": null,
            "margin": null,
            "max_height": null,
            "max_width": null,
            "min_height": null,
            "min_width": null,
            "object_fit": null,
            "object_position": null,
            "order": null,
            "overflow": null,
            "overflow_x": null,
            "overflow_y": null,
            "padding": null,
            "right": null,
            "top": null,
            "visibility": null,
            "width": null
          }
        },
        "2d1b3325011f460d9d60e6709891d93e": {
          "model_module": "@jupyter-widgets/base",
          "model_name": "LayoutModel",
          "model_module_version": "1.2.0",
          "state": {
            "_model_module": "@jupyter-widgets/base",
            "_model_module_version": "1.2.0",
            "_model_name": "LayoutModel",
            "_view_count": null,
            "_view_module": "@jupyter-widgets/base",
            "_view_module_version": "1.2.0",
            "_view_name": "LayoutView",
            "align_content": null,
            "align_items": null,
            "align_self": null,
            "border": null,
            "bottom": null,
            "display": null,
            "flex": null,
            "flex_flow": null,
            "grid_area": null,
            "grid_auto_columns": null,
            "grid_auto_flow": null,
            "grid_auto_rows": null,
            "grid_column": null,
            "grid_gap": null,
            "grid_row": null,
            "grid_template_areas": null,
            "grid_template_columns": null,
            "grid_template_rows": null,
            "height": null,
            "justify_content": null,
            "justify_items": null,
            "left": null,
            "margin": null,
            "max_height": null,
            "max_width": null,
            "min_height": null,
            "min_width": null,
            "object_fit": null,
            "object_position": null,
            "order": null,
            "overflow": null,
            "overflow_x": null,
            "overflow_y": null,
            "padding": null,
            "right": null,
            "top": null,
            "visibility": null,
            "width": null
          }
        },
        "be2f0787841a4eff91344ec23899ed6e": {
          "model_module": "@jupyter-widgets/controls",
          "model_name": "DescriptionStyleModel",
          "model_module_version": "1.5.0",
          "state": {
            "_model_module": "@jupyter-widgets/controls",
            "_model_module_version": "1.5.0",
            "_model_name": "DescriptionStyleModel",
            "_view_count": null,
            "_view_module": "@jupyter-widgets/base",
            "_view_module_version": "1.2.0",
            "_view_name": "StyleView",
            "description_width": ""
          }
        },
        "a017cb10159a4afc8759ea7c2ce23abc": {
          "model_module": "@jupyter-widgets/base",
          "model_name": "LayoutModel",
          "model_module_version": "1.2.0",
          "state": {
            "_model_module": "@jupyter-widgets/base",
            "_model_module_version": "1.2.0",
            "_model_name": "LayoutModel",
            "_view_count": null,
            "_view_module": "@jupyter-widgets/base",
            "_view_module_version": "1.2.0",
            "_view_name": "LayoutView",
            "align_content": null,
            "align_items": null,
            "align_self": null,
            "border": null,
            "bottom": null,
            "display": null,
            "flex": null,
            "flex_flow": null,
            "grid_area": null,
            "grid_auto_columns": null,
            "grid_auto_flow": null,
            "grid_auto_rows": null,
            "grid_column": null,
            "grid_gap": null,
            "grid_row": null,
            "grid_template_areas": null,
            "grid_template_columns": null,
            "grid_template_rows": null,
            "height": null,
            "justify_content": null,
            "justify_items": null,
            "left": null,
            "margin": null,
            "max_height": null,
            "max_width": null,
            "min_height": null,
            "min_width": null,
            "object_fit": null,
            "object_position": null,
            "order": null,
            "overflow": null,
            "overflow_x": null,
            "overflow_y": null,
            "padding": null,
            "right": null,
            "top": null,
            "visibility": null,
            "width": null
          }
        },
        "3cbae9ab5fbf4e41aa0184b0450925a3": {
          "model_module": "@jupyter-widgets/controls",
          "model_name": "ProgressStyleModel",
          "model_module_version": "1.5.0",
          "state": {
            "_model_module": "@jupyter-widgets/controls",
            "_model_module_version": "1.5.0",
            "_model_name": "ProgressStyleModel",
            "_view_count": null,
            "_view_module": "@jupyter-widgets/base",
            "_view_module_version": "1.2.0",
            "_view_name": "StyleView",
            "bar_color": null,
            "description_width": ""
          }
        },
        "9222ff4cc7d546b3b073ac74fe0e80d8": {
          "model_module": "@jupyter-widgets/base",
          "model_name": "LayoutModel",
          "model_module_version": "1.2.0",
          "state": {
            "_model_module": "@jupyter-widgets/base",
            "_model_module_version": "1.2.0",
            "_model_name": "LayoutModel",
            "_view_count": null,
            "_view_module": "@jupyter-widgets/base",
            "_view_module_version": "1.2.0",
            "_view_name": "LayoutView",
            "align_content": null,
            "align_items": null,
            "align_self": null,
            "border": null,
            "bottom": null,
            "display": null,
            "flex": null,
            "flex_flow": null,
            "grid_area": null,
            "grid_auto_columns": null,
            "grid_auto_flow": null,
            "grid_auto_rows": null,
            "grid_column": null,
            "grid_gap": null,
            "grid_row": null,
            "grid_template_areas": null,
            "grid_template_columns": null,
            "grid_template_rows": null,
            "height": null,
            "justify_content": null,
            "justify_items": null,
            "left": null,
            "margin": null,
            "max_height": null,
            "max_width": null,
            "min_height": null,
            "min_width": null,
            "object_fit": null,
            "object_position": null,
            "order": null,
            "overflow": null,
            "overflow_x": null,
            "overflow_y": null,
            "padding": null,
            "right": null,
            "top": null,
            "visibility": null,
            "width": null
          }
        },
        "c875a4c93e6c4e23ac2847029415379a": {
          "model_module": "@jupyter-widgets/controls",
          "model_name": "DescriptionStyleModel",
          "model_module_version": "1.5.0",
          "state": {
            "_model_module": "@jupyter-widgets/controls",
            "_model_module_version": "1.5.0",
            "_model_name": "DescriptionStyleModel",
            "_view_count": null,
            "_view_module": "@jupyter-widgets/base",
            "_view_module_version": "1.2.0",
            "_view_name": "StyleView",
            "description_width": ""
          }
        },
        "2baecc507c1d47b9adf18943052d6895": {
          "model_module": "@jupyter-widgets/controls",
          "model_name": "HBoxModel",
          "model_module_version": "1.5.0",
          "state": {
            "_dom_classes": [],
            "_model_module": "@jupyter-widgets/controls",
            "_model_module_version": "1.5.0",
            "_model_name": "HBoxModel",
            "_view_count": null,
            "_view_module": "@jupyter-widgets/controls",
            "_view_module_version": "1.5.0",
            "_view_name": "HBoxView",
            "box_style": "",
            "children": [
              "IPY_MODEL_16df699232ae4ab0bc6295ae2e36d86e",
              "IPY_MODEL_91abf303dd5c4e4990cfa65be68b0c5d",
              "IPY_MODEL_0b17f396d9f94a3db944a5953332518e"
            ],
            "layout": "IPY_MODEL_714423f2f0204b6186f10a28c680aa8e"
          }
        },
        "16df699232ae4ab0bc6295ae2e36d86e": {
          "model_module": "@jupyter-widgets/controls",
          "model_name": "HTMLModel",
          "model_module_version": "1.5.0",
          "state": {
            "_dom_classes": [],
            "_model_module": "@jupyter-widgets/controls",
            "_model_module_version": "1.5.0",
            "_model_name": "HTMLModel",
            "_view_count": null,
            "_view_module": "@jupyter-widgets/controls",
            "_view_module_version": "1.5.0",
            "_view_name": "HTMLView",
            "description": "",
            "description_tooltip": null,
            "layout": "IPY_MODEL_5edda5e1ece74fb885756075149a3065",
            "placeholder": "​",
            "style": "IPY_MODEL_4c5b9e55cd8a433e81bbe573be24c1ec",
            "value": "Downloading: 100%"
          }
        },
        "91abf303dd5c4e4990cfa65be68b0c5d": {
          "model_module": "@jupyter-widgets/controls",
          "model_name": "FloatProgressModel",
          "model_module_version": "1.5.0",
          "state": {
            "_dom_classes": [],
            "_model_module": "@jupyter-widgets/controls",
            "_model_module_version": "1.5.0",
            "_model_name": "FloatProgressModel",
            "_view_count": null,
            "_view_module": "@jupyter-widgets/controls",
            "_view_module_version": "1.5.0",
            "_view_name": "ProgressView",
            "bar_style": "success",
            "description": "",
            "description_tooltip": null,
            "layout": "IPY_MODEL_26d43011ad174725ad9a7fa1bdb4c053",
            "max": 2275419259,
            "min": 0,
            "orientation": "horizontal",
            "style": "IPY_MODEL_59d859d13ace4e6f832987b9187b38b6",
            "value": 2275419259
          }
        },
        "0b17f396d9f94a3db944a5953332518e": {
          "model_module": "@jupyter-widgets/controls",
          "model_name": "HTMLModel",
          "model_module_version": "1.5.0",
          "state": {
            "_dom_classes": [],
            "_model_module": "@jupyter-widgets/controls",
            "_model_module_version": "1.5.0",
            "_model_name": "HTMLModel",
            "_view_count": null,
            "_view_module": "@jupyter-widgets/controls",
            "_view_module_version": "1.5.0",
            "_view_name": "HTMLView",
            "description": "",
            "description_tooltip": null,
            "layout": "IPY_MODEL_a81758c91e9b415db25f0e0523bea852",
            "placeholder": "​",
            "style": "IPY_MODEL_3a50f0def811414883b1dd08d1b659bf",
            "value": " 2.28G/2.28G [01:01&lt;00:00, 55.7MB/s]"
          }
        },
        "714423f2f0204b6186f10a28c680aa8e": {
          "model_module": "@jupyter-widgets/base",
          "model_name": "LayoutModel",
          "model_module_version": "1.2.0",
          "state": {
            "_model_module": "@jupyter-widgets/base",
            "_model_module_version": "1.2.0",
            "_model_name": "LayoutModel",
            "_view_count": null,
            "_view_module": "@jupyter-widgets/base",
            "_view_module_version": "1.2.0",
            "_view_name": "LayoutView",
            "align_content": null,
            "align_items": null,
            "align_self": null,
            "border": null,
            "bottom": null,
            "display": null,
            "flex": null,
            "flex_flow": null,
            "grid_area": null,
            "grid_auto_columns": null,
            "grid_auto_flow": null,
            "grid_auto_rows": null,
            "grid_column": null,
            "grid_gap": null,
            "grid_row": null,
            "grid_template_areas": null,
            "grid_template_columns": null,
            "grid_template_rows": null,
            "height": null,
            "justify_content": null,
            "justify_items": null,
            "left": null,
            "margin": null,
            "max_height": null,
            "max_width": null,
            "min_height": null,
            "min_width": null,
            "object_fit": null,
            "object_position": null,
            "order": null,
            "overflow": null,
            "overflow_x": null,
            "overflow_y": null,
            "padding": null,
            "right": null,
            "top": null,
            "visibility": null,
            "width": null
          }
        },
        "5edda5e1ece74fb885756075149a3065": {
          "model_module": "@jupyter-widgets/base",
          "model_name": "LayoutModel",
          "model_module_version": "1.2.0",
          "state": {
            "_model_module": "@jupyter-widgets/base",
            "_model_module_version": "1.2.0",
            "_model_name": "LayoutModel",
            "_view_count": null,
            "_view_module": "@jupyter-widgets/base",
            "_view_module_version": "1.2.0",
            "_view_name": "LayoutView",
            "align_content": null,
            "align_items": null,
            "align_self": null,
            "border": null,
            "bottom": null,
            "display": null,
            "flex": null,
            "flex_flow": null,
            "grid_area": null,
            "grid_auto_columns": null,
            "grid_auto_flow": null,
            "grid_auto_rows": null,
            "grid_column": null,
            "grid_gap": null,
            "grid_row": null,
            "grid_template_areas": null,
            "grid_template_columns": null,
            "grid_template_rows": null,
            "height": null,
            "justify_content": null,
            "justify_items": null,
            "left": null,
            "margin": null,
            "max_height": null,
            "max_width": null,
            "min_height": null,
            "min_width": null,
            "object_fit": null,
            "object_position": null,
            "order": null,
            "overflow": null,
            "overflow_x": null,
            "overflow_y": null,
            "padding": null,
            "right": null,
            "top": null,
            "visibility": null,
            "width": null
          }
        },
        "4c5b9e55cd8a433e81bbe573be24c1ec": {
          "model_module": "@jupyter-widgets/controls",
          "model_name": "DescriptionStyleModel",
          "model_module_version": "1.5.0",
          "state": {
            "_model_module": "@jupyter-widgets/controls",
            "_model_module_version": "1.5.0",
            "_model_name": "DescriptionStyleModel",
            "_view_count": null,
            "_view_module": "@jupyter-widgets/base",
            "_view_module_version": "1.2.0",
            "_view_name": "StyleView",
            "description_width": ""
          }
        },
        "26d43011ad174725ad9a7fa1bdb4c053": {
          "model_module": "@jupyter-widgets/base",
          "model_name": "LayoutModel",
          "model_module_version": "1.2.0",
          "state": {
            "_model_module": "@jupyter-widgets/base",
            "_model_module_version": "1.2.0",
            "_model_name": "LayoutModel",
            "_view_count": null,
            "_view_module": "@jupyter-widgets/base",
            "_view_module_version": "1.2.0",
            "_view_name": "LayoutView",
            "align_content": null,
            "align_items": null,
            "align_self": null,
            "border": null,
            "bottom": null,
            "display": null,
            "flex": null,
            "flex_flow": null,
            "grid_area": null,
            "grid_auto_columns": null,
            "grid_auto_flow": null,
            "grid_auto_rows": null,
            "grid_column": null,
            "grid_gap": null,
            "grid_row": null,
            "grid_template_areas": null,
            "grid_template_columns": null,
            "grid_template_rows": null,
            "height": null,
            "justify_content": null,
            "justify_items": null,
            "left": null,
            "margin": null,
            "max_height": null,
            "max_width": null,
            "min_height": null,
            "min_width": null,
            "object_fit": null,
            "object_position": null,
            "order": null,
            "overflow": null,
            "overflow_x": null,
            "overflow_y": null,
            "padding": null,
            "right": null,
            "top": null,
            "visibility": null,
            "width": null
          }
        },
        "59d859d13ace4e6f832987b9187b38b6": {
          "model_module": "@jupyter-widgets/controls",
          "model_name": "ProgressStyleModel",
          "model_module_version": "1.5.0",
          "state": {
            "_model_module": "@jupyter-widgets/controls",
            "_model_module_version": "1.5.0",
            "_model_name": "ProgressStyleModel",
            "_view_count": null,
            "_view_module": "@jupyter-widgets/base",
            "_view_module_version": "1.2.0",
            "_view_name": "StyleView",
            "bar_color": null,
            "description_width": ""
          }
        },
        "a81758c91e9b415db25f0e0523bea852": {
          "model_module": "@jupyter-widgets/base",
          "model_name": "LayoutModel",
          "model_module_version": "1.2.0",
          "state": {
            "_model_module": "@jupyter-widgets/base",
            "_model_module_version": "1.2.0",
            "_model_name": "LayoutModel",
            "_view_count": null,
            "_view_module": "@jupyter-widgets/base",
            "_view_module_version": "1.2.0",
            "_view_name": "LayoutView",
            "align_content": null,
            "align_items": null,
            "align_self": null,
            "border": null,
            "bottom": null,
            "display": null,
            "flex": null,
            "flex_flow": null,
            "grid_area": null,
            "grid_auto_columns": null,
            "grid_auto_flow": null,
            "grid_auto_rows": null,
            "grid_column": null,
            "grid_gap": null,
            "grid_row": null,
            "grid_template_areas": null,
            "grid_template_columns": null,
            "grid_template_rows": null,
            "height": null,
            "justify_content": null,
            "justify_items": null,
            "left": null,
            "margin": null,
            "max_height": null,
            "max_width": null,
            "min_height": null,
            "min_width": null,
            "object_fit": null,
            "object_position": null,
            "order": null,
            "overflow": null,
            "overflow_x": null,
            "overflow_y": null,
            "padding": null,
            "right": null,
            "top": null,
            "visibility": null,
            "width": null
          }
        },
        "3a50f0def811414883b1dd08d1b659bf": {
          "model_module": "@jupyter-widgets/controls",
          "model_name": "DescriptionStyleModel",
          "model_module_version": "1.5.0",
          "state": {
            "_model_module": "@jupyter-widgets/controls",
            "_model_module_version": "1.5.0",
            "_model_name": "DescriptionStyleModel",
            "_view_count": null,
            "_view_module": "@jupyter-widgets/base",
            "_view_module_version": "1.2.0",
            "_view_name": "StyleView",
            "description_width": ""
          }
        },
        "187c511a00f64003b248b0efa298464f": {
          "model_module": "@jupyter-widgets/controls",
          "model_name": "HBoxModel",
          "model_module_version": "1.5.0",
          "state": {
            "_dom_classes": [],
            "_model_module": "@jupyter-widgets/controls",
            "_model_module_version": "1.5.0",
            "_model_name": "HBoxModel",
            "_view_count": null,
            "_view_module": "@jupyter-widgets/controls",
            "_view_module_version": "1.5.0",
            "_view_name": "HBoxView",
            "box_style": "",
            "children": [
              "IPY_MODEL_73cb5a97716b46f0b2ba412442686472",
              "IPY_MODEL_165a1a058e66492088f47e23ca030e53",
              "IPY_MODEL_83967d51b0d34a42a38d6039e2cc2ead"
            ],
            "layout": "IPY_MODEL_f1af6b2e6e144c668a0b40b9c872d5ad"
          }
        },
        "73cb5a97716b46f0b2ba412442686472": {
          "model_module": "@jupyter-widgets/controls",
          "model_name": "HTMLModel",
          "model_module_version": "1.5.0",
          "state": {
            "_dom_classes": [],
            "_model_module": "@jupyter-widgets/controls",
            "_model_module_version": "1.5.0",
            "_model_name": "HTMLModel",
            "_view_count": null,
            "_view_module": "@jupyter-widgets/controls",
            "_view_module_version": "1.5.0",
            "_view_name": "HTMLView",
            "description": "",
            "description_tooltip": null,
            "layout": "IPY_MODEL_4a84e0065842409fb9bb3aee2c3b7e78",
            "placeholder": "​",
            "style": "IPY_MODEL_77084dff20f54fee972c59df65e17689",
            "value": "Downloading: 100%"
          }
        },
        "165a1a058e66492088f47e23ca030e53": {
          "model_module": "@jupyter-widgets/controls",
          "model_name": "FloatProgressModel",
          "model_module_version": "1.5.0",
          "state": {
            "_dom_classes": [],
            "_model_module": "@jupyter-widgets/controls",
            "_model_module_version": "1.5.0",
            "_model_name": "FloatProgressModel",
            "_view_count": null,
            "_view_module": "@jupyter-widgets/controls",
            "_view_module_version": "1.5.0",
            "_view_name": "ProgressView",
            "bar_style": "success",
            "description": "",
            "description_tooltip": null,
            "layout": "IPY_MODEL_1759ba0417994470aa71c057ae0f45f9",
            "max": 629,
            "min": 0,
            "orientation": "horizontal",
            "style": "IPY_MODEL_0c6bd24cb5d9457dbdc241f833565b10",
            "value": 629
          }
        },
        "83967d51b0d34a42a38d6039e2cc2ead": {
          "model_module": "@jupyter-widgets/controls",
          "model_name": "HTMLModel",
          "model_module_version": "1.5.0",
          "state": {
            "_dom_classes": [],
            "_model_module": "@jupyter-widgets/controls",
            "_model_module_version": "1.5.0",
            "_model_name": "HTMLModel",
            "_view_count": null,
            "_view_module": "@jupyter-widgets/controls",
            "_view_module_version": "1.5.0",
            "_view_name": "HTMLView",
            "description": "",
            "description_tooltip": null,
            "layout": "IPY_MODEL_9bddd0c6cf5d4596bb0b26fa8c08077c",
            "placeholder": "​",
            "style": "IPY_MODEL_99c89d6693ee459bb610207b7864ca13",
            "value": " 629/629 [00:00&lt;00:00, 19.3kB/s]"
          }
        },
        "f1af6b2e6e144c668a0b40b9c872d5ad": {
          "model_module": "@jupyter-widgets/base",
          "model_name": "LayoutModel",
          "model_module_version": "1.2.0",
          "state": {
            "_model_module": "@jupyter-widgets/base",
            "_model_module_version": "1.2.0",
            "_model_name": "LayoutModel",
            "_view_count": null,
            "_view_module": "@jupyter-widgets/base",
            "_view_module_version": "1.2.0",
            "_view_name": "LayoutView",
            "align_content": null,
            "align_items": null,
            "align_self": null,
            "border": null,
            "bottom": null,
            "display": null,
            "flex": null,
            "flex_flow": null,
            "grid_area": null,
            "grid_auto_columns": null,
            "grid_auto_flow": null,
            "grid_auto_rows": null,
            "grid_column": null,
            "grid_gap": null,
            "grid_row": null,
            "grid_template_areas": null,
            "grid_template_columns": null,
            "grid_template_rows": null,
            "height": null,
            "justify_content": null,
            "justify_items": null,
            "left": null,
            "margin": null,
            "max_height": null,
            "max_width": null,
            "min_height": null,
            "min_width": null,
            "object_fit": null,
            "object_position": null,
            "order": null,
            "overflow": null,
            "overflow_x": null,
            "overflow_y": null,
            "padding": null,
            "right": null,
            "top": null,
            "visibility": null,
            "width": null
          }
        },
        "4a84e0065842409fb9bb3aee2c3b7e78": {
          "model_module": "@jupyter-widgets/base",
          "model_name": "LayoutModel",
          "model_module_version": "1.2.0",
          "state": {
            "_model_module": "@jupyter-widgets/base",
            "_model_module_version": "1.2.0",
            "_model_name": "LayoutModel",
            "_view_count": null,
            "_view_module": "@jupyter-widgets/base",
            "_view_module_version": "1.2.0",
            "_view_name": "LayoutView",
            "align_content": null,
            "align_items": null,
            "align_self": null,
            "border": null,
            "bottom": null,
            "display": null,
            "flex": null,
            "flex_flow": null,
            "grid_area": null,
            "grid_auto_columns": null,
            "grid_auto_flow": null,
            "grid_auto_rows": null,
            "grid_column": null,
            "grid_gap": null,
            "grid_row": null,
            "grid_template_areas": null,
            "grid_template_columns": null,
            "grid_template_rows": null,
            "height": null,
            "justify_content": null,
            "justify_items": null,
            "left": null,
            "margin": null,
            "max_height": null,
            "max_width": null,
            "min_height": null,
            "min_width": null,
            "object_fit": null,
            "object_position": null,
            "order": null,
            "overflow": null,
            "overflow_x": null,
            "overflow_y": null,
            "padding": null,
            "right": null,
            "top": null,
            "visibility": null,
            "width": null
          }
        },
        "77084dff20f54fee972c59df65e17689": {
          "model_module": "@jupyter-widgets/controls",
          "model_name": "DescriptionStyleModel",
          "model_module_version": "1.5.0",
          "state": {
            "_model_module": "@jupyter-widgets/controls",
            "_model_module_version": "1.5.0",
            "_model_name": "DescriptionStyleModel",
            "_view_count": null,
            "_view_module": "@jupyter-widgets/base",
            "_view_module_version": "1.2.0",
            "_view_name": "StyleView",
            "description_width": ""
          }
        },
        "1759ba0417994470aa71c057ae0f45f9": {
          "model_module": "@jupyter-widgets/base",
          "model_name": "LayoutModel",
          "model_module_version": "1.2.0",
          "state": {
            "_model_module": "@jupyter-widgets/base",
            "_model_module_version": "1.2.0",
            "_model_name": "LayoutModel",
            "_view_count": null,
            "_view_module": "@jupyter-widgets/base",
            "_view_module_version": "1.2.0",
            "_view_name": "LayoutView",
            "align_content": null,
            "align_items": null,
            "align_self": null,
            "border": null,
            "bottom": null,
            "display": null,
            "flex": null,
            "flex_flow": null,
            "grid_area": null,
            "grid_auto_columns": null,
            "grid_auto_flow": null,
            "grid_auto_rows": null,
            "grid_column": null,
            "grid_gap": null,
            "grid_row": null,
            "grid_template_areas": null,
            "grid_template_columns": null,
            "grid_template_rows": null,
            "height": null,
            "justify_content": null,
            "justify_items": null,
            "left": null,
            "margin": null,
            "max_height": null,
            "max_width": null,
            "min_height": null,
            "min_width": null,
            "object_fit": null,
            "object_position": null,
            "order": null,
            "overflow": null,
            "overflow_x": null,
            "overflow_y": null,
            "padding": null,
            "right": null,
            "top": null,
            "visibility": null,
            "width": null
          }
        },
        "0c6bd24cb5d9457dbdc241f833565b10": {
          "model_module": "@jupyter-widgets/controls",
          "model_name": "ProgressStyleModel",
          "model_module_version": "1.5.0",
          "state": {
            "_model_module": "@jupyter-widgets/controls",
            "_model_module_version": "1.5.0",
            "_model_name": "ProgressStyleModel",
            "_view_count": null,
            "_view_module": "@jupyter-widgets/base",
            "_view_module_version": "1.2.0",
            "_view_name": "StyleView",
            "bar_color": null,
            "description_width": ""
          }
        },
        "9bddd0c6cf5d4596bb0b26fa8c08077c": {
          "model_module": "@jupyter-widgets/base",
          "model_name": "LayoutModel",
          "model_module_version": "1.2.0",
          "state": {
            "_model_module": "@jupyter-widgets/base",
            "_model_module_version": "1.2.0",
            "_model_name": "LayoutModel",
            "_view_count": null,
            "_view_module": "@jupyter-widgets/base",
            "_view_module_version": "1.2.0",
            "_view_name": "LayoutView",
            "align_content": null,
            "align_items": null,
            "align_self": null,
            "border": null,
            "bottom": null,
            "display": null,
            "flex": null,
            "flex_flow": null,
            "grid_area": null,
            "grid_auto_columns": null,
            "grid_auto_flow": null,
            "grid_auto_rows": null,
            "grid_column": null,
            "grid_gap": null,
            "grid_row": null,
            "grid_template_areas": null,
            "grid_template_columns": null,
            "grid_template_rows": null,
            "height": null,
            "justify_content": null,
            "justify_items": null,
            "left": null,
            "margin": null,
            "max_height": null,
            "max_width": null,
            "min_height": null,
            "min_width": null,
            "object_fit": null,
            "object_position": null,
            "order": null,
            "overflow": null,
            "overflow_x": null,
            "overflow_y": null,
            "padding": null,
            "right": null,
            "top": null,
            "visibility": null,
            "width": null
          }
        },
        "99c89d6693ee459bb610207b7864ca13": {
          "model_module": "@jupyter-widgets/controls",
          "model_name": "DescriptionStyleModel",
          "model_module_version": "1.5.0",
          "state": {
            "_model_module": "@jupyter-widgets/controls",
            "_model_module_version": "1.5.0",
            "_model_name": "DescriptionStyleModel",
            "_view_count": null,
            "_view_module": "@jupyter-widgets/base",
            "_view_module_version": "1.2.0",
            "_view_name": "StyleView",
            "description_width": ""
          }
        },
        "66e25ebd54d048f7b457fe6f49104155": {
          "model_module": "@jupyter-widgets/controls",
          "model_name": "HBoxModel",
          "model_module_version": "1.5.0",
          "state": {
            "_dom_classes": [],
            "_model_module": "@jupyter-widgets/controls",
            "_model_module_version": "1.5.0",
            "_model_name": "HBoxModel",
            "_view_count": null,
            "_view_module": "@jupyter-widgets/controls",
            "_view_module_version": "1.5.0",
            "_view_name": "HBoxView",
            "box_style": "",
            "children": [
              "IPY_MODEL_58130482481a4bc68f89f8d3fbf5c4f0",
              "IPY_MODEL_1d95ce0f69664b4fb3bc78df1baf79ae",
              "IPY_MODEL_8f4308bb97af406095dedec95e7f557a"
            ],
            "layout": "IPY_MODEL_fa32f222ac4c4290a550f50544ad51c7"
          }
        },
        "58130482481a4bc68f89f8d3fbf5c4f0": {
          "model_module": "@jupyter-widgets/controls",
          "model_name": "HTMLModel",
          "model_module_version": "1.5.0",
          "state": {
            "_dom_classes": [],
            "_model_module": "@jupyter-widgets/controls",
            "_model_module_version": "1.5.0",
            "_model_name": "HTMLModel",
            "_view_count": null,
            "_view_module": "@jupyter-widgets/controls",
            "_view_module_version": "1.5.0",
            "_view_name": "HTMLView",
            "description": "",
            "description_tooltip": null,
            "layout": "IPY_MODEL_871148e3f3d14dcfb6006ed098e6744b",
            "placeholder": "​",
            "style": "IPY_MODEL_35302c825a834ba7974b36a63f38b4dd",
            "value": "Downloading: 100%"
          }
        },
        "1d95ce0f69664b4fb3bc78df1baf79ae": {
          "model_module": "@jupyter-widgets/controls",
          "model_name": "FloatProgressModel",
          "model_module_version": "1.5.0",
          "state": {
            "_dom_classes": [],
            "_model_module": "@jupyter-widgets/controls",
            "_model_module_version": "1.5.0",
            "_model_name": "FloatProgressModel",
            "_view_count": null,
            "_view_module": "@jupyter-widgets/controls",
            "_view_module_version": "1.5.0",
            "_view_name": "ProgressView",
            "bar_style": "success",
            "description": "",
            "description_tooltip": null,
            "layout": "IPY_MODEL_78ba1f102ab3422cb961d3e0c53e2145",
            "max": 267844284,
            "min": 0,
            "orientation": "horizontal",
            "style": "IPY_MODEL_b8ce890235bb4153a315a5634125cbaa",
            "value": 267844284
          }
        },
        "8f4308bb97af406095dedec95e7f557a": {
          "model_module": "@jupyter-widgets/controls",
          "model_name": "HTMLModel",
          "model_module_version": "1.5.0",
          "state": {
            "_dom_classes": [],
            "_model_module": "@jupyter-widgets/controls",
            "_model_module_version": "1.5.0",
            "_model_name": "HTMLModel",
            "_view_count": null,
            "_view_module": "@jupyter-widgets/controls",
            "_view_module_version": "1.5.0",
            "_view_name": "HTMLView",
            "description": "",
            "description_tooltip": null,
            "layout": "IPY_MODEL_1f8776f8f3654cb4a411005e9ca415f4",
            "placeholder": "​",
            "style": "IPY_MODEL_fe081731637a48b6aad85fa73cc4abf9",
            "value": " 268M/268M [00:07&lt;00:00, 40.8MB/s]"
          }
        },
        "fa32f222ac4c4290a550f50544ad51c7": {
          "model_module": "@jupyter-widgets/base",
          "model_name": "LayoutModel",
          "model_module_version": "1.2.0",
          "state": {
            "_model_module": "@jupyter-widgets/base",
            "_model_module_version": "1.2.0",
            "_model_name": "LayoutModel",
            "_view_count": null,
            "_view_module": "@jupyter-widgets/base",
            "_view_module_version": "1.2.0",
            "_view_name": "LayoutView",
            "align_content": null,
            "align_items": null,
            "align_self": null,
            "border": null,
            "bottom": null,
            "display": null,
            "flex": null,
            "flex_flow": null,
            "grid_area": null,
            "grid_auto_columns": null,
            "grid_auto_flow": null,
            "grid_auto_rows": null,
            "grid_column": null,
            "grid_gap": null,
            "grid_row": null,
            "grid_template_areas": null,
            "grid_template_columns": null,
            "grid_template_rows": null,
            "height": null,
            "justify_content": null,
            "justify_items": null,
            "left": null,
            "margin": null,
            "max_height": null,
            "max_width": null,
            "min_height": null,
            "min_width": null,
            "object_fit": null,
            "object_position": null,
            "order": null,
            "overflow": null,
            "overflow_x": null,
            "overflow_y": null,
            "padding": null,
            "right": null,
            "top": null,
            "visibility": null,
            "width": null
          }
        },
        "871148e3f3d14dcfb6006ed098e6744b": {
          "model_module": "@jupyter-widgets/base",
          "model_name": "LayoutModel",
          "model_module_version": "1.2.0",
          "state": {
            "_model_module": "@jupyter-widgets/base",
            "_model_module_version": "1.2.0",
            "_model_name": "LayoutModel",
            "_view_count": null,
            "_view_module": "@jupyter-widgets/base",
            "_view_module_version": "1.2.0",
            "_view_name": "LayoutView",
            "align_content": null,
            "align_items": null,
            "align_self": null,
            "border": null,
            "bottom": null,
            "display": null,
            "flex": null,
            "flex_flow": null,
            "grid_area": null,
            "grid_auto_columns": null,
            "grid_auto_flow": null,
            "grid_auto_rows": null,
            "grid_column": null,
            "grid_gap": null,
            "grid_row": null,
            "grid_template_areas": null,
            "grid_template_columns": null,
            "grid_template_rows": null,
            "height": null,
            "justify_content": null,
            "justify_items": null,
            "left": null,
            "margin": null,
            "max_height": null,
            "max_width": null,
            "min_height": null,
            "min_width": null,
            "object_fit": null,
            "object_position": null,
            "order": null,
            "overflow": null,
            "overflow_x": null,
            "overflow_y": null,
            "padding": null,
            "right": null,
            "top": null,
            "visibility": null,
            "width": null
          }
        },
        "35302c825a834ba7974b36a63f38b4dd": {
          "model_module": "@jupyter-widgets/controls",
          "model_name": "DescriptionStyleModel",
          "model_module_version": "1.5.0",
          "state": {
            "_model_module": "@jupyter-widgets/controls",
            "_model_module_version": "1.5.0",
            "_model_name": "DescriptionStyleModel",
            "_view_count": null,
            "_view_module": "@jupyter-widgets/base",
            "_view_module_version": "1.2.0",
            "_view_name": "StyleView",
            "description_width": ""
          }
        },
        "78ba1f102ab3422cb961d3e0c53e2145": {
          "model_module": "@jupyter-widgets/base",
          "model_name": "LayoutModel",
          "model_module_version": "1.2.0",
          "state": {
            "_model_module": "@jupyter-widgets/base",
            "_model_module_version": "1.2.0",
            "_model_name": "LayoutModel",
            "_view_count": null,
            "_view_module": "@jupyter-widgets/base",
            "_view_module_version": "1.2.0",
            "_view_name": "LayoutView",
            "align_content": null,
            "align_items": null,
            "align_self": null,
            "border": null,
            "bottom": null,
            "display": null,
            "flex": null,
            "flex_flow": null,
            "grid_area": null,
            "grid_auto_columns": null,
            "grid_auto_flow": null,
            "grid_auto_rows": null,
            "grid_column": null,
            "grid_gap": null,
            "grid_row": null,
            "grid_template_areas": null,
            "grid_template_columns": null,
            "grid_template_rows": null,
            "height": null,
            "justify_content": null,
            "justify_items": null,
            "left": null,
            "margin": null,
            "max_height": null,
            "max_width": null,
            "min_height": null,
            "min_width": null,
            "object_fit": null,
            "object_position": null,
            "order": null,
            "overflow": null,
            "overflow_x": null,
            "overflow_y": null,
            "padding": null,
            "right": null,
            "top": null,
            "visibility": null,
            "width": null
          }
        },
        "b8ce890235bb4153a315a5634125cbaa": {
          "model_module": "@jupyter-widgets/controls",
          "model_name": "ProgressStyleModel",
          "model_module_version": "1.5.0",
          "state": {
            "_model_module": "@jupyter-widgets/controls",
            "_model_module_version": "1.5.0",
            "_model_name": "ProgressStyleModel",
            "_view_count": null,
            "_view_module": "@jupyter-widgets/base",
            "_view_module_version": "1.2.0",
            "_view_name": "StyleView",
            "bar_color": null,
            "description_width": ""
          }
        },
        "1f8776f8f3654cb4a411005e9ca415f4": {
          "model_module": "@jupyter-widgets/base",
          "model_name": "LayoutModel",
          "model_module_version": "1.2.0",
          "state": {
            "_model_module": "@jupyter-widgets/base",
            "_model_module_version": "1.2.0",
            "_model_name": "LayoutModel",
            "_view_count": null,
            "_view_module": "@jupyter-widgets/base",
            "_view_module_version": "1.2.0",
            "_view_name": "LayoutView",
            "align_content": null,
            "align_items": null,
            "align_self": null,
            "border": null,
            "bottom": null,
            "display": null,
            "flex": null,
            "flex_flow": null,
            "grid_area": null,
            "grid_auto_columns": null,
            "grid_auto_flow": null,
            "grid_auto_rows": null,
            "grid_column": null,
            "grid_gap": null,
            "grid_row": null,
            "grid_template_areas": null,
            "grid_template_columns": null,
            "grid_template_rows": null,
            "height": null,
            "justify_content": null,
            "justify_items": null,
            "left": null,
            "margin": null,
            "max_height": null,
            "max_width": null,
            "min_height": null,
            "min_width": null,
            "object_fit": null,
            "object_position": null,
            "order": null,
            "overflow": null,
            "overflow_x": null,
            "overflow_y": null,
            "padding": null,
            "right": null,
            "top": null,
            "visibility": null,
            "width": null
          }
        },
        "fe081731637a48b6aad85fa73cc4abf9": {
          "model_module": "@jupyter-widgets/controls",
          "model_name": "DescriptionStyleModel",
          "model_module_version": "1.5.0",
          "state": {
            "_model_module": "@jupyter-widgets/controls",
            "_model_module_version": "1.5.0",
            "_model_name": "DescriptionStyleModel",
            "_view_count": null,
            "_view_module": "@jupyter-widgets/base",
            "_view_module_version": "1.2.0",
            "_view_name": "StyleView",
            "description_width": ""
          }
        },
        "041ec01b0f244c318a407975defa0545": {
          "model_module": "@jupyter-widgets/controls",
          "model_name": "HBoxModel",
          "model_module_version": "1.5.0",
          "state": {
            "_dom_classes": [],
            "_model_module": "@jupyter-widgets/controls",
            "_model_module_version": "1.5.0",
            "_model_name": "HBoxModel",
            "_view_count": null,
            "_view_module": "@jupyter-widgets/controls",
            "_view_module_version": "1.5.0",
            "_view_name": "HBoxView",
            "box_style": "",
            "children": [
              "IPY_MODEL_0c5d1e6e22ac459c82cd07d9e02efd74",
              "IPY_MODEL_e736ed228c56435cafba5c22b9b025f1",
              "IPY_MODEL_769f9ff2538d44fcadc78b2f57616098"
            ],
            "layout": "IPY_MODEL_941545df01304ec3b00b7ac19046092f"
          }
        },
        "0c5d1e6e22ac459c82cd07d9e02efd74": {
          "model_module": "@jupyter-widgets/controls",
          "model_name": "HTMLModel",
          "model_module_version": "1.5.0",
          "state": {
            "_dom_classes": [],
            "_model_module": "@jupyter-widgets/controls",
            "_model_module_version": "1.5.0",
            "_model_name": "HTMLModel",
            "_view_count": null,
            "_view_module": "@jupyter-widgets/controls",
            "_view_module_version": "1.5.0",
            "_view_name": "HTMLView",
            "description": "",
            "description_tooltip": null,
            "layout": "IPY_MODEL_4873df847cd14d58b14caaa0e901ae2f",
            "placeholder": "​",
            "style": "IPY_MODEL_565388d31acf4bca911286d6b8a1fbf0",
            "value": "Downloading: 100%"
          }
        },
        "e736ed228c56435cafba5c22b9b025f1": {
          "model_module": "@jupyter-widgets/controls",
          "model_name": "FloatProgressModel",
          "model_module_version": "1.5.0",
          "state": {
            "_dom_classes": [],
            "_model_module": "@jupyter-widgets/controls",
            "_model_module_version": "1.5.0",
            "_model_name": "FloatProgressModel",
            "_view_count": null,
            "_view_module": "@jupyter-widgets/controls",
            "_view_module_version": "1.5.0",
            "_view_name": "ProgressView",
            "bar_style": "success",
            "description": "",
            "description_tooltip": null,
            "layout": "IPY_MODEL_1afe75ee9ccd4516a5317f8a56fa1369",
            "max": 48,
            "min": 0,
            "orientation": "horizontal",
            "style": "IPY_MODEL_0f9bbc89acbf46acab6aa52f2c778a12",
            "value": 48
          }
        },
        "769f9ff2538d44fcadc78b2f57616098": {
          "model_module": "@jupyter-widgets/controls",
          "model_name": "HTMLModel",
          "model_module_version": "1.5.0",
          "state": {
            "_dom_classes": [],
            "_model_module": "@jupyter-widgets/controls",
            "_model_module_version": "1.5.0",
            "_model_name": "HTMLModel",
            "_view_count": null,
            "_view_module": "@jupyter-widgets/controls",
            "_view_module_version": "1.5.0",
            "_view_name": "HTMLView",
            "description": "",
            "description_tooltip": null,
            "layout": "IPY_MODEL_ebda1866d3ea4f2fb97b41df260aa1ff",
            "placeholder": "​",
            "style": "IPY_MODEL_4aa33318a43d474e93350f18ec912fac",
            "value": " 48.0/48.0 [00:00&lt;00:00, 2.07kB/s]"
          }
        },
        "941545df01304ec3b00b7ac19046092f": {
          "model_module": "@jupyter-widgets/base",
          "model_name": "LayoutModel",
          "model_module_version": "1.2.0",
          "state": {
            "_model_module": "@jupyter-widgets/base",
            "_model_module_version": "1.2.0",
            "_model_name": "LayoutModel",
            "_view_count": null,
            "_view_module": "@jupyter-widgets/base",
            "_view_module_version": "1.2.0",
            "_view_name": "LayoutView",
            "align_content": null,
            "align_items": null,
            "align_self": null,
            "border": null,
            "bottom": null,
            "display": null,
            "flex": null,
            "flex_flow": null,
            "grid_area": null,
            "grid_auto_columns": null,
            "grid_auto_flow": null,
            "grid_auto_rows": null,
            "grid_column": null,
            "grid_gap": null,
            "grid_row": null,
            "grid_template_areas": null,
            "grid_template_columns": null,
            "grid_template_rows": null,
            "height": null,
            "justify_content": null,
            "justify_items": null,
            "left": null,
            "margin": null,
            "max_height": null,
            "max_width": null,
            "min_height": null,
            "min_width": null,
            "object_fit": null,
            "object_position": null,
            "order": null,
            "overflow": null,
            "overflow_x": null,
            "overflow_y": null,
            "padding": null,
            "right": null,
            "top": null,
            "visibility": null,
            "width": null
          }
        },
        "4873df847cd14d58b14caaa0e901ae2f": {
          "model_module": "@jupyter-widgets/base",
          "model_name": "LayoutModel",
          "model_module_version": "1.2.0",
          "state": {
            "_model_module": "@jupyter-widgets/base",
            "_model_module_version": "1.2.0",
            "_model_name": "LayoutModel",
            "_view_count": null,
            "_view_module": "@jupyter-widgets/base",
            "_view_module_version": "1.2.0",
            "_view_name": "LayoutView",
            "align_content": null,
            "align_items": null,
            "align_self": null,
            "border": null,
            "bottom": null,
            "display": null,
            "flex": null,
            "flex_flow": null,
            "grid_area": null,
            "grid_auto_columns": null,
            "grid_auto_flow": null,
            "grid_auto_rows": null,
            "grid_column": null,
            "grid_gap": null,
            "grid_row": null,
            "grid_template_areas": null,
            "grid_template_columns": null,
            "grid_template_rows": null,
            "height": null,
            "justify_content": null,
            "justify_items": null,
            "left": null,
            "margin": null,
            "max_height": null,
            "max_width": null,
            "min_height": null,
            "min_width": null,
            "object_fit": null,
            "object_position": null,
            "order": null,
            "overflow": null,
            "overflow_x": null,
            "overflow_y": null,
            "padding": null,
            "right": null,
            "top": null,
            "visibility": null,
            "width": null
          }
        },
        "565388d31acf4bca911286d6b8a1fbf0": {
          "model_module": "@jupyter-widgets/controls",
          "model_name": "DescriptionStyleModel",
          "model_module_version": "1.5.0",
          "state": {
            "_model_module": "@jupyter-widgets/controls",
            "_model_module_version": "1.5.0",
            "_model_name": "DescriptionStyleModel",
            "_view_count": null,
            "_view_module": "@jupyter-widgets/base",
            "_view_module_version": "1.2.0",
            "_view_name": "StyleView",
            "description_width": ""
          }
        },
        "1afe75ee9ccd4516a5317f8a56fa1369": {
          "model_module": "@jupyter-widgets/base",
          "model_name": "LayoutModel",
          "model_module_version": "1.2.0",
          "state": {
            "_model_module": "@jupyter-widgets/base",
            "_model_module_version": "1.2.0",
            "_model_name": "LayoutModel",
            "_view_count": null,
            "_view_module": "@jupyter-widgets/base",
            "_view_module_version": "1.2.0",
            "_view_name": "LayoutView",
            "align_content": null,
            "align_items": null,
            "align_self": null,
            "border": null,
            "bottom": null,
            "display": null,
            "flex": null,
            "flex_flow": null,
            "grid_area": null,
            "grid_auto_columns": null,
            "grid_auto_flow": null,
            "grid_auto_rows": null,
            "grid_column": null,
            "grid_gap": null,
            "grid_row": null,
            "grid_template_areas": null,
            "grid_template_columns": null,
            "grid_template_rows": null,
            "height": null,
            "justify_content": null,
            "justify_items": null,
            "left": null,
            "margin": null,
            "max_height": null,
            "max_width": null,
            "min_height": null,
            "min_width": null,
            "object_fit": null,
            "object_position": null,
            "order": null,
            "overflow": null,
            "overflow_x": null,
            "overflow_y": null,
            "padding": null,
            "right": null,
            "top": null,
            "visibility": null,
            "width": null
          }
        },
        "0f9bbc89acbf46acab6aa52f2c778a12": {
          "model_module": "@jupyter-widgets/controls",
          "model_name": "ProgressStyleModel",
          "model_module_version": "1.5.0",
          "state": {
            "_model_module": "@jupyter-widgets/controls",
            "_model_module_version": "1.5.0",
            "_model_name": "ProgressStyleModel",
            "_view_count": null,
            "_view_module": "@jupyter-widgets/base",
            "_view_module_version": "1.2.0",
            "_view_name": "StyleView",
            "bar_color": null,
            "description_width": ""
          }
        },
        "ebda1866d3ea4f2fb97b41df260aa1ff": {
          "model_module": "@jupyter-widgets/base",
          "model_name": "LayoutModel",
          "model_module_version": "1.2.0",
          "state": {
            "_model_module": "@jupyter-widgets/base",
            "_model_module_version": "1.2.0",
            "_model_name": "LayoutModel",
            "_view_count": null,
            "_view_module": "@jupyter-widgets/base",
            "_view_module_version": "1.2.0",
            "_view_name": "LayoutView",
            "align_content": null,
            "align_items": null,
            "align_self": null,
            "border": null,
            "bottom": null,
            "display": null,
            "flex": null,
            "flex_flow": null,
            "grid_area": null,
            "grid_auto_columns": null,
            "grid_auto_flow": null,
            "grid_auto_rows": null,
            "grid_column": null,
            "grid_gap": null,
            "grid_row": null,
            "grid_template_areas": null,
            "grid_template_columns": null,
            "grid_template_rows": null,
            "height": null,
            "justify_content": null,
            "justify_items": null,
            "left": null,
            "margin": null,
            "max_height": null,
            "max_width": null,
            "min_height": null,
            "min_width": null,
            "object_fit": null,
            "object_position": null,
            "order": null,
            "overflow": null,
            "overflow_x": null,
            "overflow_y": null,
            "padding": null,
            "right": null,
            "top": null,
            "visibility": null,
            "width": null
          }
        },
        "4aa33318a43d474e93350f18ec912fac": {
          "model_module": "@jupyter-widgets/controls",
          "model_name": "DescriptionStyleModel",
          "model_module_version": "1.5.0",
          "state": {
            "_model_module": "@jupyter-widgets/controls",
            "_model_module_version": "1.5.0",
            "_model_name": "DescriptionStyleModel",
            "_view_count": null,
            "_view_module": "@jupyter-widgets/base",
            "_view_module_version": "1.2.0",
            "_view_name": "StyleView",
            "description_width": ""
          }
        },
        "3376d87e89b44bb39feb402224952999": {
          "model_module": "@jupyter-widgets/controls",
          "model_name": "HBoxModel",
          "model_module_version": "1.5.0",
          "state": {
            "_dom_classes": [],
            "_model_module": "@jupyter-widgets/controls",
            "_model_module_version": "1.5.0",
            "_model_name": "HBoxModel",
            "_view_count": null,
            "_view_module": "@jupyter-widgets/controls",
            "_view_module_version": "1.5.0",
            "_view_name": "HBoxView",
            "box_style": "",
            "children": [
              "IPY_MODEL_01a61d9e18e6494286d0b7b45f83cdc4",
              "IPY_MODEL_3aa58e935cd64164a927b8309b72507f",
              "IPY_MODEL_522309d2f4ae4684a72264bd55c9d823"
            ],
            "layout": "IPY_MODEL_f2f7c1fd96c74c82945825d62fb878f4"
          }
        },
        "01a61d9e18e6494286d0b7b45f83cdc4": {
          "model_module": "@jupyter-widgets/controls",
          "model_name": "HTMLModel",
          "model_module_version": "1.5.0",
          "state": {
            "_dom_classes": [],
            "_model_module": "@jupyter-widgets/controls",
            "_model_module_version": "1.5.0",
            "_model_name": "HTMLModel",
            "_view_count": null,
            "_view_module": "@jupyter-widgets/controls",
            "_view_module_version": "1.5.0",
            "_view_name": "HTMLView",
            "description": "",
            "description_tooltip": null,
            "layout": "IPY_MODEL_6b2a7c99b36844218267f92e6a621820",
            "placeholder": "​",
            "style": "IPY_MODEL_6699f10f908742ccb8205e4c2dd9c376",
            "value": "Downloading: 100%"
          }
        },
        "3aa58e935cd64164a927b8309b72507f": {
          "model_module": "@jupyter-widgets/controls",
          "model_name": "FloatProgressModel",
          "model_module_version": "1.5.0",
          "state": {
            "_dom_classes": [],
            "_model_module": "@jupyter-widgets/controls",
            "_model_module_version": "1.5.0",
            "_model_name": "FloatProgressModel",
            "_view_count": null,
            "_view_module": "@jupyter-widgets/controls",
            "_view_module_version": "1.5.0",
            "_view_name": "ProgressView",
            "bar_style": "success",
            "description": "",
            "description_tooltip": null,
            "layout": "IPY_MODEL_86c0288ad1c34b98aafd16a3ff342bcc",
            "max": 231508,
            "min": 0,
            "orientation": "horizontal",
            "style": "IPY_MODEL_b692a67ae64f4b40b7f3868126d30fd1",
            "value": 231508
          }
        },
        "522309d2f4ae4684a72264bd55c9d823": {
          "model_module": "@jupyter-widgets/controls",
          "model_name": "HTMLModel",
          "model_module_version": "1.5.0",
          "state": {
            "_dom_classes": [],
            "_model_module": "@jupyter-widgets/controls",
            "_model_module_version": "1.5.0",
            "_model_name": "HTMLModel",
            "_view_count": null,
            "_view_module": "@jupyter-widgets/controls",
            "_view_module_version": "1.5.0",
            "_view_name": "HTMLView",
            "description": "",
            "description_tooltip": null,
            "layout": "IPY_MODEL_5236dc3c29f34dc2a9a33b38163a0d66",
            "placeholder": "​",
            "style": "IPY_MODEL_9d2006faecd14a338fd9d0c8a08bb433",
            "value": " 232k/232k [00:00&lt;00:00, 897kB/s]"
          }
        },
        "f2f7c1fd96c74c82945825d62fb878f4": {
          "model_module": "@jupyter-widgets/base",
          "model_name": "LayoutModel",
          "model_module_version": "1.2.0",
          "state": {
            "_model_module": "@jupyter-widgets/base",
            "_model_module_version": "1.2.0",
            "_model_name": "LayoutModel",
            "_view_count": null,
            "_view_module": "@jupyter-widgets/base",
            "_view_module_version": "1.2.0",
            "_view_name": "LayoutView",
            "align_content": null,
            "align_items": null,
            "align_self": null,
            "border": null,
            "bottom": null,
            "display": null,
            "flex": null,
            "flex_flow": null,
            "grid_area": null,
            "grid_auto_columns": null,
            "grid_auto_flow": null,
            "grid_auto_rows": null,
            "grid_column": null,
            "grid_gap": null,
            "grid_row": null,
            "grid_template_areas": null,
            "grid_template_columns": null,
            "grid_template_rows": null,
            "height": null,
            "justify_content": null,
            "justify_items": null,
            "left": null,
            "margin": null,
            "max_height": null,
            "max_width": null,
            "min_height": null,
            "min_width": null,
            "object_fit": null,
            "object_position": null,
            "order": null,
            "overflow": null,
            "overflow_x": null,
            "overflow_y": null,
            "padding": null,
            "right": null,
            "top": null,
            "visibility": null,
            "width": null
          }
        },
        "6b2a7c99b36844218267f92e6a621820": {
          "model_module": "@jupyter-widgets/base",
          "model_name": "LayoutModel",
          "model_module_version": "1.2.0",
          "state": {
            "_model_module": "@jupyter-widgets/base",
            "_model_module_version": "1.2.0",
            "_model_name": "LayoutModel",
            "_view_count": null,
            "_view_module": "@jupyter-widgets/base",
            "_view_module_version": "1.2.0",
            "_view_name": "LayoutView",
            "align_content": null,
            "align_items": null,
            "align_self": null,
            "border": null,
            "bottom": null,
            "display": null,
            "flex": null,
            "flex_flow": null,
            "grid_area": null,
            "grid_auto_columns": null,
            "grid_auto_flow": null,
            "grid_auto_rows": null,
            "grid_column": null,
            "grid_gap": null,
            "grid_row": null,
            "grid_template_areas": null,
            "grid_template_columns": null,
            "grid_template_rows": null,
            "height": null,
            "justify_content": null,
            "justify_items": null,
            "left": null,
            "margin": null,
            "max_height": null,
            "max_width": null,
            "min_height": null,
            "min_width": null,
            "object_fit": null,
            "object_position": null,
            "order": null,
            "overflow": null,
            "overflow_x": null,
            "overflow_y": null,
            "padding": null,
            "right": null,
            "top": null,
            "visibility": null,
            "width": null
          }
        },
        "6699f10f908742ccb8205e4c2dd9c376": {
          "model_module": "@jupyter-widgets/controls",
          "model_name": "DescriptionStyleModel",
          "model_module_version": "1.5.0",
          "state": {
            "_model_module": "@jupyter-widgets/controls",
            "_model_module_version": "1.5.0",
            "_model_name": "DescriptionStyleModel",
            "_view_count": null,
            "_view_module": "@jupyter-widgets/base",
            "_view_module_version": "1.2.0",
            "_view_name": "StyleView",
            "description_width": ""
          }
        },
        "86c0288ad1c34b98aafd16a3ff342bcc": {
          "model_module": "@jupyter-widgets/base",
          "model_name": "LayoutModel",
          "model_module_version": "1.2.0",
          "state": {
            "_model_module": "@jupyter-widgets/base",
            "_model_module_version": "1.2.0",
            "_model_name": "LayoutModel",
            "_view_count": null,
            "_view_module": "@jupyter-widgets/base",
            "_view_module_version": "1.2.0",
            "_view_name": "LayoutView",
            "align_content": null,
            "align_items": null,
            "align_self": null,
            "border": null,
            "bottom": null,
            "display": null,
            "flex": null,
            "flex_flow": null,
            "grid_area": null,
            "grid_auto_columns": null,
            "grid_auto_flow": null,
            "grid_auto_rows": null,
            "grid_column": null,
            "grid_gap": null,
            "grid_row": null,
            "grid_template_areas": null,
            "grid_template_columns": null,
            "grid_template_rows": null,
            "height": null,
            "justify_content": null,
            "justify_items": null,
            "left": null,
            "margin": null,
            "max_height": null,
            "max_width": null,
            "min_height": null,
            "min_width": null,
            "object_fit": null,
            "object_position": null,
            "order": null,
            "overflow": null,
            "overflow_x": null,
            "overflow_y": null,
            "padding": null,
            "right": null,
            "top": null,
            "visibility": null,
            "width": null
          }
        },
        "b692a67ae64f4b40b7f3868126d30fd1": {
          "model_module": "@jupyter-widgets/controls",
          "model_name": "ProgressStyleModel",
          "model_module_version": "1.5.0",
          "state": {
            "_model_module": "@jupyter-widgets/controls",
            "_model_module_version": "1.5.0",
            "_model_name": "ProgressStyleModel",
            "_view_count": null,
            "_view_module": "@jupyter-widgets/base",
            "_view_module_version": "1.2.0",
            "_view_name": "StyleView",
            "bar_color": null,
            "description_width": ""
          }
        },
        "5236dc3c29f34dc2a9a33b38163a0d66": {
          "model_module": "@jupyter-widgets/base",
          "model_name": "LayoutModel",
          "model_module_version": "1.2.0",
          "state": {
            "_model_module": "@jupyter-widgets/base",
            "_model_module_version": "1.2.0",
            "_model_name": "LayoutModel",
            "_view_count": null,
            "_view_module": "@jupyter-widgets/base",
            "_view_module_version": "1.2.0",
            "_view_name": "LayoutView",
            "align_content": null,
            "align_items": null,
            "align_self": null,
            "border": null,
            "bottom": null,
            "display": null,
            "flex": null,
            "flex_flow": null,
            "grid_area": null,
            "grid_auto_columns": null,
            "grid_auto_flow": null,
            "grid_auto_rows": null,
            "grid_column": null,
            "grid_gap": null,
            "grid_row": null,
            "grid_template_areas": null,
            "grid_template_columns": null,
            "grid_template_rows": null,
            "height": null,
            "justify_content": null,
            "justify_items": null,
            "left": null,
            "margin": null,
            "max_height": null,
            "max_width": null,
            "min_height": null,
            "min_width": null,
            "object_fit": null,
            "object_position": null,
            "order": null,
            "overflow": null,
            "overflow_x": null,
            "overflow_y": null,
            "padding": null,
            "right": null,
            "top": null,
            "visibility": null,
            "width": null
          }
        },
        "9d2006faecd14a338fd9d0c8a08bb433": {
          "model_module": "@jupyter-widgets/controls",
          "model_name": "DescriptionStyleModel",
          "model_module_version": "1.5.0",
          "state": {
            "_model_module": "@jupyter-widgets/controls",
            "_model_module_version": "1.5.0",
            "_model_name": "DescriptionStyleModel",
            "_view_count": null,
            "_view_module": "@jupyter-widgets/base",
            "_view_module_version": "1.2.0",
            "_view_name": "StyleView",
            "description_width": ""
          }
        }
      }
    }
  },
  "cells": [
    {
      "cell_type": "markdown",
      "metadata": {
        "id": "view-in-github",
        "colab_type": "text"
      },
      "source": [
        "<a href=\"https://colab.research.google.com/github/Aashi-sharma/Automate-stocks-and-crypto-research-with-python-and-deep-learning/blob/main/Automate_stocks_and_crypto_research_with_python_and_deep_learning.ipynb\" target=\"_parent\"><img src=\"https://colab.research.google.com/assets/colab-badge.svg\" alt=\"Open In Colab\"/></a>"
      ]
    },
    {
      "cell_type": "markdown",
      "source": [
        "**Install and import baseline dependencies**"
      ],
      "metadata": {
        "id": "HE5nCAaJZVQC"
      }
    },
    {
      "cell_type": "code",
      "source": [
        "!pip install transformers"
      ],
      "metadata": {
        "colab": {
          "base_uri": "https://localhost:8080/"
        },
        "id": "2Lk_S90QZaP9",
        "outputId": "604d0321-c132-4232-a719-02fdfdc65f4a"
      },
      "execution_count": 1,
      "outputs": [
        {
          "output_type": "stream",
          "name": "stdout",
          "text": [
            "Looking in indexes: https://pypi.org/simple, https://us-python.pkg.dev/colab-wheels/public/simple/\n",
            "Requirement already satisfied: transformers in /usr/local/lib/python3.8/dist-packages (4.25.1)\n",
            "Requirement already satisfied: tokenizers!=0.11.3,<0.14,>=0.11.1 in /usr/local/lib/python3.8/dist-packages (from transformers) (0.13.2)\n",
            "Requirement already satisfied: pyyaml>=5.1 in /usr/local/lib/python3.8/dist-packages (from transformers) (6.0)\n",
            "Requirement already satisfied: regex!=2019.12.17 in /usr/local/lib/python3.8/dist-packages (from transformers) (2022.6.2)\n",
            "Requirement already satisfied: packaging>=20.0 in /usr/local/lib/python3.8/dist-packages (from transformers) (21.3)\n",
            "Requirement already satisfied: tqdm>=4.27 in /usr/local/lib/python3.8/dist-packages (from transformers) (4.64.1)\n",
            "Requirement already satisfied: requests in /usr/local/lib/python3.8/dist-packages (from transformers) (2.23.0)\n",
            "Requirement already satisfied: huggingface-hub<1.0,>=0.10.0 in /usr/local/lib/python3.8/dist-packages (from transformers) (0.11.1)\n",
            "Requirement already satisfied: numpy>=1.17 in /usr/local/lib/python3.8/dist-packages (from transformers) (1.21.6)\n",
            "Requirement already satisfied: filelock in /usr/local/lib/python3.8/dist-packages (from transformers) (3.8.2)\n",
            "Requirement already satisfied: typing-extensions>=3.7.4.3 in /usr/local/lib/python3.8/dist-packages (from huggingface-hub<1.0,>=0.10.0->transformers) (4.4.0)\n",
            "Requirement already satisfied: pyparsing!=3.0.5,>=2.0.2 in /usr/local/lib/python3.8/dist-packages (from packaging>=20.0->transformers) (3.0.9)\n",
            "Requirement already satisfied: certifi>=2017.4.17 in /usr/local/lib/python3.8/dist-packages (from requests->transformers) (2022.12.7)\n",
            "Requirement already satisfied: chardet<4,>=3.0.2 in /usr/local/lib/python3.8/dist-packages (from requests->transformers) (3.0.4)\n",
            "Requirement already satisfied: idna<3,>=2.5 in /usr/local/lib/python3.8/dist-packages (from requests->transformers) (2.10)\n",
            "Requirement already satisfied: urllib3!=1.25.0,!=1.25.1,<1.26,>=1.21.1 in /usr/local/lib/python3.8/dist-packages (from requests->transformers) (1.24.3)\n"
          ]
        }
      ]
    },
    {
      "cell_type": "code",
      "source": [
        "from transformers import PegasusTokenizer, PegasusForConditionalGeneration\n",
        "from bs4 import BeautifulSoup\n",
        "import requests"
      ],
      "metadata": {
        "id": "9Yhwsf66ZgdW"
      },
      "execution_count": 2,
      "outputs": []
    },
    {
      "cell_type": "code",
      "source": [
        "!pip install sentencepiece"
      ],
      "metadata": {
        "colab": {
          "base_uri": "https://localhost:8080/"
        },
        "id": "jc9rd5tRcV5c",
        "outputId": "076f3742-6988-468a-a23e-fd7d692a1e02"
      },
      "execution_count": 3,
      "outputs": [
        {
          "output_type": "stream",
          "name": "stdout",
          "text": [
            "Looking in indexes: https://pypi.org/simple, https://us-python.pkg.dev/colab-wheels/public/simple/\n",
            "Requirement already satisfied: sentencepiece in /usr/local/lib/python3.8/dist-packages (0.1.97)\n"
          ]
        }
      ]
    },
    {
      "cell_type": "markdown",
      "source": [
        "**Setup summarization model**"
      ],
      "metadata": {
        "id": "gP4FSle3aBI9"
      }
    },
    {
      "cell_type": "code",
      "source": [
        "model_name = \"human-centered-summarization/financial-summarization-pegasus\"\n",
        "tokenizer = PegasusTokenizer.from_pretrained(model_name)\n",
        "model = PegasusForConditionalGeneration.from_pretrained(model_name)"
      ],
      "metadata": {
        "id": "LZ1IBeEEaS_0",
        "colab": {
          "base_uri": "https://localhost:8080/",
          "height": 177,
          "referenced_widgets": [
            "0597ca9d8c614f86a457217a0b681191",
            "405ac882aa624580940f73fff99855d9",
            "bb064478bb874e4484d2d5741fd349d3",
            "be078fb7ffba468ea8f969b31a01a3d7",
            "0161f0ef6bbc43189da28bf9de5b9b7b",
            "e285abc57980404b8fd7ff9ced0e75b6",
            "02f2ad83d185425ab36cb52b82edc7cc",
            "74c78f9e281a405cbca92253c5297e9e",
            "7f5841388fc14bf7948d9c30feaf1445",
            "ea93d144bda64bdea7aa8ef9969d059e",
            "dc509f7fcf314cadb06425e65338ba74",
            "b6b79d0c857e406f8784ad7407921df5",
            "f9f097b600b04a1ea4ee8c3ea5a42f08",
            "198f9552a3c045959a80c766f45d9db9",
            "83a5d87e664d43a9830a87829aaf34ce",
            "78fa2f6c95b04737b87f460096256fb8",
            "f05f5742a3424b50a927c6e7b5d7adf7",
            "f8abab53bc824f09b702c8b296619654",
            "bae0e0ba5144470eaac74f21aa0cbb07",
            "ad91af2a7e3c45829982953c1bb501d2",
            "f91d5ee6e27247f4a059853166e5b4fe",
            "38265dab297241e1bf43d8a26e7f03ac",
            "29841427bc2b41fdba4e8c132cd30195",
            "562ec48d2b7e4e2e9429fc0c0d69b3a4",
            "dc44ad673f8146e5bd9340bd908363c4",
            "e10083426c0946a8bcb2ff97ff9cc05f",
            "c86d37b1677c45cabe0adb68049a7d21",
            "b5a00643030547ad948fb6ec3667fedb",
            "2f4022b7d8b14456ba33b9423beffa8e",
            "a281da11a2324394ab905dbfea33e494",
            "149a0d1554ea4d63bd2570d191720dce",
            "03f2de126a4e4ece89fa69696c3385d6",
            "35ce67069e514bfc9d4226a4ca8d7031",
            "2c173c0dd047464a93e23ee51c964317",
            "b95aca1bedd741dcbadfcfee32e5cde8",
            "c0be47ba157849aabd7dc858fb9f17d8",
            "d34babaca3a94036ab1986bbe69fb913",
            "930faf2d4012478ca91d48a675bab480",
            "2d1b3325011f460d9d60e6709891d93e",
            "be2f0787841a4eff91344ec23899ed6e",
            "a017cb10159a4afc8759ea7c2ce23abc",
            "3cbae9ab5fbf4e41aa0184b0450925a3",
            "9222ff4cc7d546b3b073ac74fe0e80d8",
            "c875a4c93e6c4e23ac2847029415379a",
            "2baecc507c1d47b9adf18943052d6895",
            "16df699232ae4ab0bc6295ae2e36d86e",
            "91abf303dd5c4e4990cfa65be68b0c5d",
            "0b17f396d9f94a3db944a5953332518e",
            "714423f2f0204b6186f10a28c680aa8e",
            "5edda5e1ece74fb885756075149a3065",
            "4c5b9e55cd8a433e81bbe573be24c1ec",
            "26d43011ad174725ad9a7fa1bdb4c053",
            "59d859d13ace4e6f832987b9187b38b6",
            "a81758c91e9b415db25f0e0523bea852",
            "3a50f0def811414883b1dd08d1b659bf"
          ]
        },
        "outputId": "a7cf31f4-96a2-410e-87f2-fbbdf93d1f08"
      },
      "execution_count": 4,
      "outputs": [
        {
          "output_type": "display_data",
          "data": {
            "text/plain": [
              "Downloading:   0%|          | 0.00/1.91M [00:00<?, ?B/s]"
            ],
            "application/vnd.jupyter.widget-view+json": {
              "version_major": 2,
              "version_minor": 0,
              "model_id": "0597ca9d8c614f86a457217a0b681191"
            }
          },
          "metadata": {}
        },
        {
          "output_type": "display_data",
          "data": {
            "text/plain": [
              "Downloading:   0%|          | 0.00/1.34k [00:00<?, ?B/s]"
            ],
            "application/vnd.jupyter.widget-view+json": {
              "version_major": 2,
              "version_minor": 0,
              "model_id": "b6b79d0c857e406f8784ad7407921df5"
            }
          },
          "metadata": {}
        },
        {
          "output_type": "display_data",
          "data": {
            "text/plain": [
              "Downloading:   0%|          | 0.00/1.44k [00:00<?, ?B/s]"
            ],
            "application/vnd.jupyter.widget-view+json": {
              "version_major": 2,
              "version_minor": 0,
              "model_id": "29841427bc2b41fdba4e8c132cd30195"
            }
          },
          "metadata": {}
        },
        {
          "output_type": "display_data",
          "data": {
            "text/plain": [
              "Downloading:   0%|          | 0.00/1.27k [00:00<?, ?B/s]"
            ],
            "application/vnd.jupyter.widget-view+json": {
              "version_major": 2,
              "version_minor": 0,
              "model_id": "2c173c0dd047464a93e23ee51c964317"
            }
          },
          "metadata": {}
        },
        {
          "output_type": "display_data",
          "data": {
            "text/plain": [
              "Downloading:   0%|          | 0.00/2.28G [00:00<?, ?B/s]"
            ],
            "application/vnd.jupyter.widget-view+json": {
              "version_major": 2,
              "version_minor": 0,
              "model_id": "2baecc507c1d47b9adf18943052d6895"
            }
          },
          "metadata": {}
        }
      ]
    },
    {
      "cell_type": "markdown",
      "source": [
        "**Summarize a single article**"
      ],
      "metadata": {
        "id": "yDPFsagPjJS7"
      }
    },
    {
      "cell_type": "code",
      "source": [
        "url = \"https://finance.yahoo.com/news/israel-regulator-awards-licence-investors-113726999.html\"\n",
        "r = requests.get(url)\n",
        "soup = BeautifulSoup(r.text, 'html.parser')\n",
        "paragraphs = soup.find_all('p')"
      ],
      "metadata": {
        "id": "pwGMt2_ZjPNV"
      },
      "execution_count": 5,
      "outputs": []
    },
    {
      "cell_type": "code",
      "source": [
        "paragraphs[0].text"
      ],
      "metadata": {
        "colab": {
          "base_uri": "https://localhost:8080/",
          "height": 53
        },
        "id": "Mn_gOpp9aItq",
        "outputId": "a26a58b0-8ab7-481b-fdd5-20d2b39ea13f"
      },
      "execution_count": 6,
      "outputs": [
        {
          "output_type": "execute_result",
          "data": {
            "text/plain": [
              "\"JERUSALEM (Reuters) - Israel's banking regulator on Sunday approved a conditional licence and control permit to a group of entrepreneurs to establish a new online bank, the second addition to the highly concentrated banking sector in three years.\""
            ],
            "application/vnd.google.colaboratory.intrinsic+json": {
              "type": "string"
            }
          },
          "metadata": {},
          "execution_count": 6
        }
      ]
    },
    {
      "cell_type": "code",
      "source": [
        "text = [paragraph.text for paragraph in paragraphs]\n",
        "words = ' '.join(text).split(' ')[:400]\n",
        "ARTICLE = ' '.join(words)"
      ],
      "metadata": {
        "id": "UjMVH2wzovMw"
      },
      "execution_count": 7,
      "outputs": []
    },
    {
      "cell_type": "code",
      "source": [
        "ARTICLE"
      ],
      "metadata": {
        "colab": {
          "base_uri": "https://localhost:8080/",
          "height": 140
        },
        "id": "xtpuFzCmp8fT",
        "outputId": "6025ffa7-618f-44bc-a074-bb3de909204d"
      },
      "execution_count": 8,
      "outputs": [
        {
          "output_type": "execute_result",
          "data": {
            "text/plain": [
              "'JERUSALEM (Reuters) - Israel\\'s banking regulator on Sunday approved a conditional licence and control permit to a group of entrepreneurs to establish a new online bank, the second addition to the highly concentrated banking sector in three years. The Bank of Israel said its banking supervision department had completed the inspection process for the new institution named Esh Bank Israel. The approvals, it said, will allow the founders to move forward and complete the mechanical, operational and regulatory preparations required for the start of the bank\\'s activities. These include completing the development and testing phases of new technology and hiring a management team and bank staff. It will take about a year and a half to get the bank up and running, the central bank said. \"We have a long way to go,\" said Shmuel Hauser, the chairman of Esh, adding the bank would offer attractive interest rates and banking services without commissions. Last January, One Zero Digital Bank received final regulatory approval for a full banking licence, becoming the first new Israeli bank in 43 years. Israel\\'s banking system is highly concentrated and run by a handful of banks, with the two largest controlling more than half the assets in the sector. \"We see great importance in the entry of banks and additional new players into the banking system in Israel, so that they contribute to increasing competition and innovation in the financial system,\" said Bank of Israel Governor Amir Yaron. (Reporting by Steven Scheer; Editing by Andrew Cawthorne)'"
            ],
            "application/vnd.google.colaboratory.intrinsic+json": {
              "type": "string"
            }
          },
          "metadata": {},
          "execution_count": 8
        }
      ]
    },
    {
      "cell_type": "code",
      "source": [
        "input_ids = tokenizer.encode(ARTICLE, return_tensors='pt')\n",
        "output = model.generate(input_ids, max_length=55, num_beams=5, early_stopping=True)\n",
        "summary = tokenizer.decode(output[0], skip_special_tokens=True)"
      ],
      "metadata": {
        "id": "_98B610PsBPY"
      },
      "execution_count": 9,
      "outputs": []
    },
    {
      "cell_type": "code",
      "source": [
        "summary"
      ],
      "metadata": {
        "colab": {
          "base_uri": "https://localhost:8080/",
          "height": 36
        },
        "id": "NyYE9wk_sBY2",
        "outputId": "0ea9d717-b8ec-4fba-ccd7-6cfa912b2b3b"
      },
      "execution_count": 10,
      "outputs": [
        {
          "output_type": "execute_result",
          "data": {
            "text/plain": [
              "'Esh Bank Israel will offer online banking without commissions. Last January, One Zero Digital Bank received final regulatory approval'"
            ],
            "application/vnd.google.colaboratory.intrinsic+json": {
              "type": "string"
            }
          },
          "metadata": {},
          "execution_count": 10
        }
      ]
    },
    {
      "cell_type": "markdown",
      "source": [
        "**Building a news and sentiment pipeline**"
      ],
      "metadata": {
        "id": "gcvPeBQDtM4T"
      }
    },
    {
      "cell_type": "code",
      "source": [
        "monitored_tickers = ['GME', 'TSLA', 'BTC', 'ETH']\n"
      ],
      "metadata": {
        "id": "LQ0-xfxWtc0Z"
      },
      "execution_count": 11,
      "outputs": []
    },
    {
      "cell_type": "markdown",
      "source": [
        "**Search for stock news using google and yahoo finance**"
      ],
      "metadata": {
        "id": "9KnTb2civwYB"
      }
    },
    {
      "cell_type": "code",
      "source": [
        "def search_for_stock_news_urls(ticker):\n",
        "    search_url = \"https://www.google.com/search?q=yahoo+finance+{}&tbm=nws\".format(ticker)\n",
        "    r = requests.get(search_url)\n",
        "    soup = BeautifulSoup(r.text, 'html.parser')\n",
        "    atags = soup.find_all('a')\n",
        "    hrefs = [link['href'] for link in atags]\n",
        "    return hrefs "
      ],
      "metadata": {
        "id": "NKEEBSYFv4Qg"
      },
      "execution_count": 12,
      "outputs": []
    },
    {
      "cell_type": "code",
      "source": [
        "raw_urls = {ticker:search_for_stock_news_urls(ticker) for ticker in monitored_tickers}\n",
        "raw_urls"
      ],
      "metadata": {
        "colab": {
          "base_uri": "https://localhost:8080/"
        },
        "id": "83zhWae8zCBe",
        "outputId": "621b2e2d-6ba5-4f10-9dfb-da98b7a55443"
      },
      "execution_count": 13,
      "outputs": [
        {
          "output_type": "execute_result",
          "data": {
            "text/plain": [
              "{'GME': ['/?sa=X&ved=0ahUKEwin-IGhzZb8AhXFH0QIHe8NDFUQOwgC',\n",
              "  '/search?q=yahoo+finance+GME&tbm=nws&ie=UTF-8&gbv=1&sei=FzipY-eQDsW_kPIP75uwqAU',\n",
              "  '/search?q=yahoo+finance+GME&ie=UTF-8&source=lnms&sa=X&ved=0ahUKEwin-IGhzZb8AhXFH0QIHe8NDFUQ_AUIBSgA',\n",
              "  '/search?q=yahoo+finance+GME&ie=UTF-8&tbm=vid&source=lnms&sa=X&ved=0ahUKEwin-IGhzZb8AhXFH0QIHe8NDFUQ_AUIBygC',\n",
              "  '/search?q=yahoo+finance+GME&ie=UTF-8&tbm=isch&source=lnms&sa=X&ved=0ahUKEwin-IGhzZb8AhXFH0QIHe8NDFUQ_AUICCgD',\n",
              "  'https://maps.google.com/maps?q=yahoo+finance+GME&um=1&ie=UTF-8&sa=X&ved=0ahUKEwin-IGhzZb8AhXFH0QIHe8NDFUQ_AUICSgE',\n",
              "  '/search?q=yahoo+finance+GME&ie=UTF-8&tbm=shop&source=lnms&sa=X&ved=0ahUKEwin-IGhzZb8AhXFH0QIHe8NDFUQ_AUICigF',\n",
              "  '/search?q=yahoo+finance+GME&ie=UTF-8&tbm=bks&source=lnms&sa=X&ved=0ahUKEwin-IGhzZb8AhXFH0QIHe8NDFUQ_AUICygG',\n",
              "  '/advanced_search',\n",
              "  '/search?q=yahoo+finance+GME&ie=UTF-8&tbm=nws&source=lnt&tbs=qdr:h&sa=X&ved=0ahUKEwin-IGhzZb8AhXFH0QIHe8NDFUQpwUIDQ',\n",
              "  '/search?q=yahoo+finance+GME&ie=UTF-8&tbm=nws&source=lnt&tbs=qdr:d&sa=X&ved=0ahUKEwin-IGhzZb8AhXFH0QIHe8NDFUQpwUIDg',\n",
              "  '/search?q=yahoo+finance+GME&ie=UTF-8&tbm=nws&source=lnt&tbs=qdr:w&sa=X&ved=0ahUKEwin-IGhzZb8AhXFH0QIHe8NDFUQpwUIDw',\n",
              "  '/search?q=yahoo+finance+GME&ie=UTF-8&tbm=nws&source=lnt&tbs=qdr:m&sa=X&ved=0ahUKEwin-IGhzZb8AhXFH0QIHe8NDFUQpwUIEA',\n",
              "  '/search?q=yahoo+finance+GME&ie=UTF-8&tbm=nws&source=lnt&tbs=qdr:y&sa=X&ved=0ahUKEwin-IGhzZb8AhXFH0QIHe8NDFUQpwUIEQ',\n",
              "  '/search?q=yahoo+finance+GME&ie=UTF-8&tbm=nws&source=lnt&tbs=ar:1&sa=X&ved=0ahUKEwin-IGhzZb8AhXFH0QIHe8NDFUQpwUIEg',\n",
              "  '/search?q=yahoo+finance+GME&ie=UTF-8&tbm=nws&source=lnt&tbs=sbd:1&sa=X&ved=0ahUKEwin-IGhzZb8AhXFH0QIHe8NDFUQpwUIFA',\n",
              "  '/url?q=https://finance.yahoo.com/news/morningstar-ceos-message-to-meme-stock-investors-162841912.html&sa=U&ved=2ahUKEwin-IGhzZb8AhXFH0QIHe8NDFUQxfQBegQIBxAC&usg=AOvVaw1xEpda_26hVH1XSI_ZhGtF',\n",
              "  '/url?q=https://finance.yahoo.com/news/my-meme-stock-fiasco-153417561.html&sa=U&ved=2ahUKEwin-IGhzZb8AhXFH0QIHe8NDFUQxfQBegQICRAC&usg=AOvVaw1hIj6lTN5eCk8loyO0IOTn',\n",
              "  '/url?q=https://finance.yahoo.com/news/gme-resources-limited-asx-gme-223611770.html&sa=U&ved=2ahUKEwin-IGhzZb8AhXFH0QIHe8NDFUQxfQBegQIBRAC&usg=AOvVaw0qD81QiQBNbPvXbsMq1cBj',\n",
              "  '/url?q=https://finance.yahoo.com/video/meme-stocks-gain-steam-amc-164335352.html&sa=U&ved=2ahUKEwin-IGhzZb8AhXFH0QIHe8NDFUQxfQBegQICBAC&usg=AOvVaw1MPB_HSucUCMXhAMERskkg',\n",
              "  '/url?q=https://finance.yahoo.com/news/the-game-stop-turnaround-promise-is-failing-111117027.html&sa=U&ved=2ahUKEwin-IGhzZb8AhXFH0QIHe8NDFUQxfQBegQIARAC&usg=AOvVaw24uNOWIIrve9siWKfBD55V',\n",
              "  '/url?q=https://finance.yahoo.com/news/after-hours-stock-movers-game-stop-rent-the-runway-c-3-ai-and-more-232228102.html&sa=U&ved=2ahUKEwin-IGhzZb8AhXFH0QIHe8NDFUQxfQBegQIBBAC&usg=AOvVaw1YQxkbaWd8c1Ql2jfuYGyx',\n",
              "  '/url?q=https://finance.yahoo.com/news/mark-cuban-stock-portfolio-10-211950824.html&sa=U&ved=2ahUKEwin-IGhzZb8AhXFH0QIHe8NDFUQxfQBegQIAhAC&usg=AOvVaw3SMXspjBTzHkV-ApuksfLO',\n",
              "  '/url?q=https://finance.yahoo.com/news/gamestop-corp-nyse-gme-q3-183439060.html&sa=U&ved=2ahUKEwin-IGhzZb8AhXFH0QIHe8NDFUQxfQBegQIAxAC&usg=AOvVaw1YI8wrc_zgVqBkckkR2W6B',\n",
              "  '/url?q=https://finance.yahoo.com/news/gamestop-reports-third-quarter-fiscal-210500302.html&sa=U&ved=2ahUKEwin-IGhzZb8AhXFH0QIHe8NDFUQxfQBegQIBhAC&usg=AOvVaw1DGDy79lW23vUNvWQM-5Qa',\n",
              "  '/url?q=https://ca.finance.yahoo.com/news/after-hours-stock-movers-game-stop-rent-the-runway-c-3-ai-and-more-232228102.html&sa=U&ved=2ahUKEwin-IGhzZb8AhXFH0QIHe8NDFUQxfQBegQIABAC&usg=AOvVaw3hefwG4JHm9ATDQkDvgAR1',\n",
              "  '/search?q=yahoo+finance+GME&ie=UTF-8&tbm=nws&ei=FzipY-eQDsW_kPIP75uwqAU&start=10&sa=N',\n",
              "  '/url?q=https://support.google.com/websearch%3Fp%3Dws_settings_location%26hl%3Den&sa=U&ved=0ahUKEwin-IGhzZb8AhXFH0QIHe8NDFUQty4IUw&usg=AOvVaw0N7-4u_rh6EFHmUAkadZ25',\n",
              "  '/url?q=https://accounts.google.com/ServiceLogin%3Fcontinue%3Dhttps://www.google.com/search%253Fq%253Dyahoo%252Bfinance%252BGME%2526tbm%253Dnws%26hl%3Den&sa=U&ved=0ahUKEwin-IGhzZb8AhXFH0QIHe8NDFUQxs8CCFQ&usg=AOvVaw2J5nQWsX7jQw3IPrAuln8e',\n",
              "  'https://www.google.com/preferences?hl=en&fg=1&sa=X&ved=0ahUKEwin-IGhzZb8AhXFH0QIHe8NDFUQ5fUCCFU',\n",
              "  'https://policies.google.com/privacy?hl=en&fg=1',\n",
              "  'https://policies.google.com/terms?hl=en&fg=1'],\n",
              " 'TSLA': ['/?sa=X&ved=0ahUKEwjDlpOhzZb8AhVMNEQIHUUJAVgQOwgC',\n",
              "  '/search?q=yahoo+finance+TSLA&tbm=nws&ie=UTF-8&gbv=1&sei=FzipY4OvH8zokPIPxZKEwAU',\n",
              "  '/search?q=yahoo+finance+TSLA&ie=UTF-8&source=lnms&sa=X&ved=0ahUKEwjDlpOhzZb8AhVMNEQIHUUJAVgQ_AUIBSgA',\n",
              "  '/search?q=yahoo+finance+TSLA&ie=UTF-8&tbm=isch&source=lnms&sa=X&ved=0ahUKEwjDlpOhzZb8AhVMNEQIHUUJAVgQ_AUIBygC',\n",
              "  '/search?q=yahoo+finance+TSLA&ie=UTF-8&tbm=vid&source=lnms&sa=X&ved=0ahUKEwjDlpOhzZb8AhVMNEQIHUUJAVgQ_AUICCgD',\n",
              "  'https://maps.google.com/maps?q=yahoo+finance+TSLA&um=1&ie=UTF-8&sa=X&ved=0ahUKEwjDlpOhzZb8AhVMNEQIHUUJAVgQ_AUICSgE',\n",
              "  '/search?q=yahoo+finance+TSLA&ie=UTF-8&tbm=shop&source=lnms&sa=X&ved=0ahUKEwjDlpOhzZb8AhVMNEQIHUUJAVgQ_AUICigF',\n",
              "  '/search?q=yahoo+finance+TSLA&ie=UTF-8&tbm=bks&source=lnms&sa=X&ved=0ahUKEwjDlpOhzZb8AhVMNEQIHUUJAVgQ_AUICygG',\n",
              "  '/advanced_search',\n",
              "  '/search?q=yahoo+finance+TSLA&ie=UTF-8&tbm=nws&source=lnt&tbs=qdr:h&sa=X&ved=0ahUKEwjDlpOhzZb8AhVMNEQIHUUJAVgQpwUIDQ',\n",
              "  '/search?q=yahoo+finance+TSLA&ie=UTF-8&tbm=nws&source=lnt&tbs=qdr:d&sa=X&ved=0ahUKEwjDlpOhzZb8AhVMNEQIHUUJAVgQpwUIDg',\n",
              "  '/search?q=yahoo+finance+TSLA&ie=UTF-8&tbm=nws&source=lnt&tbs=qdr:w&sa=X&ved=0ahUKEwjDlpOhzZb8AhVMNEQIHUUJAVgQpwUIDw',\n",
              "  '/search?q=yahoo+finance+TSLA&ie=UTF-8&tbm=nws&source=lnt&tbs=qdr:m&sa=X&ved=0ahUKEwjDlpOhzZb8AhVMNEQIHUUJAVgQpwUIEA',\n",
              "  '/search?q=yahoo+finance+TSLA&ie=UTF-8&tbm=nws&source=lnt&tbs=qdr:y&sa=X&ved=0ahUKEwjDlpOhzZb8AhVMNEQIHUUJAVgQpwUIEQ',\n",
              "  '/search?q=yahoo+finance+TSLA&ie=UTF-8&tbm=nws&source=lnt&tbs=ar:1&sa=X&ved=0ahUKEwjDlpOhzZb8AhVMNEQIHUUJAVgQpwUIEg',\n",
              "  '/search?q=yahoo+finance+TSLA&ie=UTF-8&tbm=nws&source=lnt&tbs=sbd:1&sa=X&ved=0ahUKEwjDlpOhzZb8AhVMNEQIHUUJAVgQpwUIFA',\n",
              "  '/url?q=https://finance.yahoo.com/news/elon-musk-warns-against-margin-215641054.html&sa=U&ved=2ahUKEwjDlpOhzZb8AhVMNEQIHUUJAVgQxfQBegQIAxAC&usg=AOvVaw3ZhkOLYRpip5OfTRZXJfzL',\n",
              "  '/url?q=https://finance.yahoo.com/news/cathie-wood-loading-12-stocks-231301471.html&sa=U&ved=2ahUKEwjDlpOhzZb8AhVMNEQIHUUJAVgQxfQBegQICRAC&usg=AOvVaw3gyBobFDOE0kN2fQHy_QrI',\n",
              "  '/url?q=https://finance.yahoo.com/news/tesla-suspends-production-shanghai-plant-125122362.html&sa=U&ved=2ahUKEwjDlpOhzZb8AhVMNEQIHUUJAVgQxfQBegQIAhAC&usg=AOvVaw039hjNIu1Kbgli9wfYAt7p',\n",
              "  '/url?q=https://finance.yahoo.com/news/tesla-stock-bull-price-sustainability-behemoth-171323053.html&sa=U&ved=2ahUKEwjDlpOhzZb8AhVMNEQIHUUJAVgQxfQBegQIBBAC&usg=AOvVaw2RUCYLIbL_hY7-gVkOJOnS',\n",
              "  '/url?q=https://finance.yahoo.com/video/twitter-much-more-aggressively-managed-163244630.html&sa=U&ved=2ahUKEwjDlpOhzZb8AhVMNEQIHUUJAVgQxfQBegQIBxAC&usg=AOvVaw1FMDEbxbrW6IQWqPBSAdt1',\n",
              "  '/url?q=https://finance.yahoo.com/news/elon-musks-vow-hold-tesla-162049771.html&sa=U&ved=2ahUKEwjDlpOhzZb8AhVMNEQIHUUJAVgQxfQBegQICBAC&usg=AOvVaw2Dql_nz2LWLPVRVtMfITPD',\n",
              "  '/url?q=https://finance.yahoo.com/news/tesla-stock-bull-elon-musk-asleep-at-wheel-twitter-112621568.html&sa=U&ved=2ahUKEwjDlpOhzZb8AhVMNEQIHUUJAVgQxfQBegQIBhAC&usg=AOvVaw2acSSVzjB5naxeput4q--F',\n",
              "  '/url?q=https://finance.yahoo.com/news/teslas-largest-ever-decline-has-short-sellers-sitting-on-15-billion-in-profits-morning-brief-110021261.html&sa=U&ved=2ahUKEwjDlpOhzZb8AhVMNEQIHUUJAVgQxfQBegQIBRAC&usg=AOvVaw2Ruic8Tlfqxd936FM2O_hQ',\n",
              "  '/url?q=https://finance.yahoo.com/news/elon-musk-says-were-overdue-000126704.html&sa=U&ved=2ahUKEwjDlpOhzZb8AhVMNEQIHUUJAVgQxfQBegQIABAC&usg=AOvVaw3uH8D6u8XtWgmq8Ap0D9YM',\n",
              "  '/url?q=https://finance.yahoo.com/news/tesla-stock-gets-more-cautious-comments-from-wall-street-131801888.html&sa=U&ved=2ahUKEwjDlpOhzZb8AhVMNEQIHUUJAVgQxfQBegQIARAC&usg=AOvVaw2NtDZkQm9GqvntfuEm_6JW',\n",
              "  '/search?q=yahoo+finance+TSLA&ie=UTF-8&tbm=nws&ei=FzipY4OvH8zokPIPxZKEwAU&start=10&sa=N',\n",
              "  '/url?q=https://support.google.com/websearch%3Fp%3Dws_settings_location%26hl%3Den&sa=U&ved=0ahUKEwjDlpOhzZb8AhVMNEQIHUUJAVgQty4IUw&usg=AOvVaw30xh5tjEaXk-R92wX87hq6',\n",
              "  '/url?q=https://accounts.google.com/ServiceLogin%3Fcontinue%3Dhttps://www.google.com/search%253Fq%253Dyahoo%252Bfinance%252BTSLA%2526tbm%253Dnws%26hl%3Den&sa=U&ved=0ahUKEwjDlpOhzZb8AhVMNEQIHUUJAVgQxs8CCFQ&usg=AOvVaw3QbmJGMvzjXS-FYEIrUVo_',\n",
              "  'https://www.google.com/preferences?hl=en&fg=1&sa=X&ved=0ahUKEwjDlpOhzZb8AhVMNEQIHUUJAVgQ5fUCCFU',\n",
              "  'https://policies.google.com/privacy?hl=en&fg=1',\n",
              "  'https://policies.google.com/terms?hl=en&fg=1'],\n",
              " 'BTC': ['/?sa=X&ved=0ahUKEwi2j6ihzZb8AhUWHkQIHc-_D1YQOwgC',\n",
              "  '/search?q=yahoo+finance+BTC&tbm=nws&ie=UTF-8&gbv=1&sei=FzipY_anNJa8kPIPz_--sAU',\n",
              "  '/search?q=yahoo+finance+BTC&ie=UTF-8&source=lnms&sa=X&ved=0ahUKEwi2j6ihzZb8AhUWHkQIHc-_D1YQ_AUIBSgA',\n",
              "  '/search?q=yahoo+finance+BTC&ie=UTF-8&tbm=isch&source=lnms&sa=X&ved=0ahUKEwi2j6ihzZb8AhUWHkQIHc-_D1YQ_AUIBygC',\n",
              "  '/search?q=yahoo+finance+BTC&ie=UTF-8&tbm=vid&source=lnms&sa=X&ved=0ahUKEwi2j6ihzZb8AhUWHkQIHc-_D1YQ_AUICCgD',\n",
              "  'https://maps.google.com/maps?q=yahoo+finance+BTC&um=1&ie=UTF-8&sa=X&ved=0ahUKEwi2j6ihzZb8AhUWHkQIHc-_D1YQ_AUICSgE',\n",
              "  '/search?q=yahoo+finance+BTC&ie=UTF-8&tbm=shop&source=lnms&sa=X&ved=0ahUKEwi2j6ihzZb8AhUWHkQIHc-_D1YQ_AUICigF',\n",
              "  '/search?q=yahoo+finance+BTC&ie=UTF-8&tbm=bks&source=lnms&sa=X&ved=0ahUKEwi2j6ihzZb8AhUWHkQIHc-_D1YQ_AUICygG',\n",
              "  '/advanced_search',\n",
              "  '/search?q=yahoo+finance+BTC&ie=UTF-8&tbm=nws&source=lnt&tbs=qdr:h&sa=X&ved=0ahUKEwi2j6ihzZb8AhUWHkQIHc-_D1YQpwUIDQ',\n",
              "  '/search?q=yahoo+finance+BTC&ie=UTF-8&tbm=nws&source=lnt&tbs=qdr:d&sa=X&ved=0ahUKEwi2j6ihzZb8AhUWHkQIHc-_D1YQpwUIDg',\n",
              "  '/search?q=yahoo+finance+BTC&ie=UTF-8&tbm=nws&source=lnt&tbs=qdr:w&sa=X&ved=0ahUKEwi2j6ihzZb8AhUWHkQIHc-_D1YQpwUIDw',\n",
              "  '/search?q=yahoo+finance+BTC&ie=UTF-8&tbm=nws&source=lnt&tbs=qdr:m&sa=X&ved=0ahUKEwi2j6ihzZb8AhUWHkQIHc-_D1YQpwUIEA',\n",
              "  '/search?q=yahoo+finance+BTC&ie=UTF-8&tbm=nws&source=lnt&tbs=qdr:y&sa=X&ved=0ahUKEwi2j6ihzZb8AhUWHkQIHc-_D1YQpwUIEQ',\n",
              "  '/search?q=yahoo+finance+BTC&ie=UTF-8&tbm=nws&source=lnt&tbs=ar:1&sa=X&ved=0ahUKEwi2j6ihzZb8AhUWHkQIHc-_D1YQpwUIEg',\n",
              "  '/search?q=yahoo+finance+BTC&ie=UTF-8&tbm=nws&source=lnt&tbs=sbd:1&sa=X&ved=0ahUKEwi2j6ihzZb8AhUWHkQIHc-_D1YQpwUIFA',\n",
              "  '/url?q=https://finance.yahoo.com/news/tron-justin-sun-secret-top-191313018.html&sa=U&ved=2ahUKEwi2j6ihzZb8AhUWHkQIHc-_D1YQxfQBegQICBAC&usg=AOvVaw30EsxB99dOfKHyzcZ1Qdiu',\n",
              "  '/url?q=https://finance.yahoo.com/news/u-crypto-miner-core-scientific-113132861.html&sa=U&ved=2ahUKEwi2j6ihzZb8AhUWHkQIHc-_D1YQxfQBegQICRAC&usg=AOvVaw10Ev2eXVskkVWPloQkievx',\n",
              "  '/url?q=https://finance.yahoo.com/video/understanding-bitcoins-64-decline-2022-203743060.html&sa=U&ved=2ahUKEwi2j6ihzZb8AhUWHkQIHc-_D1YQxfQBegQIABAC&usg=AOvVaw2bEEC9sUKMGtb9KZIxa7vt',\n",
              "  '/url?q=https://finance.yahoo.com/news/crypto-markets-today-federal-judge-220959175.html&sa=U&ved=2ahUKEwi2j6ihzZb8AhUWHkQIHc-_D1YQxfQBegQIAhAC&usg=AOvVaw0pNqBzBXEh-7IG3SsEkNQZ',\n",
              "  '/url?q=https://finance.yahoo.com/news/bitcoin-interest-surged-in-2022-as-crypto-winter-arrived-morning-brief-103134240.html&sa=U&ved=2ahUKEwi2j6ihzZb8AhUWHkQIHc-_D1YQxfQBegQIARAC&usg=AOvVaw0_XJ3sZu6PCYVAE9iP0aTQ',\n",
              "  '/url?q=https://finance.yahoo.com/news/bitcoin-miner-core-scientific-files-for-bankruptcy-133753430.html&sa=U&ved=2ahUKEwi2j6ihzZb8AhUWHkQIHc-_D1YQxfQBegQIBBAC&usg=AOvVaw1-k24S4rCSk5m7ynqBnjQw',\n",
              "  '/url?q=https://finance.yahoo.com/news/warren-reactionary-crypto-policy-vs-155000864.html&sa=U&ved=2ahUKEwi2j6ihzZb8AhUWHkQIHc-_D1YQxfQBegQIBRAC&usg=AOvVaw0nLiBw44_X1iSdCos6OWsb',\n",
              "  '/url?q=https://finance.yahoo.com/news/13-best-blockchain-stocks-buy-183040818.html&sa=U&ved=2ahUKEwi2j6ihzZb8AhUWHkQIHc-_D1YQxfQBegQIBhAC&usg=AOvVaw2B6kgE0lzxGOiYk_XOOO9i',\n",
              "  '/url?q=https://uk.finance.yahoo.com/news/how-crypto-fell-2022-eight-charts-story-of-cruel-crash-060058350.html&sa=U&ved=2ahUKEwi2j6ihzZb8AhUWHkQIHc-_D1YQxfQBegQIAxAC&usg=AOvVaw0MNmyCMc-VzAsY8GjThWp6',\n",
              "  '/url?q=https://bitcoinist.com/bitcoin-interest-balloons-in-2022/&sa=U&ved=2ahUKEwi2j6ihzZb8AhUWHkQIHc-_D1YQxfQBegQIBxAC&usg=AOvVaw3-7DeOQLpK8b8HNmK-uAxc',\n",
              "  '/search?q=yahoo+finance+BTC&ie=UTF-8&tbm=nws&ei=FzipY_anNJa8kPIPz_--sAU&start=10&sa=N',\n",
              "  '/url?q=https://support.google.com/websearch%3Fp%3Dws_settings_location%26hl%3Den&sa=U&ved=0ahUKEwi2j6ihzZb8AhUWHkQIHc-_D1YQty4IUw&usg=AOvVaw3I5jgjHAPkWvR80UNqc6PM',\n",
              "  '/url?q=https://accounts.google.com/ServiceLogin%3Fcontinue%3Dhttps://www.google.com/search%253Fq%253Dyahoo%252Bfinance%252BBTC%2526tbm%253Dnws%26hl%3Den&sa=U&ved=0ahUKEwi2j6ihzZb8AhUWHkQIHc-_D1YQxs8CCFQ&usg=AOvVaw1nJyxdM_uiWITTt9KebjW3',\n",
              "  'https://www.google.com/preferences?hl=en&fg=1&sa=X&ved=0ahUKEwi2j6ihzZb8AhUWHkQIHc-_D1YQ5fUCCFU',\n",
              "  'https://policies.google.com/privacy?hl=en&fg=1',\n",
              "  'https://policies.google.com/terms?hl=en&fg=1'],\n",
              " 'ETH': ['/?sa=X&ved=0ahUKEwiepL-hzZb8AhWWJUQIHVClDVcQOwgC',\n",
              "  '/search?q=yahoo+finance+ETH&tbm=nws&ie=UTF-8&gbv=1&sei=GDipY564DpbLkPIP0Mq2uAU',\n",
              "  '/search?q=yahoo+finance+ETH&ie=UTF-8&source=lnms&sa=X&ved=0ahUKEwiepL-hzZb8AhWWJUQIHVClDVcQ_AUIBSgA',\n",
              "  '/search?q=yahoo+finance+ETH&ie=UTF-8&tbm=vid&source=lnms&sa=X&ved=0ahUKEwiepL-hzZb8AhWWJUQIHVClDVcQ_AUIBygC',\n",
              "  '/search?q=yahoo+finance+ETH&ie=UTF-8&tbm=isch&source=lnms&sa=X&ved=0ahUKEwiepL-hzZb8AhWWJUQIHVClDVcQ_AUICCgD',\n",
              "  'https://maps.google.com/maps?q=yahoo+finance+ETH&um=1&ie=UTF-8&sa=X&ved=0ahUKEwiepL-hzZb8AhWWJUQIHVClDVcQ_AUICSgE',\n",
              "  '/search?q=yahoo+finance+ETH&ie=UTF-8&tbm=shop&source=lnms&sa=X&ved=0ahUKEwiepL-hzZb8AhWWJUQIHVClDVcQ_AUICigF',\n",
              "  '/search?q=yahoo+finance+ETH&ie=UTF-8&tbm=bks&source=lnms&sa=X&ved=0ahUKEwiepL-hzZb8AhWWJUQIHVClDVcQ_AUICygG',\n",
              "  '/advanced_search',\n",
              "  '/search?q=yahoo+finance+ETH&ie=UTF-8&tbm=nws&source=lnt&tbs=qdr:h&sa=X&ved=0ahUKEwiepL-hzZb8AhWWJUQIHVClDVcQpwUIDQ',\n",
              "  '/search?q=yahoo+finance+ETH&ie=UTF-8&tbm=nws&source=lnt&tbs=qdr:d&sa=X&ved=0ahUKEwiepL-hzZb8AhWWJUQIHVClDVcQpwUIDg',\n",
              "  '/search?q=yahoo+finance+ETH&ie=UTF-8&tbm=nws&source=lnt&tbs=qdr:w&sa=X&ved=0ahUKEwiepL-hzZb8AhWWJUQIHVClDVcQpwUIDw',\n",
              "  '/search?q=yahoo+finance+ETH&ie=UTF-8&tbm=nws&source=lnt&tbs=qdr:m&sa=X&ved=0ahUKEwiepL-hzZb8AhWWJUQIHVClDVcQpwUIEA',\n",
              "  '/search?q=yahoo+finance+ETH&ie=UTF-8&tbm=nws&source=lnt&tbs=qdr:y&sa=X&ved=0ahUKEwiepL-hzZb8AhWWJUQIHVClDVcQpwUIEQ',\n",
              "  '/search?q=yahoo+finance+ETH&ie=UTF-8&tbm=nws&source=lnt&tbs=ar:1&sa=X&ved=0ahUKEwiepL-hzZb8AhWWJUQIHVClDVcQpwUIEg',\n",
              "  '/search?q=yahoo+finance+ETH&ie=UTF-8&tbm=nws&source=lnt&tbs=sbd:1&sa=X&ved=0ahUKEwiepL-hzZb8AhWWJUQIHVClDVcQpwUIFA',\n",
              "  '/url?q=https://finance.yahoo.com/news/peer-peer-crypto-marketplace-paxful-131914185.html&sa=U&ved=2ahUKEwiepL-hzZb8AhWWJUQIHVClDVcQxfQBegQIBRAC&usg=AOvVaw2fKhaYZ47R02ia5PaC_aU8',\n",
              "  '/url?q=https://finance.yahoo.com/news/bit-digital-inc-announces-commencement-213000571.html&sa=U&ved=2ahUKEwiepL-hzZb8AhWWJUQIHVClDVcQxfQBegQICRAC&usg=AOvVaw0miSwbbwN4_Oy5E6vbjt55',\n",
              "  '/url?q=https://finance.yahoo.com/news/crypto-markets-today-bitcoin-ends-215556584.html&sa=U&ved=2ahUKEwiepL-hzZb8AhWWJUQIHVClDVcQxfQBegQIBBAC&usg=AOvVaw0JeORZrLVwjWmyUNwDBCV_',\n",
              "  '/url?q=https://finance.yahoo.com/news/ethereum-developers-target-march-2023-153950997.html&sa=U&ved=2ahUKEwiepL-hzZb8AhWWJUQIHVClDVcQxfQBegQIAhAC&usg=AOvVaw3N24ctXE0xsZjgkzxFDr5v',\n",
              "  '/url?q=https://finance.yahoo.com/news/rabbit2023-token-launched-bsc-eth-165300004.html&sa=U&ved=2ahUKEwiepL-hzZb8AhWWJUQIHVClDVcQxfQBegQIBxAC&usg=AOvVaw2wSzORnTPuFnCjNK5ZNbxz',\n",
              "  '/url?q=https://finance.yahoo.com/news/ethereum-name-dao-votes-stewards-091107739.html&sa=U&ved=2ahUKEwiepL-hzZb8AhWWJUQIHVClDVcQxfQBegQICBAC&usg=AOvVaw2XKN1PwQ4Lq50j4hfOKVyL',\n",
              "  '/url?q=https://uk.finance.yahoo.com/news/bitcoin-ethereum-not-securities-belgium-declares-141125670.html&sa=U&ved=2ahUKEwiepL-hzZb8AhWWJUQIHVClDVcQxfQBegQIBhAC&usg=AOvVaw3qZclM3OOxJjI5v2Nkc8cj',\n",
              "  '/url?q=https://finance.yahoo.com/news/twitter-rolls-blue-business-visa-140826481.html&sa=U&ved=2ahUKEwiepL-hzZb8AhWWJUQIHVClDVcQxfQBegQIAxAC&usg=AOvVaw2TEkbrcGZy7pN0oFDb4r_G',\n",
              "  '/url?q=https://finance.yahoo.com/news/first-mover-asia-ethereum-isn-022654235.html&sa=U&ved=2ahUKEwiepL-hzZb8AhWWJUQIHVClDVcQxfQBegQIARAC&usg=AOvVaw2JgBSM0HlHsquA4IJL-2Ts',\n",
              "  '/url?q=https://finance.yahoo.com/news/ether-turns-inflationary-network-usage-011302069.html&sa=U&ved=2ahUKEwiepL-hzZb8AhWWJUQIHVClDVcQxfQBegQIABAC&usg=AOvVaw3JxgRRxa3rPR2XYuMxv0P7',\n",
              "  '/search?q=yahoo+finance+ETH&ie=UTF-8&tbm=nws&ei=GDipY564DpbLkPIP0Mq2uAU&start=10&sa=N',\n",
              "  '/url?q=https://support.google.com/websearch%3Fp%3Dws_settings_location%26hl%3Den&sa=U&ved=0ahUKEwiepL-hzZb8AhWWJUQIHVClDVcQty4IUw&usg=AOvVaw19mJwPqK61KznxztXhrAN4',\n",
              "  '/url?q=https://accounts.google.com/ServiceLogin%3Fcontinue%3Dhttps://www.google.com/search%253Fq%253Dyahoo%252Bfinance%252BETH%2526tbm%253Dnws%26hl%3Den&sa=U&ved=0ahUKEwiepL-hzZb8AhWWJUQIHVClDVcQxs8CCFQ&usg=AOvVaw17zDcXxs8Cr0AP1o5oddC7',\n",
              "  'https://www.google.com/preferences?hl=en&fg=1&sa=X&ved=0ahUKEwiepL-hzZb8AhWWJUQIHVClDVcQ5fUCCFU',\n",
              "  'https://policies.google.com/privacy?hl=en&fg=1',\n",
              "  'https://policies.google.com/terms?hl=en&fg=1']}"
            ]
          },
          "metadata": {},
          "execution_count": 13
        }
      ]
    },
    {
      "cell_type": "markdown",
      "source": [
        "**Strip out unwanted URLs**"
      ],
      "metadata": {
        "id": "uhKq90n-1eE-"
      }
    },
    {
      "cell_type": "code",
      "source": [
        "import re"
      ],
      "metadata": {
        "id": "zd_M4Trn1jSV"
      },
      "execution_count": 14,
      "outputs": []
    },
    {
      "cell_type": "code",
      "source": [
        "exclude_list = ['maps', 'policies', 'preferences', 'accounts', 'support']"
      ],
      "metadata": {
        "id": "6cx6sJ5M1xne"
      },
      "execution_count": 17,
      "outputs": []
    },
    {
      "cell_type": "code",
      "source": [
        "def strip_unwanted_urls(urls, exclude_list):\n",
        "    val = []\n",
        "    for url in urls: \n",
        "        if 'https://' in url and not any(exclude_word in url for exclude_word in exclude_list):\n",
        "            res = re.findall(r'(https?://\\S+)', url)[0].split('&')[0]\n",
        "            val.append(res)\n",
        "    return list(set(val))"
      ],
      "metadata": {
        "id": "38dz5urI2FHg"
      },
      "execution_count": 18,
      "outputs": []
    },
    {
      "cell_type": "code",
      "source": [
        "cleaned_urls = {ticker:strip_unwanted_urls(raw_urls[ticker], exclude_list) for ticker in monitored_tickers}\n",
        "cleaned_urls"
      ],
      "metadata": {
        "colab": {
          "base_uri": "https://localhost:8080/"
        },
        "id": "9Adie-gh3qAa",
        "outputId": "b8e9de73-3520-4b75-da0e-721284ed0f06"
      },
      "execution_count": 19,
      "outputs": [
        {
          "output_type": "execute_result",
          "data": {
            "text/plain": [
              "{'GME': ['https://finance.yahoo.com/news/my-meme-stock-fiasco-153417561.html',\n",
              "  'https://finance.yahoo.com/video/meme-stocks-gain-steam-amc-164335352.html',\n",
              "  'https://ca.finance.yahoo.com/news/after-hours-stock-movers-game-stop-rent-the-runway-c-3-ai-and-more-232228102.html',\n",
              "  'https://finance.yahoo.com/news/the-game-stop-turnaround-promise-is-failing-111117027.html',\n",
              "  'https://finance.yahoo.com/news/gamestop-reports-third-quarter-fiscal-210500302.html',\n",
              "  'https://finance.yahoo.com/news/gme-resources-limited-asx-gme-223611770.html',\n",
              "  'https://finance.yahoo.com/news/after-hours-stock-movers-game-stop-rent-the-runway-c-3-ai-and-more-232228102.html',\n",
              "  'https://finance.yahoo.com/news/morningstar-ceos-message-to-meme-stock-investors-162841912.html',\n",
              "  'https://finance.yahoo.com/news/gamestop-corp-nyse-gme-q3-183439060.html',\n",
              "  'https://finance.yahoo.com/news/mark-cuban-stock-portfolio-10-211950824.html'],\n",
              " 'TSLA': ['https://finance.yahoo.com/news/tesla-stock-bull-elon-musk-asleep-at-wheel-twitter-112621568.html',\n",
              "  'https://finance.yahoo.com/news/elon-musk-says-were-overdue-000126704.html',\n",
              "  'https://finance.yahoo.com/video/twitter-much-more-aggressively-managed-163244630.html',\n",
              "  'https://finance.yahoo.com/news/elon-musks-vow-hold-tesla-162049771.html',\n",
              "  'https://finance.yahoo.com/news/elon-musk-warns-against-margin-215641054.html',\n",
              "  'https://finance.yahoo.com/news/tesla-suspends-production-shanghai-plant-125122362.html',\n",
              "  'https://finance.yahoo.com/news/tesla-stock-gets-more-cautious-comments-from-wall-street-131801888.html',\n",
              "  'https://finance.yahoo.com/news/tesla-stock-bull-price-sustainability-behemoth-171323053.html',\n",
              "  'https://finance.yahoo.com/news/cathie-wood-loading-12-stocks-231301471.html',\n",
              "  'https://finance.yahoo.com/news/teslas-largest-ever-decline-has-short-sellers-sitting-on-15-billion-in-profits-morning-brief-110021261.html'],\n",
              " 'BTC': ['https://finance.yahoo.com/news/tron-justin-sun-secret-top-191313018.html',\n",
              "  'https://finance.yahoo.com/news/u-crypto-miner-core-scientific-113132861.html',\n",
              "  'https://finance.yahoo.com/news/bitcoin-miner-core-scientific-files-for-bankruptcy-133753430.html',\n",
              "  'https://bitcoinist.com/bitcoin-interest-balloons-in-2022/',\n",
              "  'https://finance.yahoo.com/news/warren-reactionary-crypto-policy-vs-155000864.html',\n",
              "  'https://uk.finance.yahoo.com/news/how-crypto-fell-2022-eight-charts-story-of-cruel-crash-060058350.html',\n",
              "  'https://finance.yahoo.com/news/13-best-blockchain-stocks-buy-183040818.html',\n",
              "  'https://finance.yahoo.com/news/bitcoin-interest-surged-in-2022-as-crypto-winter-arrived-morning-brief-103134240.html',\n",
              "  'https://finance.yahoo.com/video/understanding-bitcoins-64-decline-2022-203743060.html',\n",
              "  'https://finance.yahoo.com/news/crypto-markets-today-federal-judge-220959175.html'],\n",
              " 'ETH': ['https://finance.yahoo.com/news/bit-digital-inc-announces-commencement-213000571.html',\n",
              "  'https://finance.yahoo.com/news/first-mover-asia-ethereum-isn-022654235.html',\n",
              "  'https://finance.yahoo.com/news/crypto-markets-today-bitcoin-ends-215556584.html',\n",
              "  'https://finance.yahoo.com/news/peer-peer-crypto-marketplace-paxful-131914185.html',\n",
              "  'https://uk.finance.yahoo.com/news/bitcoin-ethereum-not-securities-belgium-declares-141125670.html',\n",
              "  'https://finance.yahoo.com/news/ether-turns-inflationary-network-usage-011302069.html',\n",
              "  'https://finance.yahoo.com/news/ethereum-developers-target-march-2023-153950997.html',\n",
              "  'https://finance.yahoo.com/news/twitter-rolls-blue-business-visa-140826481.html',\n",
              "  'https://finance.yahoo.com/news/ethereum-name-dao-votes-stewards-091107739.html',\n",
              "  'https://finance.yahoo.com/news/rabbit2023-token-launched-bsc-eth-165300004.html']}"
            ]
          },
          "metadata": {},
          "execution_count": 19
        }
      ]
    },
    {
      "cell_type": "markdown",
      "source": [
        "**Search and scrape cleaned URLs**"
      ],
      "metadata": {
        "id": "LwXSBzqm4Tvp"
      }
    },
    {
      "cell_type": "code",
      "source": [
        "def scrape_and_process(URLs):\n",
        "    ARTICLES = []\n",
        "    for url in URLs: \n",
        "        r = requests.get(url)\n",
        "        soup = BeautifulSoup(r.text, 'html.parser')\n",
        "        paragraphs = soup.find_all('p')\n",
        "        text = [paragraph.text for paragraph in paragraphs]\n",
        "        words = ' '.join(text).split(' ')[:350]\n",
        "        ARTICLE = ' '.join(words)\n",
        "        ARTICLES.append(ARTICLE)\n",
        "    return ARTICLES"
      ],
      "metadata": {
        "id": "dfQtAT0x4aTg"
      },
      "execution_count": 20,
      "outputs": []
    },
    {
      "cell_type": "code",
      "source": [
        "articles = {ticker:scrape_and_process(cleaned_urls[ticker]) for ticker in monitored_tickers}\n",
        "articles"
      ],
      "metadata": {
        "colab": {
          "base_uri": "https://localhost:8080/"
        },
        "id": "eNms7pQR5XDM",
        "outputId": "df163b92-e0ee-46ff-b631-f90204e5188d"
      },
      "execution_count": 21,
      "outputs": [
        {
          "output_type": "execute_result",
          "data": {
            "text/plain": [
              "{'GME': [\"I like money as much as anybody, and I’m not too pure to chase quick cash, if the opportunity seems plausible. So in 2021, I decided to dabble in the meme-stock craze that was upending Wall Street and making some gutsy day-traders rich. Gaming retailer GameStop (GME) was the first meme stock, with trader Keith Gill first making the case for why the stock could skyrocket in August of 2020, on the Reddit channel WallStreetBets. Almost nobody noticed Gill’s pitch until the stock did, in fact, blast off five months later. Part of Gill’s strategy was looking for beaten-down stocks with high levels of short interest and bet on a “short squeeze” that could trigger an exponential rise in the stock price. It happened. Before Gill’s pitch, GME traded at around $1. It drifted up slowly toward the end of 2020 and then went crazy, peaking at a closing price of $87 on January 27, 2021. More remarkable than the gain was the fact that it appeared to have nothing to do with GME’s financial performance, which was dismal. Instead, ordinary retail investors organizing on social media seem to have sent the price soaring simply by swarming into the stock and creating a surge in demand. Movie-chain AMC (AMC) came next. Right around the time GME peaked, AMC’s stock started to reverse a four-year decline and get frothy. The stock jumped from a closing low of $1.98 in early January of 2021 to nearly $20 just three weeks later. It wobbled for awhile, then exploded, peaking at $64 on June 2, 2021. The gradual end of the COVID pandemic might have been bullish for the stock, since people would start going to the movies again. But that didn’t explain a 31-fold ascent in the stock price. AMC was still a giant money-loser, with no near-term prospects for turning a profit. Again, a throng of crowdsourced buyers seemed to have driven the surge. [Did you lose money on meme stocks? We'd love to hear your story.] This is around the time I got interested. I’m not as dumb as I might\",\n",
              "  'Thank you for your patience. Our engineers are working quickly to resolve the issue.',\n",
              "  'Oil at US$72 after dropping roughly 10% this week to lowest level since January GameStop (GME): The retailer missed on both the top and bottom lines as sales declined amid a gaming slowdown. Third-quarter net sales of $1.19 billion were down 8.5% from a year ago, driven by a 19% drop in software sales. GameStop reported losses of $94.7 million in the third quarter, its seventh quarterly loss in a row. Inventory was $1.13 billion, compared with $1.14 billion a year ago. Shares rose as much as 4% in extended trading on Wednesday. Rent the Runway (RENT): The company raised its full-year revenue forecast, sending shares up as much as 22% in extended trading. Rent the Runway sees revenue $293 million to $295 million, topping analyst’s estimate of $288.3 million. CEO Jennifer Hyman noted in the release that the company’s restructuring plan was ‘substantially complete’ and will focus on ‘substantially improving cash burn’ in the future. C3.ai (AI): The AI software provider reported better than expected third-quarter earnings and revenue and reaffirmed its full-year revenue forecast of $255 million to $270 million. Revenue for the quarter rose 7.1% from a year ago, driven by a 26% jump in subscription sales. Shares were little-changed after hours. The Duckhorn Portfolio (NAPA): Shares rose 3% in extended trading after the winemaker’s fiscal first-quarter net sales and profit topped expectations. Revenue for the quarter was $108.2 million, up from $104.2 million a year ago. Net income was $19.8 million, versus $21.3 million a year ago. Duckhorn also noted its CFO Lori Beaudoin will be stepping down in the spring of 2023 after more than 13 years with the company. Click here for the latest trending stock tickers of the Yahoo Finance platform Click here for the latest stock market news and in-depth analysis, including events that move stocks Read the latest financial and business news from Yahoo Finance Download the Yahoo Finance app for Apple or Android Follow Yahoo Finance on Twitter, Facebook, Instagram, Flipboard, LinkedIn, and YouTube Elizabeth Holmes was sentenced to 11.25 years in prison with 3 years of supervised release after',\n",
              "  'GameStop Chairman Ryan Cohen and CEO Matt Furlong promised to turn the gaming retailer into one of operational excellence and amazing store experiences while cashing in on new opportunities like crypto and NFTs. More than a year into their collective and rather secretive leadership, the entire experiment is beginning to look like an utter failure — underscoring longtime Wall Street concerns about the company\\'s business model such as too many costly physical stores in dying malls and shifts to digital gaming. Not helping GameStop\\'s turnaround efforts is a complete crash in the once thriving digital asset market that Cohen and Furlong were banking on (see: the NFT market crash or GameStop\\'s strategic partnership with now-defunct FTX). The realities of this underwhelming turnaround story were on grand display in GameStop\\'s third quarter earnings out Wednesday evening. The damage came in two forms. First, another dreadfully poor quarter of financials: Net sales -8.5% year over year. Sales down in the hardware/accessories and software businesses — these businesses have represented about 82% of GameStop\\'s year to date sales. Sales down in the United States, Canada, Australia, and Europe. Gross profit margins unchanged year over year. $95 million adjusted operating loss. Year to date, GameStop has lost $354.9 million on an adjusted operating basis. Total cash of about $1 billion, down from $1.4 billion in the year ago quarter. The other aspect — which is now only taking form — is GameStop dialing back the capital its investing to alter the course of its business longer-term. The pivot amounts to a complete about-face after several ugly quarters that have sent the volatile stock price plunging 40% in 2022. \"Today, we\\'re in the process of aligning corporate costs to our go-forward needs after completing the majority of necessary upgrades to our systems, fulfillment capabilities and overall foundation,\" Furlong said in another relatively short — 8 minutes — earnings call. \"A large portion of our cost cuts will stem from reductions in corporate headcount that have been made during the back-half of this calendar year. In some cases individuals who helped us complete key initiatives have',\n",
              "  'GRAPEVINE, Texas, December 07, 2022--(BUSINESS WIRE)--GameStop Corp. (NYSE: GME) (\"GameStop\" or the \"Company\") today released financial results for the third quarter ended October 29, 2022. The Company’s condensed and consolidated financial statements, including GAAP and non-GAAP results, are below. The Company’s Form 10-Q and supplemental information can be found at http://investor.GameStop.com. THIRD QUARTER OVERVIEW Net sales were $1.186 billion, compared to $1.297 billion in the prior year\\'s third quarter. Sales attributable to new and expanded brand relationships were strong in the quarter, while sales in the collectibles category remained strong on a year-to-date basis. Selling, general and administrative expenses (\"SG&A\") were $387.9 million, or 32.7% of sales, compared to $421.5 million, or 32.5% of sales, in the prior year\\'s third quarter. Notably, SG&A as a percentage of revenue was down on a sequential basis from 34.1% in Q2 of this year, reflecting the Company’s ongoing cost reduction efforts. Inventory was $1.131 billion at the close of the period, compared to $1.141 billion at the close of the prior year\\'s third quarter. Cash, cash equivalents and marketable securities were $1.042 billion at the close of the third quarter. Long-term debt remains limited to a low-interest, unsecured term loan associated with the French government’s response to COVID-19. CONFERENCE CALL INFORMATION The Company will host an investor conference call today, December 7, 2022, at 5:00 pm ET to review its financial results. The phone number for the investor conference call is 1-877-407-6169 and the confirmation code is 13734613. This call, along with supplemental information, can also be accessed at http://investor.GameStop.com. A recording of the conference call will be made available on the Company’s investor relations website for two months. NON-GAAP MEASURES AND OTHER METRICS As a supplement to the Company’s financial results presented in accordance with U.S. generally accepted accounting principles (GAAP), GameStop may use certain non-GAAP measures, such as adjusted SG&A, adjusted operating income (loss), adjusted net income (loss), adjusted diluted earnings (loss) per share, adjusted EBITDA and free cash flow. The Company believes these non-GAAP financial measures provide useful information to investors in evaluating the Company’s core operating performance. Adjusted selling,',\n",
              "  \"Insiders were net buyers of GME Resources Limited's (ASX:GME ) stock during the past year. That is, insiders bought more stock than they sold. While we would never suggest that investors should base their decisions solely on what the directors of a company have been doing, we do think it is perfectly logical to keep tabs on what insiders are doing.  Check out our latest analysis for GME Resources  In the last twelve months, the biggest single purchase by an insider was when MD & Director Paul Kopejtka bought AU$100k worth of shares at a price of AU$0.084 per share. Although we like to see insider buying, we note that this large purchase was at significantly below the recent price of AU$0.095. Because it occurred at a lower valuation, it doesn't tell us much about whether insiders might find today's price attractive. The chart below shows insider transactions (by companies and individuals) over the last year. If you click on the chart, you can see all the individual transactions, including the share price, individual, and the date! There are always plenty of stocks that insiders are buying. So if that suits your style you could check each stock one by one or you could take a look at this free list of companies. (Hint: insiders have been buying them). Another way to test the alignment between the leaders of a company and other shareholders is to look at how many shares they own. Usually, the higher the insider ownership, the more likely it is that insiders will be incentivised to build the company for the long term. It appears that GME Resources insiders own 24% of the company, worth about AU$15m. We've certainly seen higher levels of insider ownership elsewhere, but these holdings are enough to suggest alignment between insiders and the other shareholders. It is good to see the recent insider purchase. And the longer term insider transactions also give us confidence. However, we note that the company didn't make a profit over the last twelve months, which makes us cautious. Insiders likely see value in GME\",\n",
              "  'GameStop (GME): The retailer missed on both the top and bottom lines as sales declined amid a gaming slowdown. Third-quarter net sales of $1.19 billion were down 8.5% from a year ago, driven by a 19% drop in software sales. GameStop reported losses of $94.7 million in the third quarter, its seventh quarterly loss in a row. Inventory was $1.13 billion, compared with $1.14 billion a year ago. Shares rose as much as 4% in extended trading on Wednesday. Rent the Runway (RENT): The company raised its full-year revenue forecast, sending shares up as much as 22% in extended trading. Rent the Runway sees revenue $293 million to $295 million, topping analyst’s estimate of $288.3 million. CEO Jennifer Hyman noted in the release that the company’s restructuring plan was ‘substantially complete’ and will focus on ‘substantially improving cash burn’ in the future. C3.ai (AI): The AI software provider reported better than expected third-quarter earnings and revenue and reaffirmed its full-year revenue forecast of $255 million to $270 million. Revenue for the quarter rose 7.1% from a year ago, driven by a 26% jump in subscription sales. Shares were little-changed after hours. The Duckhorn Portfolio (NAPA): Shares rose 3% in extended trading after the winemaker’s fiscal first-quarter net sales and profit topped expectations. Revenue for the quarter was $108.2 million, up from $104.2 million a year ago. Net income was $19.8 million, versus $21.3 million a year ago. Duckhorn also noted its CFO Lori Beaudoin will be stepping down in the spring of 2023 after more than 13 years with the company. Click here for the latest trending stock tickers of the Yahoo Finance platform Click here for the latest stock market news and in-depth analysis, including events that move stocks Read the latest financial and business news from Yahoo Finance Download the Yahoo Finance app for Apple or Android Follow Yahoo Finance on Twitter, Facebook, Instagram, Flipboard, LinkedIn, and YouTube Related Quotes',\n",
              "  'The meme stock frenzy may have died down from its fever-pitch levels during the COVID-19 pandemic, but there continues to be a wide swath of supporters for companies that are far from fundamentally sound and trade with heightened volatility. To that end, Morningstar CEO Kunal Kapoor has a reminder to the growing retail investor community still playing stocks such as AMC (AMC), GameStop (GME), and Bed Bath & Beyond (BBBY) in the hopes of quick and easy gains: Please use extra caution and think about long-term investing approaches. \"My hope is that even as maybe people have been using some of their fun money, so to speak, to do some of the meme stock investing or maybe investing in crypto or what have you, that the serious part of their investing is really starting to transition to things that over time help them build wealth,\" Kapoor said in a new Yahoo Finance Presents episode. There are small signs that retail investors are looking to practice Kapoor\\'s more disciplined approach in 2023. About 64.3% of those polled in a new Finimize survey say they will take any surplus income next year and buy shares of mega-cap tech stocks like Apple (AAPL), Microsoft (MSFT), Google (GOOG, GOOGL), Meta (META), and Netflix (NFLX). In other words, the individual investor appears to be hunting for value in predictable businesses now trading at steep discounts to their historical valuations. The rest of the respondents mostly plan to dabble in software and renewable energy names as well as other companies that are fundamentally sound. Meanwhile, 85% of those polled have never bought a meme stock, according to Finimize\\'s survey. It\\'s hard to see this dynamic shifting — i.e., no new supporters for these meme stocks — if the economy slows further, hammers these risky names even more, and causes some meme stock believers to finally toss in the towel. The performance of meme stocks this year helps explains the muted appetite for sparking a resurgence in meme names. GameStop reported yet another fundamentally poor third quarter. Shares of the video game retailer have tanked 45% year',\n",
              "  \"GameStop Corp. (NYSE:GME) Q3 2022 Earnings Call Transcript December 7, 2022 GameStop Corp. misses on earnings expectations. Reported EPS is $-0.31 EPS, expectations were $-0.28. Operator: Good afternoon, and welcome to the GameStop Third Quarter 2022 Earnings Conference Call. Please note that certain statements made during the call constitute forward-looking statements made pursuant to the safe harbor provisions of the Private Securities Litigation Act of 1995 as amended. Such forward-looking statements are subject to both known and unknown risks and uncertainties that could cause actual results to differ materially from such statements. These risks and uncertainties are described in the Company's earnings press release and its filings with the SEC. The forward-looking statements today are made as of the date of this call, and the Company does not undertake any obligation to update the forward-looking statements. I will now turn the call over to GameStop's CEO, Matt Furlong. Matt Furlong: Good afternoon, everyone. I want to begin by acknowledging the dedication and focus of the teams managing our stores, fulfillment centers and e-commerce platforms. As the holiday season begins, they are going the extra mile and working exceptionally hard to deliver for our customers. I also want to take the opportunity to acknowledge our stockholders who continue to demonstrate unrivaled enthusiasm and support. As we work to transform the Company and do something unprecedented in the retail sector that sustained passion is a major tailwind for us. Similar to last quarter, I'm going to spend some time at the outset of this call, recapping where we've been, where we are now and where we're looking to go. Throughout 2021 and 2022, we were extremely focused on repairing our decayed foundation, reestablishing a culture of operational intensity, and setting the right long-term priorities. Photo by Tech Daily on Unsplash This translated to building a strong balance sheet, modernizing a crumbling infrastructure, and putting together teams that are now able to operate with the nimbleness and efficiency our stockholders and customers expect. Today, we're in the process of aligning corporate costs through our go-forward needs after completing the majority of necessary upgrades\",\n",
              "  'In this article, we discuss the 10 stocks to buy now in the Mark Cuban stock portfolio. If you want to read about some more stocks in the Mark Cuban portfolio, go directly to Mark Cuban Stock Portfolio: 5 Stocks To Buy Now. Mark Cuban, the famous angel investor, entrepreneur, and television personality, is perhaps most commonly associated with his appearances on a startup funding show called Shark Tank that airs on media house ABC in the US. However, it is no secret that Cuban has turned his incredibly risky investments from the show, and those in his portfolio, into a billion dollar business empire in the past few decades. According to a list of richest men in the US maintained by Forbes magazine, the present net worth of Cuban is close to $5 billion.\\xa0 Mark Cuban first rose to fame in the finance world after selling his video portal Broadcast.com to Yahoo for $5.7 billion in 1999. Cuban had founded the company just two years prior to selling it, a feat that earned him legendary status on Wall Street. Since his first big score, Cuban has continued to invest in successful businesses, mostly funding startups with mission statements, and also bought NBA team Dallas Mavericks. Cuban has also become a finance guru during the time, accurately predicting the ebb and flow of the markets.\\xa0 Earlier this year, Cuban explained that he was selling stocks in his portfolio due to concerns about overvaluation in several asset classes. In March 2022, interest rates hit 4% for the first time in three years. Just three months later, in June, the Wall Street Journal declared an official bear market, just as Cuban had predicted. Cuban has built an ardent fan-following over the past few years because of his television persona and an active presence on social media, especially on social networking platform Twitter that was recently bought by Elon Musk.\\xa0 Our Methodology It is important to clarify that the stocks listed below were picked from the public comments that Cuban has made on these firms. He has explicitly mentioned some of his private'],\n",
              " 'TSLA': ['Wall Street is starting to pile on the criticism of Tesla CEO Elon Musk, as the outspoken billionaire spends much of his time trying to fix his new toy — Twitter — and manage a demand slowdown at the EV leader. \"Need a leader at this time for Tesla, not Ted Striker,\" former Tesla bull Dan Ives at Wedbush said in a new note on Friday, referring to the pilot in the comedy film \"Airplane.\" \"At the same time that Tesla is cutting prices and inventory is starting to build globally in face of a likely global recession, Musk is viewed as \\'asleep at the wheel\\' from a leadership perspective for Tesla at the time investors need a CEO to navigate this Category 5 storm,\" Ives added. \"Instead Musk is laser focused on Twitter, which has been an ongoing nightmare that never ends for investors with hopes a new CEO is picked in the coming weeks as a first step forward.\" Ives followed Deutsche Bank analyst Emmanuel Rosner in slashing estimates for Tesla\\'s fourth-quarter deliveries. Ives sees deliveries coming in at 410,000 to 415,000, down from a prior estimate of 450,000. Analyst estimates stand at about 435,000. The Street\\'s more cautious stance on Tesla\\'s near-term financial prospects — to be shared sometime early in January in the form of delivery numbers — comes as the stock continues to be pummeled by nervous investors. A number of analysts have downgraded the stock in recent days amid the concerns over demand and with Musk\\'s management. Tesla said on its website Wednesday it will offer $7,500 discounts on Model 3 and Model Y vehicles delivered in the U.S. in December. Shares fell nearly 9% on Thursday\\'s session. The stock has crashed about 70% from a high on January 3 of this year. Shares are down over 34% so far this month alone. Tesla\\'s market cap, meanwhile, has fallen below the $400 billion mark for the first time in more than two years. Most of the losses for Tesla investors started after Musk offered to buy Twitter in April, a deal that closed in',\n",
              "  'Elon Musk said in a Twitter Spaces chat that he would not sell more Tesla stock for the next 18-24 months. Musk told listeners on the chat that he needed \"powder dry\" to prepare for a potential recession. Musk also attempted to quell investors\\' fears that he has become disengaged as Tesla\\'s CEO since taking over Twitter. Elon Musk told Tesla investors he wouldn\\'t sell additional shares of his EV company in the near future and that he only sold recently to prepare for a potential recession. \"I\\'m not selling any stock for, I don\\'t know, at minimum 18 to 24 months. So you can count on no stock sales until 2025 or something,\" Musk said in a Twitter Spaces chat on Thursday. \"I needed to sell some stock to make sure there was powder dry to account for a worst-case scenario,\" he added. This isn\\'t the first time Musk has vowed not to sell more Tesla stock this year. In August, after selling more than $8 billion worth of Tesla stock to help finance his purchase of Twitter, Musk tweeted, \"no further TSLA sales planned after today.\" Earlier this month, he sold another $3.6 billion in Tesla shares, though. The stock traded at a 52-week low as of Thursday\\'s close. Musk weighed in on the broader economy with a gloomy outlook for the coming year: \"from a long-term standpoint, there\\'s a natural economic cycle that happens, and frankly, we\\'re overdue for a recession,\" he said. \"It\\'s shocking that we haven\\'t had an economic recession in any meaningful sense of the word since 2009,\" he added. Some investors have expressed worry that Musk has become disengaged as Tesla\\'s CEO as he shifts his focus to leading Twitter, further causing Tesla\\'s stock to sink. However, Musk said that \"there was not a single important meeting that I missed\" at Tesla since taking the reins at Twitter, telling listeners in the Spaces chat that he only sold Tesla shares because he\\'s \"somewhat paranoid, having gone through two very intense recessions.\" Read the original article on Business Insider',\n",
              "  'Thank you for your patience. Our engineers are working quickly to resolve the issue.',\n",
              "  '(Reuters) - Tesla Inc shares touched a fresh two-year low in volatile trading on Friday as boss Elon Musk\\'s promise to not sell his shares for at least two years did little to reassure investors. Musk has offloaded shares worth $40 billion in the world\\'s most valuable carmaker since late last year, with $15 billion of that coming after he made similar promises not to sell in April. That, along with concerns about his distraction with newly bought Twitter and a slowdown in China\\'s economy, have set the electric-car maker\\'s shares on course for their worst year since going public in 2010. The stock was last up 2% on Friday, recovering from a fall of as much as 3.5% earlier in the session, its lowest since September 2020. \"I won\\'t sell stock until I don\\'t know probably two years from now. Definitely not next year under any circumstances and probably not the year thereafter,\" Musk said on Thursday. \"If this was another CEO of a Fortune 500 company making that statement, market would be confident that \\'he said it, so he\\'s not selling\\',\" said Dennis Dick, head trader and market structure analyst at Triple D Trading. Known for tweeting about his plans extensively, Musk most recently asked in a Twitter poll if he should quit as the head of Twitter. In 2018, he got into trouble with regulators over a tweet about taking Tesla private. \"Musk looks rattled, vowing not to sell more stock and floating the idea of share buybacks. Short-sellers are firmly in control and there is a lot of hesitation by retail to buy this dip,\" said Edward Moya, senior market analyst at OANDA. (Reporting by Medha Singh, Srishti Achar and Chavi Mehta in Bengaluru; additional reporting by Nivedita Balu in Bengaluru; Editing by Devika Syamnath) Related Quotes',\n",
              "  '(Bloomberg) -- Billionaire Elon Musk is warning against something he himself has done — borrowing against the value of securities one owns — because of the risk of “mass panic” in the stock market. Most Read from Bloomberg Elon Musk Warns Against Margin Debt on Risk of Market ‘Mass Panic’ Russia May Raise Crude Oil Exports if EU Ban Cuts Refining Best Nonfiction of 2022: Great Books That Will Make You Think Power Outages, Flight Delays as US Storm Leaves Trail of Chaos Ukraine Latest: Putin Says He’s Ready to Talk, Blames Other Side “I would really advise people not to have margin debt in a volatile stock market and you know, from a cash standpoint, keep powder dry,” Musk said in the All-In podcast released Friday. “You can get some pretty extreme things happening in a down market.” The Tesla Inc. chief executive officer put up billions of his own money when he purchased Twitter Inc. for $44 billion earlier this year and saddled the company with $13 billion of debt. Bloomberg News has reported that Musk’s bankers are considering replacing some of the high-interest debt he layered on Twitter with new margin loans backed by Tesla stock that he’d be personally responsible for re-paying. Tesla Margin-Loan Talks Show Pressure Mounting on Musk, Bankers He’s also disposed of nearly $40 billion of Tesla’s shares, a move that contributed to driving the stock to a two-year low. Following the latest sales, Musk again said this week he will stop selling shares, adding that the pause could last for two years or so. The warning, at least the second made by Musk this month, is ironic given the billionaire has previously pledged his Tesla shares. As of December 2020, Musk had 92 million Tesla shares pledged as collateral, according to an SEC filing in April 2022. During the podcast, Musk also reiterated his belief that the economy is overdue for a recession and that the slowdown could be similar to the scale seen in 2009. “My best guess is that we have stormy times for a year to a year and',\n",
              "  \"SHANGHAI (Reuters) - Tesla suspended production at its Shanghai plant on Saturday, according to an internal notice and two people with knowledge of the matter, bringing ahead a previous plan to pause most work at the plant in the last week of December. The U.S. automaker cancelled the morning shift and told all workers at its most productive manufacturing hub they could start their break, said the people and the notice seen by Reuters. The company did not give a reason. Reuters reported earlier this month that the electric car giant planned to suspend Model Y production at the plant from Dec. 25 to Jan. 1. The suspension comes among a rising wave of infections after China eased its zero-COVID policy earlier this month, an abrupt move welcomed by businesses and the public but heavily disrupting business operations in the short term. One of the people said workers at Tesla and its suppliers have also been falling sick as part of this wave, posing challenges to operations in the past week. Tesla is also grappling with elevated inventory levels as its second largest market braces for a downturn. The Shanghai plant has been focused on making models for export in the last week, the person added. A media representative at Tesla China did not immediately respond to request for comment. The plant’s suspension of Model Y assembly at the end of the month would be part of a cut in planned production of about 30% in the month for the model, Tesla's best-selling model, at the Shanghai factory, Reuters had reported. The Shanghai factory, the most important manufacturing hub for Elon Musk's electric vehicle company, kept normal operations during the last week of December last year. It has not been an established practice for the plant to shut down for a year-end holiday. (Reporting by Zhang Yan and Brenda Goh; Editing by Andrew Cawthorne) Related Quotes\",\n",
              "  'A growing chorus of Wall Streeters covering Tesla\\'s stock are becoming more cautious on the name heading into 2023, adding to a brutal month and year. EvercoreISI analyst Chris McNally slashed his price target on Tesla\\'s stock to $200 from $300 on Tuesday, joining bearish takes in the past week from Goldman Sachs, Wedbush, and Oppenheimer. \"While we continue to view Tesla as having a leading EV gross margin advantage from global scale, vertical integration, and US IRA [Inflation Reduction Act] benefits, it is impossible to ignore that investors are already well aware of these benefits but now must ALSO battle test demand assumptions for 2023-2025,\" McNally said in a new note to clients. Tesla shares fell another 8% in Tuesday trading, closing at a low not seen since late 2020. Added McNally: \"While a positive revision cycle may not be done forever (IRA a powerful unit/margin amplifier), it’s hard to ignore the prevailing Tesla thesis drift from 1) Unlimited demand/Rev to 2) Margin \\'story,\\' that has occurred over the last 6-12 months.\" McNally\\'s take comes after a frenzied day for Tesla investors. Shares of the EV maker opened up on Monday amid hopes CEO Elon Musk would step down from the same post at Twitter. \"Should I step down as head of Twitter? I will abide by the results of this poll,\" Musk tweeted to his 122.1 million followers on Sunday. The poll closed on Monday morning, with 57.5% of the 17.5 million votes choosing \"Yes.\" Musk hasn\\'t disclosed whether he would in fact step down. Shares of Tesla finished Monday\\'s session down slightly, mirroring the broader market. \"You need a CEO of Twitter that\\'s not Musk,\" Ives said on Yahoo Finance Live on Friday. \"This is what I\\'d say is an untenable situation in terms of him being CEO of Twitter and Tesla.\" Shares of the EV maker are down about 63% from a peak last November — the stock\\'s largest drawdown since its market debut in 2010 — and down 23% so far this month alone. Most of the losses for Tesla investors began following Musk\\'s April',\n",
              "  'Amid the carnage that is Tesla\\'s stock price headed into 2023, a Wall Street bull has emerged with a reminder to all that the company remains a longer-term sustainability play. \"When we look over the next six to 12 months, and over the next multiple of years, it\\'s actually pretty positive for Tesla. They have an incredibly strong balance sheet to weather a recession. And on the other side, they are destined to increase their leadership in EVs, which we think are on the cusp of really penetrating penetrating the overall auto market,\" Canaccord Genuity analyst George Gianarikas told Yahoo Finance Live (video above). In a new note to clients, Gianarikas called Tesla (TSLA) a sustainability \"behemoth\" — pointing to leadership positions in EVs and in solar with SolarCity. The analyst sees fair value for Tesla\\'s stock at $275, up sizably from its current price of $123 in midday Friday trading. Gianarikas acknowledged, however, that the near-term is uncertain on Tesla. \"The near-term is incredibly uncertain. But it\\'s being reflected in the stock. Sometimes stocks tend to bottom before the fundamentals do. So when we look out to the long-term, there is a lot of earnings power here. The company has lots of growth vectors, whether it\\'s EVs, semis, robotics — we are very positive in the long-term,\" Gianarikas added. To be sure, many other investors and analysts have lined up against bullish takes on the one-time popular momentum trade of Tesla this year. The stock has plunged around 65% year to date, and 26% in the past month alone amid demand concerns and Musk\\'s unpredictable leadership over at Twitter. This week brought news Tesla will offer $7,500 discounts on Model 3 and Model Y vehicles delivered in the U.S. in December — an unexpected development that further pressured the stock price. A number of analysts have downgraded the stock in recent days on fears of a sharp 2023 demand slowdown. Others, such as Wedbush analyst Dan Ives, continue to trim price targets on Tesla amid the stock\\'s precipitous fall. \"Need a leader at this time for Tesla, not Ted',\n",
              "  'In this piece, we will take a look at the top twelve stocks that are on Cathie Wood\\'s radar. For more stocks, head on over to Cathie Wood Is Loading Up On These 5 Stocks.  If there\\'s one thing that can be said for certain in today\\'s highly volatile environment, it\\'s that 2022 has not been a good year for Cathie Wood. Ms. Wood, who heads the hedge fund Ark Investment Management, is one of the most dynamic managers you\\'re likely to come across. Her bets focus on the highest growth stocks in the industry, which are often those companies that are disrupting the industries they are in. Whether it\\'s 3D printing, biotechnology, or electric cars, Ms. Wood is right at the front of identifying firms that she believes are truly poised to explode. Naturally, this aggressive approach, which can very well be categorized as being disruptive to the hedge fund world as well, has come under criticism from more conservative investors who believe that high risk companies should be balanced out with stable players. Ms. Wood is aware of this criticism. In a research paper that she wrote at the start of this month, Cathie Wood used quantitative data to hit back at the critics. She criticized the approach of simply using the operating income (EBITDA) to value growth companies that are investing heavily in research and development. The hedge fund boss explained that purely focusing on EBITDA — just 27.8% of her Innovation ETF\\'s holdings are EBITDA positive — is not a reliable indicator of performance since research and development ends up adding to the long term value of a firm. Ms. Wood added that for startups and early stage companies, deferred revenue, which is revenue that it will earn beyond one accounting period, is also a source of \"validation\" and is more important for valuation purposes than it would be if a mature company was being analyzed. To bolster her claim of R&D costs being a relevant valuation metric for Ark\\'s investments, she quoted that for the firms that her fund has invested in, these costs',\n",
              "  'This article first appeared in the Morning Brief. Get the Morning Brief sent directly to your inbox every Monday to Friday by 6:30 a.m. ET. Subscribe Friday, December 23, 2022 Today\\'s newsletter is by Myles Udland, senior markets editor at Yahoo Finance. Follow him on Twitter @MylesUdland and on LinkedIn. Read this and more market news on the go with the Yahoo Finance App.Yahoo Finance App. Tesla stock fell another 8.8% on Thursday, bringing its year-to-date losses to 64%. With this decline, more than $800 billion in market capitalization has been erased from the electric carmaker. The current 69.7% drawdown from its most recent high reached in late 2021 is the largest in Tesla\\'s corporate history. And this slide has been good news to short-sellers. Data from S3 Partners published Thursday showed that through Wednesday\\'s close, Tesla was the year\\'s most profitable short — or stock traders were betting against — with mark-to-market profits totaling $15.03 billion so far this year. And these figures don\\'t reflect Thursday\\'s decline. \"In December, TSLA shorts are up $4.54 billion in month-to-date mark-to-market profits, up +33.2% on an average short interest of $13.67 billion,\" S3 Partners said in its report. \"Since Elon Musk’s Twitter bid on 4/14/22, TSLA shorts are up $13.74 billion in mark-to-market profits, up 77.5% on an average short internet of $17.74 billion.\" And the next most-profitable short this year isn\\'t even close — short-sellers have made $6.2 billion betting against Amazon in 2022, a stock that was down 49.7% so far this year through Thursday\\'s close. The notion that Musk\\'s involvement with Twitter is the predominant issue facing Tesla shares has become a widely held view in recent weeks. Consensus, even. Wall Street analysts have said Musk \"needs to pull it together,\" while slashing price targets and downgrading Tesla along the way. Some of Musk\\'s most ardent defenders have openly begun calling for him to step away from Twitter. And, to an extent, Musk himself seems to agree, hosting a poll on whether he should step down as Twitter\\'s chief and saying he will resign the post once a replacement'],\n",
              " 'BTC': ['Tron founder Justin Sun is one of the richest figures in crypto, and a good chunk of his bitcoin (BTC) is stored in one place: U.S.-based Valkyrie Investments. The altcoin kingpin had more than $580 million of BTC stashed with the crypto asset manager at one point in August, according to a private financial document that CoinDesk reviewed. That amounted to over 90% of money at Valkyrie’s largest division, Valkyrie Digital Assets LLC, the document shows. In other words, Valkyrie Investments, a money manager that pitches crypto products to Wall Street investors, mostly relied on Justin Sun, a controversial Chinese crypto billionaire. (The current state of Valkyrie’s assets is unknown.) Sun has also said he’s one of Valkyrie’s biggest shareholders. It’s yet another example of centralization in crypto, an industry rife with whales carrying outsize clout, in spite of its decentralized ideals. Sun’s relationship with Valkyrie popped up in ways that benefitted his empire. For example, Valkyrie built investment products for “Justin tokens” such as Tron’s TRX and BitTorrent BTT that other crypto asset managers say they avoid. It promoted Tron using the blockchain network’s developers’ own marketing materials. It even let Tron share its spotlight on Wall Street – literally – with someone wearing a T-shirt bearing the Tron logo joining Valkyrie’s bell-ringing at Nasdaq in September. The financial lives of individuals are almost always nobody’s business. Sun’s previously undisclosed, outsized percentage of Valkyrie’s assets under management (AUM) is an exception. The depth of the relationship is a matter of public interest because it raises questions about Valkyrie’s reliance on a single client for growth. Sun is a notable and polarizing figure in the crypto industry. He is the founder of the Tron blockchain, which has spawned repeated controversy. Tron issued, for example, an algorithmic stablecoin that researchers derided as a “clone” of the doomed Terra/Luna setup. Valkyrie Investments Chief Investment Officer Steve McClurg would not discuss the source of Valkyrie’s client funds, citing confidentiality. Sun didn’t respond to a request for comment. Sun’s money touched every section of the business, from SMAs to trusts and even Valkyrie’s bitcoin',\n",
              "  'Core Scientific, one of the largest publicly traded crypto mining firms in the U.S. listed on Nasdaq as $CORZ, filed for Chapter 11 bankruptcy protection in the state of Texas on Wednesday morning, according to CNBC. See related article: Will Bitcoin’s true value prevail in 2023? Core Scientific is still generating positive cash flow, but it is insufficient to repay the financing debt for equipment leasing, an unnamed person familiar with the company’s finances told CNBC. Instead of liquidating, the company will continue regular mining operations while trying to reach a deal with senior security noteholders, who hold most of the firm’s debt, according to the anonymous source. Core Scientific specializes in mining proof-of-work cryptocurrencies, mainly Bitcoin, which requires costly equipment and an abundant, consistent energy source. The company owns approximately 5% of Bitcoin’s global hash rate, according to data from Hashrate Index. Bitcoin, the world’s largest cryptocurrency, is currently down around 75% from its all-time high of US$69 in November 2021, trading at US$16,881 at 6:45 p.m. in Hong Kong. The loss in Bitcoin’s value and higher energy prices have narrowed profit margins of BTC miners worldwide. See related article: Bitcoin mining difficulty drops more than 7% as cash crunch hits miners Related Quotes',\n",
              "  'Publicly traded bitcoin mining company Core Scientific (CORZ) filed for Chapter 11 bankruptcy protection in a federal bankruptcy court in the Southern District of Texas early Wednesday morning. The bankruptcy petition, according to the company\\'s announcement, resulted from a combination of a declining bitcoin price, rising electricity costs needed to power its data centers and \"failure by certain of its hosting customers to honor their payment obligations.\" The bitcoin specific data processing and hosting company said in its Chapter 11 petition it has between $1 and $10 billion in estimated assets and liabilities, between 1,000 to 5,000 creditors, and its funds are available for distribution to unsecured creditors. Shares of Core Scientific were down more than 25% in pre-market trade on Wednesday. Core Scientific went public through a SPAC merger in April 2021. By November of 2021, shares had closed as high as $14.32 per share. The stock has dropped more than 98% this year. Bitcoin (BTC-USD) has sold off by 65% this year down to $16,865 from $47,881 per coin. Coupled surging energy prices, Bitcoin mining companies have been hit especially hard. Another major Texas based bitcoin mining operator, Compute North, filed for bankruptcy in September, owing as much as $500 million to at least 200 creditors. More recently, Greenidge Generation (GREE), another public miner based in Dresden, New York, has said it must renegotiate approximately $74 million in debt owed to NYDIG for the purchase of mining equipment. If the company is unable to restructure its debt, it may file for bankruptcy. Even if bankruptcy is avoided, \"the Company’s prospects for operating a viable hosting business are uncertain,\" Greenidge stated in a filing. On October 26, Core Scientific showed clear signs of duress, announcing in a filing with the SEC it would not make debt payments due in October and November. Within the next 24 hours, its stock fell by more than 76%. In recent months, Core Scientific shares have traded as a penny stock, floating between twenty and fourty cents per share. The company has also gotten tied up in the ongoing bankruptcies of Celsius Network and',\n",
              "  'The first six months of 2022 have been remarkably awful for the crypto industry as a whole. Bitcoin and ethereum, two of the most valuable cryptocurrencies, have lost more than half\\xa0of their value from their all-time peaks late last year. Despite intermittent improvements over the past few weeks, the cryptocurrency market is essentially stagnant. Owing to catastrophic news about badly run crypto firms, investors have endured the agony of being collateral damage in a seemingly endless series of unanticipated corporate breakdowns. However, there is always a glimmer of optimism somewhere. A Yahoo Finance internal metrics, for example, indicates that despite the crypto market’s current dismal state, a substantial amount of investors continue to monitor troubled crypto values as 2022 comes to a close. According to the Yahoo! Finance bitcoin quote website, the Bitcoin and US dollar currency pair (BTC/USD) ranked among the top 10 trending tickers for 2022. This is a pleasant reprieve for bitcoin investors who have weathered falling prices and a $1.4 trillion decline in the overall crypto market.  Add to this the misery of rising interest rates, which deliver a huge hit to the bulk of crypto assets, dwindling risk appetite, and corporate failures, such as Sam Bankman-Fried’s FTX crypto exchange. Yahoo! Finance is a member of the Yahoo! network of media properties. It delivers financial news, statistics, and analysis, such as stock quotes, press releases, and financial reports. Yahoo’s Finance statistic has electric vehicle manufacturer Tesla in first place with 398,930,058 views,\\xa0followed by Dow Jones (364,857,384), S&P 500 (352,563,832), and the NASDAQ Composite (281,628,368). Tech giant and iPhone maker Apple and retail behemoth Amazon take the fifth and sixth spot with 249,031,785 and 199,327,425 views, respectively. Bitcoin (BTC/USD), at No. 8 spot, tallied 157,657,277 views. Bitcoin, the largest crypto asset, has chipmaker Nvidia and 2021 favorite GameStop trailing it. As of this writing, Bitcoin is trading at $16,839, down 5.5% in the last seven days, data from Coingecko show.  In 2021, the price of bitcoin reached many new highs before plunging sharply. This was followed by increased demand from large corporations and other institutional',\n",
              "  \"Last week John J. Ray III, the new CEO of FTX who is leading the company through bankruptcy proceedings, testified before the House Financial Services Committee about the crypto exchange’s collapse. I honestly don’t think there was much to report from Ray’s testimony beyond: a) the guy knows what he’s doing and b) that he believes FTX’s downfall was really just “old-fashioned embezzlement.” After Ray’s testimony I think most were excited to tune in to former CEO Sam Bankman-Fried’s (SBF) scheduled testimony in front of the U.S. House Financial Services Committee. But that testimony was unfortunately canceled on account of the fact that SBF was arrested in the Bahamas after U.S. authorities filed criminal charges last Monday. SBF was denied bail and awaits an extradition hearing in 2023, for which he will wait while sitting in a maggot-infested Bahamian prison. You’re reading Crypto Long & Short, our weekly newsletter featuring insights, news and analysis for the professional investor. Sign up here to get it in your inbox every Sunday. Meanwhile, Sen. Elizabeth Warren (D-Mass.) took the opportunity, with crypto top of mind, to react with a bipartisan bill co-sponsored by Sen. Roger Marshall (R-Kan.) called the “Digital Asset Anti-Money Laundering Act.” I’m not going to go over the bill point by point here but, if passed, the bill will require anyone who maintains public blockchain infrastructure to register as a Financial Institution (FI). This includes software developers or anyone validating transactions on a network. These FIs would be required to do things like collect the personal information of people who use their software and comply with anti-money laundering (AML) programs to block funds related to crime. On top of that, it would ban any interaction with privacy tools like Tornado Cash (which is sanctioned by the Treasury Department) and privacy-coin protocols including Monero or Zcash. On its face, the bill doesn’t necessarily feel problematic, especially because it was drafted in wake of the FTX collapse. But here's the thing about the bill: It misses The Point. The Point being that a lack of corporate controls and opaque systems led to\",\n",
              "  'Interest rate hikes affect mortgages, pensions and savings \\u2060— so what can we expect next year? The cryptocurrency market has had a turbulent year with personalities like Sam Bankman-Fried brought low and the head of the European Central Bank (ECB) declaring bitcoin (BTC-USD) is on the \"road to irrelevance\". However, others argue that crypto has endured worse in the past and its adoption rate is growing despite an array of bad press. Yahoo finance UK looks back over 2022, a year of \"crypto winter\", where investor nerves were well and truly tested. The cryptocurrency market cap hit a high of over $3tn (£2.46tn) in November 2021, but has now fallen to $904bn, according to data from Statistia. Check: Crypto live prices The capital inflow that swelled the crypto market in November 2021 was composed of mostly retail investors. These same investors took the worst of the damage when the market began to buckle in 2022, when funds were drained from centralised exchanges and lending platforms, which have been operating as the de-facto banks in the largely unregulated and experimental crypto sector. However, after crypto exchange FTX collapsed, dealing a critical hit to the industry\\'s reputation, these \"banks\" look more like casinos, as FTX was reported to have played against its unwitting customers using customers\\' own cash. On New Year\\'s Day 2022, bitcoin and ethereum (ETH-USD) stepped into 2022 trading at $47,000 and $3,800 respectively \\u2060– slightly down from their all-time highs of $68,000 for bitcoin and $4,600 for ethereum in November 2021. However, as we head towards the end of the year, the price of bitcoin is sitting around $17,258 while ethereum is at $1,283. The early months of 2022 saw the crypto market climbing steadily amid more institutional adoption. In mid-March, Bitcoin broke through the $42,000 mark on the news that Ray Dalio\\'s Bridgewater Associates hedge fund was set to invest in the digital asset. Read more: FTX bankruptcy sees 80,000 UK crypto investors lose funds The news that the world\\'s largest hedge fund, with $150bn in assets, was to invest in bitcoin was interpreted as a significant signal',\n",
              "  'In this article, we will discuss the 13 best blockchain stocks to buy now. If you want to skip our analysis of the blockchain industry and explore similar stocks, you can also take a look at\\xa05 Best Blockchain Stocks To Buy Now. Blockchain is a revolutionary technology that is gaining rapid popularity among various industries. It is a digital ledger of transactions that are stored in a distributed, secure, and immutable manner. It is often referred to as the backbone of cryptocurrencies, but its potential applications go far beyond financial transactions. Blockchain has the potential to revolutionize the way businesses and organizations operate. By using distributed ledger technology, blockchain enables the secure, transparent, and efficient exchange of data and digital assets. It can also be used to create more efficient, secure, and transparent supply chains, reduce operational costs, and improve data security and privacy. As a result, blockchain technology has the potential to increase efficiency, reduce costs, and create better customer experiences. Additionally, the ability to create immutable records on a distributed ledger could revolutionize the way businesses and organizations manage their records and transactions, leading to increased trust and data integrity.\\xa0As the technology continues to evolve, its potential applications are growing exponentially. The global blockchain technology market was worth $5.92 billion in 2021, according to a report by Grand View Research. The market is expected to be worth $10.02 billion by the end of 2022, and then grow at a compound annual growth rate of 85.9% from 2022 through 2030, reaching a value of $1.43 trillion by the end of the forecasted period.\\xa0Primary factors influencing this growth include the hefty investments being poured into blockchain technology by both corporations and venture capitalists. Moreover, the rising adoption and acceptance of cryptocurrencies by the world and the legalization of cryptocurrency in certain countries, such as Germany and the United Kingdom, is expected to propel the growth of the global blockchain market. Some of the top companies operating in the blockchain space and investing heavily in the technology include\\xa0Mastercard Incorporated (NYSE:MA),\\xa0Visa Inc. (NYSE:V), and\\xa0Paypal Holdings, Inc. (NASDAQ:PYPL). The stocks of these companies,',\n",
              "  \"This article first appeared in the Morning Brief. Get the Morning Brief sent directly to your inbox every Monday to Friday by 6:30 a.m. ET. Subscribe Thursday, December 22, 2022 Today's newsletter is by Jared Blikre, a reporter focused on the markets on Yahoo Finance. Follow him on Twitter @SPYJared. Read this and more market news on the go with Yahoo Finance App. Crypto winter be damned — bitcoin and ethereum investors are still laser-focused on an industry in free-fall being rocked by bankruptcies. At least that's what at least one Yahoo Finance in-house metric is revealing as investors continue to check in on beaten-down crypto prices at a high rate as 2022 draws to a close. Despite the entire crypto asset class seemingly teetering on the brink of collapse — or perhaps because of it — the Yahoo Finance bitcoin quote page (BTC-USD) has racked up more than 157 million views so far in 2022, making it #8 on the year's top ten trending tickers list. And this coming during a year that saw war in Europe break out, historic rate hikes from the Fed surprise all summer long, and investors endure the worst environment for the stock market in over a decade. Unsurprisingly, perennial favorite Tesla (TSLA) sits on top of the list. The major U.S. indices, plus Apple (AAPL) and Amazon (AMZN), also bested bitcoin in terms of clicks. But the leading crypto ticker managed to beat chipmaker Nvidia (NVDA) as well as 2021 favorite GameStop (GME), which rounds out the top ten. Over prior crypto winters, user interest in Yahoo Finance crypto quote pages simply cratered. For several years, not one crypto ticker bubbled up to Yahoo Finance's top 10 trending tickers list on a seven-day rolling average. However, bitcoin popped up again the first week of 2021 after the price of the world's biggest cryptocurrency had rallied to fresh record highs — finally signaling the sector had emerged from the prior crypto winter. Bitcoin notched its last record high late last year, and interest in the ticker trailed off a bit with the price during\",\n",
              "  'Thank you for your patience. Our engineers are working quickly to resolve the issue.',\n",
              "  'A federal judge agreed to release former FTX CEO Sam Bankman-Fried after he appeared in U.S. federal court in New York on Thursday on charges that he was the mastermind behind the fraudulent and illicit movement of customer funds inside his former crypto empire. The judge set bail at $250 million. This article originally appeared in Crypto Markets Today, CoinDesk’s daily newsletter diving into what happened in today\\'s crypto markets. Subscribe to get it in your inbox every day. Bankman-Fried, who was brought to the U.S. overnight by the Federal Bureau of Investigation after his extradition from the Bahamas court cleared on Wednesday, arrived at the courthouse in New York to face the U.S. felony charges. The case in the U.S. District Court for the Southern District of New York centers on accusations of fraud, money laundering and campaign-finance violations. Bankman-Fried\\'s release was secured by equity in his parents\\' Palo Alto, California, home, and a long list of requirements was included for him to remain free while he faces charges. He\\'s not allowed to make financial transactions for more than $1,000, can\\'t open new lines of credit, can\\'t leave the house except to exercise and must go through substance-abuse and mental-health treatment, according to the agreement. The former CEO arrived at court in a crumpled suit jacket, and the sound of his restraints was audible in the quiet courtroom. When asked if he agreed to the conditions of release, he nodded. He was then instructed to answer aloud, and he looked at his lawyer before saying, \"Yes, I do.\" Prosecutors have been closing in on the disgraced crypto frontman, inking plea deals inside the FTX inner circle. Caroline Ellison, the former CEO of FTX’s sister company Alameda Research, and Gary Wang, the other co-founder of FTX, pleaded guilty to federal charges and also admitted guilt in securities violations, according to statements from U.S. prosecutors and regulators late Wednesday. The cooperation of Ellison and Wang – who admitted to playing active roles in the company’s fraud – is likely to be key in the case against Bankman-Fried. They’ve admitted that the'],\n",
              " 'ETH': ['NEW YORK, Dec. 22, 2022 /PRNewswire/ -- Bit Digital, Inc. (Nasdaq: BTBT) (\"Bit Digital\" or the \"Company\"), a digital asset mining company headquartered in New York, is pleased to announce that it has formally commenced Ethereum staking operations. Bit Digital intends to delegate, or stake, its ETH holdings to an Ethereum validator node to help secure and strengthen the blockchain network. Stakers are compensated for this commitment in the form of a reward of the native network token. This marks an expansion from Bit Digital\\'s core bitcoin mining operation to also validating transactions on the Ethereum blockchain. While the Company remains bullish on bitcoin, and supporting the bitcoin blockchain, it expects to derive revenue from the Ethereum network via validator rewards. The Company\\'s staking operations are enhanced by a new partnership with Blockdaemon, the leading institutional-grade blockchain infrastructure company for node management and staking. Following a similar mechanism to traditional Ethereum staking, Bit Digital will also participate in liquid staking via Portara, the liquid staking protocol developed by Blockdaemon and StakeWise and the first of its kind tailored to institutions. Liquid staking allows participants to 1) achieve greater capital efficiency by utilizing their staked ETH as collateral and 2) withdraw from staked positions earlier than natively possible by trading their staked ETH tokens on the secondary market. Unlike other liquid staking solutions, Portara\\'s key differentiator is that it ensures that users can only interact with verified counterparties. As a result, several regulated institutions which were previously unable to participate in liquid staking have now on-boarded with Portara and are actively liquid staking. As of December 20, the Company had 7,904 ETH and 2,004 sETH-h with a combined worth of approximately $12.1 million. 2,164 ETH were actively staked as of that date, using either native staking or liquid staking protocols. The Company intends to continue accumulating Ethereum and stake substantially all of its ETH position over time. Bryan Bullett, Bit Digital\\'s CEO, commented: \"We are excited to expand from our core bitcoin mining business into validating transactions on the Ethereum blockchain. This diversification into another blue-chip digital asset ecosystem carries the',\n",
              "  'Good morning. Here’s what’s happening: Prices: Crypto prices rally late, despite crypto lender BlockFi filing for bankruptcy protection and ongoing protests in China over COVID-19 restrictions. Insights: What\\'s the price of irreverence on crypto Twitter? A joke about wrapped ether spooked investors. CoinDesk Market Index (CMI) 829.27  +5.7 ▲ 0.7%   Bitcoin (BTC) $16,249  +122.8 ▲ 0.8%   Ethereum (ETH) $1,180  +15.3 ▲ 1.3%   S&P 500 daily close 3,963.94  −62.2 ▼ 1.5%   Gold $1,744  −9.4 ▼ 0.5%   Treasury Yield 10 Years 3.7%  ▲ 0.0   BTC/ETH prices per CoinDesk Indices; gold is COMEX spot price. Prices as of about 4 p.m. ET Bitcoin Rallies Late Despite BlockFi Bankruptcy Protection Filing, China Protests By James Rubin Crypto markets spent much of Monday in the red before a late-day rally sent most major tokens into positive territory, even as the industry continued to process the dual body blows of crypto lender BlockFi\\'s Chapter 11 bankruptcy protection filing and widespread protests in China over severe COVID-19 restrictions. Bitcoin was recently trading at about $16,250, up the better part of a percentage point over the previous 24 hours but still below its weekend perch of $16,500. The largest cryptocurrency by market capitalization\\'s resilience dovetailed with a wider slowdown in asset activity of all stripes as the U.S. celebrated its annual Thanksgiving holiday and a lull in bad news related to crypto exchange FTX\\'s implosion. The latter pause ended with BlockFi\\'s petition. \"We need to see if there\\'s going to be more contagion coming,\" Marco Sampaio, co-founder and CEO of Hashdex, told CoinDesk TV\\'s \"First Mover\" program. \"We know the macro is also playing a role in this. The pressure coming from China is also putting pressure on crypto or risky assets in general.\" But Sampaio added cautiously: \"We need to see what\\'s going to happen. We have many chapters to follow [in] the coming weeks.\" Ether was recently changing hands at about $1,175, also up 1.3% from Sunday, same time. Ether\\'s price fell roughly 3% earlier in the day',\n",
              "  \"The year 2022 is likely to go down as one of the worst ever in the blockchain industry’s volatile history. But for scammers trolling digital-asset markets for suckers or even easy pickings from savvy crypto traders, it’s been a banner year. This article originally appeared in Crypto Markets Today, CoinDesk’s daily newsletter diving into what happened in today's crypto markets. Subscribe to get it in your inbox every day. A new report from blockchain risk monitoring firm Solidus Labs shows that fraudsters deployed over 117,000 scam tokens from Jan. 1 to Dec. 1, 2022, a 41% increase over the full 2021. The study also revealed that 8% of all Ethereum tokens are programmed to execute rug pulls, while 12% of all BNB Chain tokens are alleged to be scams. According to Solidus Labs, many of the scammers behind these tokens use crypto-to-fiat exchanges to both seed their scams and launder their proceeds. “These fraudsters – benefiting from the fact that more than 99% of their malicious tokens have evaded detection under traditional approaches to scam identification – deposited and withdrew a combined $11 billion worth of ETH to/from 153 different centralized finance [CeFi] exchanges during the time period we studied,” the report read. The scam tokens deployed in 2022 brings the total since September 2020 to more than 200,000, based on the tally by Solidus Labs. Almost 2 million investors have lost funds to rug pull tokens. Bitcoin (BTC): The largest cryptocurrency by market value was recently trading at $16,800 and moving sideways in the 24 hours. Equities markets wrapped up the week with slight gains as investors processed cooler-than-expected consumer spending data. The S&P 500 closed up 0.59%. The Dow Jones Industrial Average was up 0.54%, while the tech-heavy Nasdaq Composite was up 0.21%. Ether (ETH): The second-largest cryptocurrency by market capitalization followed BTC’s trajectory, trading at around $1,218. CoinDesk Market Index (CMI) 796.52  +1.9 ▲ 0.2%   Bitcoin (BTC) $16,804  +3.5 ▲ 0.0%   Ethereum (ETH) $1,220  +4.7 ▲ 0.4%   S&P 500 daily close 3,844.82  +22.4 ▲ 0.6%  \",\n",
              "  '\"Revenue is nice, but integrity trumps all,\" said Ray Youssef, announcing ether\\'s (ETH) removal from the marketplace he founded and runs. Among the reasons for the move noted by Youssef was the Ethereum network\\'s switch to proof-of-stake validation from proof-of-work. \"Proof-of-work is the innovation that makes bitcoin (BTC) the only honest money there is, whereas proof-of-stake has rendered ETH essentially a digital form of fiat,\" he claimed. ETH is \"controlled by a small number of people and one day you will need permission to use it,\" he continued. Youssef also cited the prevalence of scams among the tokens that operate on the Ethereum blockchain. Responding to questions on Twitter, Youssef said Paxful will continue offering trade in stablecoins Tether (USDT) and USD Coin (USDC), but didn\\'t seem too enthused about it. Paxful is a peer-to-peer marketplace which is popular in Africa, a region which Youssef believes will see mass adoption of bitcoin due its financial inclusionary potential. \"In short, our industry is under attack right now, which means our responsibility to protect our users is greater than ever before,\" concluded Youssef. Read more: Anxious Ethereum Stakers Question When They’ll Be Able to Access Funds    Related Quotes',\n",
              "  'If you’re suffering financial abuse and can’t see a way out, there is help out there Financial regulators in Belgium have declared bitcoin (BTC-USD) and ethereum (ETH-USD) should not be classified as securities. The Financial Services and Markets Authority (FSMA) of Belgium released a document on Thursday that stated cryptocurrencies without an issuer are not securities. The regulator specifically identified bitcoin and ethereum as exempt from having to operate as securities within the EU country\\'s financial system. Check: Crypto live prices The document said: \"If there is no issuer, as in cases where instruments are created by a computer code and this is not done in execution of an agreement between issuer and investor, for example, bitcoin or ether, then in principle the Prospectus Regulation, the Prospectus Law and the MiFID rules of conduct do not apply.\" EU-based MiFID rules say that transferable instruments with an issuer are likely to constitute a security. Apart from bitcoin and ethereum, other cryptocurrencies will be designated as having a centralised issuer and so will have to produce an honest prospectus of information for potential investors and adhere to the EU\\'s MiFID rule which requires financiers to avoid conflicts of interest. The exemption of ethereum from securities laws by the Belgian regulator sets a precedent in the development of cryptocurrency regulatory frameworks across the world. In an unusual alliance, both bitcoin maximalists — those that advocate only bitcoin and renounce all other cryptocurrencies — and US regulators argue that ethereum is a security. They point to the presence of a centralised body, called the Ethereum Foundation, and that its issuance can be controlled via updates of the underlying code. However, the Ethereum Foundation states on website that it is a non-profit organisation with a goal of supporting Ethereum and related technologies. The website says: \"The Ethereum Foundation is not a company or even a traditional non-profit. Their role is not to control or lead Ethereum, nor are they the only organisation that funds critical development of Ethereum-related technologies.\" Read more: Doge surges over speculation of Elon Musk and Ethereum co-founder Vitalik Buterin working together',\n",
              "  \"Ether's (ETH) deflationary narrative has ended, at least temporarily. Data from ultrasound.money shows ether’s net issuance – the annualized inflation rate – has risen to 0.07% – after previously dropping below zero amid market volatility linked to the collapse of crypto exchange FTX. A consequent rise in Ethereum network usage had led to millions of dollars in crypto moving on-chain. But the current positive inflation rate indicates that the volume of ether being minted now outpaces the amount that is being burned. Supply has increased 0.14% at an annual rate over the past seven days, according to ultrasound.money. Nick Hotz, vice president of research at the digital-asset management firm Arca, attributed ETH’s deflationary flip to a lack of network activity that led to reduced demand. “Immediately post-FTX, there was tons of demand to swap on both centralized and decentralized exchanges due to volatility,” Hotz told CoinDesk. “In the weeks since, that has faded and now there is very little demand to use neither centralized nor decentralized exchanges.” Crypto market watchers widely expected that Ethereum’s Merge, which shifted the platform’s protocol from proof-of-work (PoW) protocol to a more energy-efficient proof-of-stake (PoS) protocol on Sept. 15 would turn ether deflationary. The upgrade in theory eliminated mining and staking rewards totaling about 1,600 ETH per day – a 90% drop in new issuance. But ether’s inflation rate also depends on a separate mechanism known as the Ethereum Improvement Proposal (EIP)-1559, where fees paid for transactions on the network are “burned,” or eliminated from circulation. The EIP-1559 is essentially tied to the amount of ether burned with network usage: The more transactions on the blockchain led to more ETH being burnt. According to data from Etherscan, the amount of ETH burnt has spiked as much as 5,000 ETH in a day after FTX’s implosion triggered market jitters. Now the burn rate has slowed to around 1,200 ETH daily. Hotz believes that the mechanism is neither net inflationary nor net deflationary, but rather, it creates “a credible and steady supply of ETH” and sees “more adoption of Ethereum through layer 2 activities.” “It's a lot\",\n",
              "  'Ethereum developers determined on Thursday that the network’s next hard fork, called “Shanghai,” will have a target release time frame of March 2023. This upgrade will include code known as EIP 4895 that will allow Beacon Chain staked ether (ETH) withdrawals. Developers also agreed to address the implementation of the \"EVM Object Format\" (EOF) in Shanghai, which is a collection of EIPs that essentially upgrade the Ethereum Virtual Machine, the environment where Ethereum is able to execute smart contracts. Those Ethereum Improvement Proposals (EIPs) are EIP 3540, EIP 3670, EIP 4200, EIP 4570, EIP 5450. If EOF seems too complicated to implement by the next All Core Developers call planned for Jan. 5, developers agreed they will push back EOF to the fall, so they don’t delay staked ETH withdrawals. Developers also agreed to a second hard fork sometime in the fall of 2023 that would address another significant scaling upgrade – proto-danksharding, also known as EIP 4844. EIP 4844 would make Ethereum more scalable through sharding, a method that splits up the network into “shards” as a way to increase its capacity and bring down gas fees. The two forks will give developers enough time to focus on each issue and alleviate stress for those who have their ETH (and any accrued rewards) locked in the Beacon Chain staking smart contract. Read more: Anxious Ethereum Stakers Question When They’ll Be Able to Access Funds Now that the full scope of what will be included in Shanghai is mostly settled, Ethereum developers will go ahead and work on testing the code. Last month, Ethereum developers launched the Shandong testnet, aimed at resolving any bugs related to some of the EIPs they might have included in Shanghai, but that testnet has now been deprecated. Following Thursday’s call, developers are aiming to launch a new public testnet for Shanghai around Dec.15-16. Ethereum developers will focus their efforts over the next month on making Shanghai as smooth as possible and will aim to start mainnet shadow forks in mid- to late January.  Related Quotes',\n",
              "  \"Benzinga Elon Musk's Twitter Rolls Out 'Blue For Business' — Here's What It Will Offer Brands, Employees Elon Musk's Twitter\\xa0has rolled out 'Blue for Business,' enabling brands to distinguish key employees on the microblogging site. Twitter Blue for Business allows brands to verify affiliated accounts with their main Twitter handle and have a square company badge next to display names. These accounts will show a miniature version of the main account's avatar next to the new checkmarks. Visa Pitches Auto-Payments On Ethereum Blockchain In Deeper Crypto Push Global payments giant\\xa0Visa Inc\\xa0(NYSE: V) has released a paper outlining how the firm could work with\\xa0Ethereum\\xa0(ETH/USD) to enable automated payments from self-custodial crypto wallets. The paper, originally presented as part of a company hackathon held earlier this year, explores how the Ethereum mainnet can offer users the capability of scheduling auto-payments with the support of Visa. $1.7M Worth Of Bitcoin Awakens From Dormant Wallets Linked To QuadrigaCX After years of dormancy, five wallets linked to the now-defunct Canadian cryptocurrency exchange\\xa0QuadrigaCX\\xa0have been spotted moving around $1.7 million worth of\\xa0Bitcoin\\xa0(BTC/USD). Over 104 Bitcoins were transferred to various wallets from these previously inaccessible wallets, said crypto researcher\\xa0ZachXBT\\xa0in a tweet on Monday. Honeywell Agrees To Pay $203M To Resolve Foreign Corruption Charges Honeywell International Inc\\xa0(NASDAQ:\\xa0HON) has agreed to pay $202.7 million to resolve corruption investigations in the U.S. and Brazil. Allegations were raised regarding Honeywell's business practice of paying bribes to officers of\\xa0Brazil's state-owned oil company, Petróleo Brasileiro S.A. Honeywell's subsidiary has entered into a three-year Deferred Prosecution Agreement with the Department of Justice related to conspiracy charges to violate the Foreign Corrupt Practices Act in connection with a project awarded in 2010. Amazon Web Services Secures Navy Contract For Over $700M The United States Navy awarded\\xa0Amazon.com Inc's\\xa0(NASDAQ: AMZN) cloud computing division a five-year enterprise software license contract worth $723.9 million. The deal will provide the Navy access to Amazon Web Services (AWS) commercial cloud environment, Professional Services, and its training and certification courses. Ryanair Concludes Four-Year Pay Deal With Irish Pilots' Union Ryanair Holdings plc\\xa0(NASDAQ: RYAAY) has signed a four-year pay agreement with the Fórsa union\",\n",
              "  'The Ethereum Name Service (ENS) decentralized autonomous organization (DAO) members voted to elect stewards for three working groups for the forthcoming year. Voting ended on Dec. 15 at 09:00 UTC, when DAO members elected the stewards that will handle responsibilities for the Meta-Governance, the ENS ecosystem and the Public Goods working groups for the first two quarters of 2023. ENS working groups are a type of subgroup that tackle specific issues within the DAO. These smaller groups have stewards, which are members chosen by ENS voters who make decisions for the DAO. Each working group oversees different matters. The meta-governance working group is in charge of oversight and governance issues, while the ENS ecosystem working group supports members and their issues affiliated with the domain service. The public goods working group is in charge of organizing and funding ENS projects within the wider web3 ecosystem. Voters were tasked to select three stewards for each working group. These stewards nominated themselves and DAO members voted by choosing their three favorite candidates from a pool of nominees. For the Meta-Governance group, Nick Johnson, the co-founder and lead developer for ENS, and simona.eth were reelected (receiving 1.6 million ENS and 1.5 million ENS votes respectively). Katherine Wu was also elected for her first term with 1.4 million ENS votes. The ENS Ecosystem group reelected Alex Slobodnik with 2.1 million votes, as well as limes.eth (1.9 million ENS votes) and yambo.eth (850,000 ENS votes) for their first terms. Lastly, the Public Goods working group elected Alex Van de Sande, the co-founder of ENS, coltron.eth, and vegayp.eth with 2 million, 1.9 million, and 1.4 million ENS votes respectively. The stewards will start their terms on Jan. 1, 2023 and they will be working in their new roles for a six-month term. Read more: What Is the Ethereum Name Service? How ENS Works and What It’s Used For',\n",
              "  \"Summary: Rabbit 2023 is a decentralized token created for the Chinese New Year. Recently, the company launched its Rabbit Token on Binance Smart Chain and Ethereum Network. Paris, France--(Newsfile Corp. - December 19, 2022) - Rabbit 2023 has established itself as a decentralized token created for the Chinese New Year. In the latest record, the crypto forum launched its native Rabbit Token on Binance Smart Chain Network and Ethereum Network on 3rd November 2022 and 15th November 2022, respectively. Rabbit2023 is a decentralized token created and inspired by the Chinese New Year. The Chinese zodiac sign for 2022 was Tiger. The following Chinese New Year is 22nd January 2023. Rabbit2023 is the next $1+ billion meme coin on Ethereum and Binance Smart Chain. The new crypto venture is all prepared for its journey for its holders and is taking the first step to spend a good year by joining the community in this experience. They possess an experienced marketing team and a network of SNS influencers. MarketCap was $2k but it went up to $1.6M maximum even before Chinese New year. This has led to the birth of many Rabbit projects. Furthermore, Rabbit 2023 has been developed as a meme token created on the BSC and ETH network. It is mainly based on the concept of the metaverse and NFTs. 2023 is the Year of the Rabbit and is also a token of celebration. The team is striving to develop a project for the Metaverse Museum and will launch the Rabbit2023 original rabbit collection. It can also be purchased as an NFT as a lucky item in 2023. The symbol of the token is RABBIT, and it consists of taxes as follows: 5 % sell and 5 % buy. Consequently, Rabbit is considered as the happiest of the Chinese zodiac signs. Rabbit2023 wishes its potential holders good luck in the year of 2023 and hopes the cryptocurrency space will buzz with activity. About the Rabbit Token. Rabbit Token is a decentralized meme token developed by Rabbit in 2023. Lately, it's launched the BSC and ETH network. In addition, the creators\"]}"
            ]
          },
          "metadata": {},
          "execution_count": 21
        }
      ]
    },
    {
      "cell_type": "markdown",
      "source": [
        "**Summarize all articles**"
      ],
      "metadata": {
        "id": "hORN9T8U6DhR"
      }
    },
    {
      "cell_type": "code",
      "source": [
        "def summarize(articles):\n",
        "    summaries = []\n",
        "    for article in articles:\n",
        "        input_ids = tokenizer.encode(article, return_tensors='pt')\n",
        "        output = model.generate(input_ids, max_length=55, num_beams=5, early_stopping=True)\n",
        "        summary = tokenizer.decode(output[0], skip_special_tokens=True)\n",
        "        summaries.append(summary)\n",
        "    return summaries"
      ],
      "metadata": {
        "id": "8H4BaZ7B6InZ"
      },
      "execution_count": 22,
      "outputs": []
    },
    {
      "cell_type": "code",
      "source": [
        "summaries = {ticker:summarize(articles[ticker]) for ticker in monitored_tickers}\n",
        "summaries"
      ],
      "metadata": {
        "colab": {
          "base_uri": "https://localhost:8080/"
        },
        "id": "V_0EsReb68tC",
        "outputId": "f430497b-d25a-42e2-b5d9-83032f640d15"
      },
      "execution_count": 23,
      "outputs": [
        {
          "output_type": "execute_result",
          "data": {
            "text/plain": [
              "{'GME': ['I followed the meme-stock craze in 2021 but didn’t make a lot of money.',\n",
              "  'We are aware of the issue and are working to resolve it.',\n",
              "  'Rent the Runway, C3.ai report better-than-expected results. Oil at US$72 after dropping roughly 10% this week to lowest level since January',\n",
              "  \"Cohen and Furlong's experiment is proving to be a failure. Third quarter sales down 8.5% year over year\",\n",
              "  'Third quarter sales were $1.186 billion, compared to $1.297 billion in the prior year. SG&A as a percentage of sales was down on a sequential basis from 34.1%',\n",
              "  'GME Resources insiders bought AU$100k worth of shares over the last year.',\n",
              "  'Rent the Runway, C3.ai, Duckhorn report better-than-expected results. Here’s a round-up of other tech earnings reports:',\n",
              "  'Retail investors are more likely to focus on value stocks. AMC, Bed Bath & Beyond among worst-performing meme stocks this year',\n",
              "  'Reported EPS is $-0.31, expectations were $-0.28.',\n",
              "  '10 stocks to buy now in the Mark Cuban stock portfolio.'],\n",
              " 'TSLA': ['Musk is ‘asleep at the wheel,’ ex-bull says. Tesla deliveries seen coming in at 410,000 to 415,000',\n",
              "  \"EV maker's stock is trading at a 52-week low. Musk says he only sold Tesla shares recently to prepare for recession\",\n",
              "  'We are aware of the issue and are working to resolve it.',\n",
              "  'Musk has offloaded shares worth $40 billion since late last year. Tesla shares are on course for their worst year since going public',\n",
              "  'Musk urges investors to ‘keep powder dry’. Tesla’s bankers are weighing new margin loans',\n",
              "  'Tesla earlier this month planned to suspend Model Y production. Shanghai plant is Tesla’s most productive manufacturing hub',\n",
              "  'EvercoreISI cuts price target on EV maker to $200 from $300. EV maker’s shares closed at a low not seen since late 2020',\n",
              "  'Canaccord Genuity sees fair value for the electric carmaker at $275 per share.',\n",
              "  'Cathie Wood is known for her aggressive stance on high-growth stocks.',\n",
              "  'Carmaker’s year-to-date losses are the largest in its history. Tesla is the most-profitable short this year'],\n",
              " 'BTC': ['Over 90% of Valkyrie’s assets are tied to Justin Sun. U.S.-based firm also manages ‘Justin Tron’ tokens',\n",
              "  'Core Scientific is one of the largest publicly traded crypto mining firms. Bitcoin is down 75% from its all-time high in November 2021',\n",
              "  'Bitcoin mining companies have been hit hard by falling prices and surging energy prices.',\n",
              "  'Bitcoin and USD currency pair ranked among top 10 tickers for 2022.',\n",
              "  'Senate weighs in on digital asset anti-money laundering bill. Warren says bill doesn’t go far enough',\n",
              "  'It was a year of highs and lows for crypto. Retail investors took a beating when FTX collapsed',\n",
              "  'Top companies operating in the blockchain space include Mastercard, Visa.',\n",
              "  'Bitcoin is eighth on the year’s top trending tickers list. Interest in the ticker surged early in 2021 after record highs',\n",
              "  'We are aware of the issue and are working to resolve it.',\n",
              "  'Ex-FTX CEO faces U.S. charges of fraud, money laundering. Bankman-Fried extradited from Bahamas after extradition cleared'],\n",
              " 'ETH': ['staking operations enhanced by new partnership with Blockdaemon.',\n",
              "  'Largest cryptocurrency climbs late, but still below $16,500. Ether falls after a joke about ‘price of irreverence’',\n",
              "  'Solidus Labs finds a 41% increase in rug pulls in 2022. Ether recently traded at around $1,220 after hitting a record high',\n",
              "  'Ether will be removed from Paxful marketplace, founder says. Paxful is a peer-to-peer marketplace popular in Africa',\n",
              "  'DropCatch DropCatch DropCatch DropCatch DropCatch DropCatch DropCatch DropCatch DropCatch DropCatch DropCatch DropCatch DropCatch has no issuer.',\n",
              "  'Supply has increased 0.14% at an annual rate over the past seven days. Ether’s inflation rate depends on a separate mechanism',\n",
              "  'Developers also agreed to a second hard fork in the fall of 2023. Shanghai is expected to launch a new public testnet Dec. 15-16',\n",
              "  'Some of the quirkier technology news stories from the past 24 hours.',\n",
              "  'stewards for Meta-Governance, ENS ecosystem and Public Goods working groups.',\n",
              "  'Rabbit2023 is the next $1+ billion meme coin on Ethereum and Smart Chain.']}"
            ]
          },
          "metadata": {},
          "execution_count": 23
        }
      ]
    },
    {
      "cell_type": "code",
      "source": [
        "summaries['BTC']"
      ],
      "metadata": {
        "colab": {
          "base_uri": "https://localhost:8080/"
        },
        "id": "c4gAx5ab9YUw",
        "outputId": "4d7386fd-6fbc-40a7-d352-8587f7e22a94"
      },
      "execution_count": 24,
      "outputs": [
        {
          "output_type": "execute_result",
          "data": {
            "text/plain": [
              "['Over 90% of Valkyrie’s assets are tied to Justin Sun. U.S.-based firm also manages ‘Justin Tron’ tokens',\n",
              " 'Core Scientific is one of the largest publicly traded crypto mining firms. Bitcoin is down 75% from its all-time high in November 2021',\n",
              " 'Bitcoin mining companies have been hit hard by falling prices and surging energy prices.',\n",
              " 'Bitcoin and USD currency pair ranked among top 10 tickers for 2022.',\n",
              " 'Senate weighs in on digital asset anti-money laundering bill. Warren says bill doesn’t go far enough',\n",
              " 'It was a year of highs and lows for crypto. Retail investors took a beating when FTX collapsed',\n",
              " 'Top companies operating in the blockchain space include Mastercard, Visa.',\n",
              " 'Bitcoin is eighth on the year’s top trending tickers list. Interest in the ticker surged early in 2021 after record highs',\n",
              " 'We are aware of the issue and are working to resolve it.',\n",
              " 'Ex-FTX CEO faces U.S. charges of fraud, money laundering. Bankman-Fried extradited from Bahamas after extradition cleared']"
            ]
          },
          "metadata": {},
          "execution_count": 24
        }
      ]
    },
    {
      "cell_type": "markdown",
      "source": [
        "**Adding sentiment analysis** "
      ],
      "metadata": {
        "id": "QEu1MJLe9b8z"
      }
    },
    {
      "cell_type": "code",
      "source": [
        "from transformers import pipeline\n",
        "sentiment = pipeline('sentiment-analysis')"
      ],
      "metadata": {
        "colab": {
          "base_uri": "https://localhost:8080/",
          "height": 200,
          "referenced_widgets": [
            "187c511a00f64003b248b0efa298464f",
            "73cb5a97716b46f0b2ba412442686472",
            "165a1a058e66492088f47e23ca030e53",
            "83967d51b0d34a42a38d6039e2cc2ead",
            "f1af6b2e6e144c668a0b40b9c872d5ad",
            "4a84e0065842409fb9bb3aee2c3b7e78",
            "77084dff20f54fee972c59df65e17689",
            "1759ba0417994470aa71c057ae0f45f9",
            "0c6bd24cb5d9457dbdc241f833565b10",
            "9bddd0c6cf5d4596bb0b26fa8c08077c",
            "99c89d6693ee459bb610207b7864ca13",
            "66e25ebd54d048f7b457fe6f49104155",
            "58130482481a4bc68f89f8d3fbf5c4f0",
            "1d95ce0f69664b4fb3bc78df1baf79ae",
            "8f4308bb97af406095dedec95e7f557a",
            "fa32f222ac4c4290a550f50544ad51c7",
            "871148e3f3d14dcfb6006ed098e6744b",
            "35302c825a834ba7974b36a63f38b4dd",
            "78ba1f102ab3422cb961d3e0c53e2145",
            "b8ce890235bb4153a315a5634125cbaa",
            "1f8776f8f3654cb4a411005e9ca415f4",
            "fe081731637a48b6aad85fa73cc4abf9",
            "041ec01b0f244c318a407975defa0545",
            "0c5d1e6e22ac459c82cd07d9e02efd74",
            "e736ed228c56435cafba5c22b9b025f1",
            "769f9ff2538d44fcadc78b2f57616098",
            "941545df01304ec3b00b7ac19046092f",
            "4873df847cd14d58b14caaa0e901ae2f",
            "565388d31acf4bca911286d6b8a1fbf0",
            "1afe75ee9ccd4516a5317f8a56fa1369",
            "0f9bbc89acbf46acab6aa52f2c778a12",
            "ebda1866d3ea4f2fb97b41df260aa1ff",
            "4aa33318a43d474e93350f18ec912fac",
            "3376d87e89b44bb39feb402224952999",
            "01a61d9e18e6494286d0b7b45f83cdc4",
            "3aa58e935cd64164a927b8309b72507f",
            "522309d2f4ae4684a72264bd55c9d823",
            "f2f7c1fd96c74c82945825d62fb878f4",
            "6b2a7c99b36844218267f92e6a621820",
            "6699f10f908742ccb8205e4c2dd9c376",
            "86c0288ad1c34b98aafd16a3ff342bcc",
            "b692a67ae64f4b40b7f3868126d30fd1",
            "5236dc3c29f34dc2a9a33b38163a0d66",
            "9d2006faecd14a338fd9d0c8a08bb433"
          ]
        },
        "id": "m5g0vSDr9lsa",
        "outputId": "99ae671c-e72d-4bcd-c300-7eb53f251923"
      },
      "execution_count": 25,
      "outputs": [
        {
          "output_type": "stream",
          "name": "stderr",
          "text": [
            "No model was supplied, defaulted to distilbert-base-uncased-finetuned-sst-2-english and revision af0f99b (https://huggingface.co/distilbert-base-uncased-finetuned-sst-2-english).\n",
            "Using a pipeline without specifying a model name and revision in production is not recommended.\n"
          ]
        },
        {
          "output_type": "display_data",
          "data": {
            "text/plain": [
              "Downloading:   0%|          | 0.00/629 [00:00<?, ?B/s]"
            ],
            "application/vnd.jupyter.widget-view+json": {
              "version_major": 2,
              "version_minor": 0,
              "model_id": "187c511a00f64003b248b0efa298464f"
            }
          },
          "metadata": {}
        },
        {
          "output_type": "display_data",
          "data": {
            "text/plain": [
              "Downloading:   0%|          | 0.00/268M [00:00<?, ?B/s]"
            ],
            "application/vnd.jupyter.widget-view+json": {
              "version_major": 2,
              "version_minor": 0,
              "model_id": "66e25ebd54d048f7b457fe6f49104155"
            }
          },
          "metadata": {}
        },
        {
          "output_type": "display_data",
          "data": {
            "text/plain": [
              "Downloading:   0%|          | 0.00/48.0 [00:00<?, ?B/s]"
            ],
            "application/vnd.jupyter.widget-view+json": {
              "version_major": 2,
              "version_minor": 0,
              "model_id": "041ec01b0f244c318a407975defa0545"
            }
          },
          "metadata": {}
        },
        {
          "output_type": "display_data",
          "data": {
            "text/plain": [
              "Downloading:   0%|          | 0.00/232k [00:00<?, ?B/s]"
            ],
            "application/vnd.jupyter.widget-view+json": {
              "version_major": 2,
              "version_minor": 0,
              "model_id": "3376d87e89b44bb39feb402224952999"
            }
          },
          "metadata": {}
        }
      ]
    },
    {
      "cell_type": "code",
      "source": [
        "sentiment(summaries['BTC'])"
      ],
      "metadata": {
        "colab": {
          "base_uri": "https://localhost:8080/"
        },
        "id": "8224ro8d9utH",
        "outputId": "a37723fe-c3cd-4ab4-e90d-b630d6195698"
      },
      "execution_count": 26,
      "outputs": [
        {
          "output_type": "execute_result",
          "data": {
            "text/plain": [
              "[{'label': 'POSITIVE', 'score': 0.8940140604972839},\n",
              " {'label': 'NEGATIVE', 'score': 0.9986491799354553},\n",
              " {'label': 'NEGATIVE', 'score': 0.9979472756385803},\n",
              " {'label': 'POSITIVE', 'score': 0.9927968382835388},\n",
              " {'label': 'NEGATIVE', 'score': 0.9945371747016907},\n",
              " {'label': 'NEGATIVE', 'score': 0.9984845519065857},\n",
              " {'label': 'POSITIVE', 'score': 0.6261817812919617},\n",
              " {'label': 'POSITIVE', 'score': 0.9809703230857849},\n",
              " {'label': 'POSITIVE', 'score': 0.9979088306427002},\n",
              " {'label': 'NEGATIVE', 'score': 0.9893856048583984}]"
            ]
          },
          "metadata": {},
          "execution_count": 26
        }
      ]
    },
    {
      "cell_type": "code",
      "source": [
        "scores = {ticker:sentiment(summaries[ticker]) for ticker in monitored_tickers}\n",
        "scores"
      ],
      "metadata": {
        "colab": {
          "base_uri": "https://localhost:8080/"
        },
        "id": "CNnrvyc796NW",
        "outputId": "fad2405c-01ed-4ca1-f10e-8e2d7b652fc0"
      },
      "execution_count": 27,
      "outputs": [
        {
          "output_type": "execute_result",
          "data": {
            "text/plain": [
              "{'GME': [{'label': 'NEGATIVE', 'score': 0.9995830655097961},\n",
              "  {'label': 'POSITIVE', 'score': 0.9979088306427002},\n",
              "  {'label': 'NEGATIVE', 'score': 0.9902663826942444},\n",
              "  {'label': 'NEGATIVE', 'score': 0.9997759461402893},\n",
              "  {'label': 'NEGATIVE', 'score': 0.9996192455291748},\n",
              "  {'label': 'NEGATIVE', 'score': 0.96634441614151},\n",
              "  {'label': 'NEGATIVE', 'score': 0.9853072166442871},\n",
              "  {'label': 'NEGATIVE', 'score': 0.9997033476829529},\n",
              "  {'label': 'NEGATIVE', 'score': 0.9898213148117065},\n",
              "  {'label': 'POSITIVE', 'score': 0.8015463948249817}],\n",
              " 'TSLA': [{'label': 'NEGATIVE', 'score': 0.9959589838981628},\n",
              "  {'label': 'NEGATIVE', 'score': 0.9996263980865479},\n",
              "  {'label': 'POSITIVE', 'score': 0.9979088306427002},\n",
              "  {'label': 'NEGATIVE', 'score': 0.9997126460075378},\n",
              "  {'label': 'NEGATIVE', 'score': 0.9957268238067627},\n",
              "  {'label': 'NEGATIVE', 'score': 0.6679105758666992},\n",
              "  {'label': 'NEGATIVE', 'score': 0.9976456761360168},\n",
              "  {'label': 'NEGATIVE', 'score': 0.978071928024292},\n",
              "  {'label': 'POSITIVE', 'score': 0.9975804090499878},\n",
              "  {'label': 'NEGATIVE', 'score': 0.9965456128120422}],\n",
              " 'BTC': [{'label': 'POSITIVE', 'score': 0.8940140604972839},\n",
              "  {'label': 'NEGATIVE', 'score': 0.9986491799354553},\n",
              "  {'label': 'NEGATIVE', 'score': 0.9979472756385803},\n",
              "  {'label': 'POSITIVE', 'score': 0.9927968382835388},\n",
              "  {'label': 'NEGATIVE', 'score': 0.9945371747016907},\n",
              "  {'label': 'NEGATIVE', 'score': 0.9984845519065857},\n",
              "  {'label': 'POSITIVE', 'score': 0.6261817812919617},\n",
              "  {'label': 'POSITIVE', 'score': 0.9809703230857849},\n",
              "  {'label': 'POSITIVE', 'score': 0.9979088306427002},\n",
              "  {'label': 'NEGATIVE', 'score': 0.9893856048583984}],\n",
              " 'ETH': [{'label': 'POSITIVE', 'score': 0.9977149963378906},\n",
              "  {'label': 'NEGATIVE', 'score': 0.9991078972816467},\n",
              "  {'label': 'NEGATIVE', 'score': 0.9549647569656372},\n",
              "  {'label': 'NEGATIVE', 'score': 0.9964789748191833},\n",
              "  {'label': 'NEGATIVE', 'score': 0.9889634847640991},\n",
              "  {'label': 'NEGATIVE', 'score': 0.9880276918411255},\n",
              "  {'label': 'NEGATIVE', 'score': 0.9847054481506348},\n",
              "  {'label': 'POSITIVE', 'score': 0.9968018531799316},\n",
              "  {'label': 'POSITIVE', 'score': 0.9975827932357788},\n",
              "  {'label': 'NEGATIVE', 'score': 0.8802410960197449}]}"
            ]
          },
          "metadata": {},
          "execution_count": 27
        }
      ]
    },
    {
      "cell_type": "code",
      "source": [
        "print(summaries['GME'][3], scores['GME'][3]['label'], scores['GME'][3]['score'])"
      ],
      "metadata": {
        "colab": {
          "base_uri": "https://localhost:8080/"
        },
        "id": "RDAM6gBY-BGt",
        "outputId": "434f218c-e876-407b-a4d7-eb20bd8660c1"
      },
      "execution_count": 28,
      "outputs": [
        {
          "output_type": "stream",
          "name": "stdout",
          "text": [
            "Cohen and Furlong's experiment is proving to be a failure. Third quarter sales down 8.5% year over year NEGATIVE 0.9997759461402893\n"
          ]
        }
      ]
    },
    {
      "cell_type": "code",
      "source": [
        "scores['BTC'][0]['score']"
      ],
      "metadata": {
        "colab": {
          "base_uri": "https://localhost:8080/"
        },
        "id": "7yNq99T--CxE",
        "outputId": "5fcdd020-e0a1-4761-d6c7-678a0f2154c5"
      },
      "execution_count": 29,
      "outputs": [
        {
          "output_type": "execute_result",
          "data": {
            "text/plain": [
              "0.8940140604972839"
            ]
          },
          "metadata": {},
          "execution_count": 29
        }
      ]
    },
    {
      "cell_type": "markdown",
      "source": [
        "**Exporting results to CSV**\n",
        "\n"
      ],
      "metadata": {
        "id": "0ufpjeSs-N4J"
      }
    },
    {
      "cell_type": "code",
      "source": [
        "summaries"
      ],
      "metadata": {
        "colab": {
          "base_uri": "https://localhost:8080/"
        },
        "id": "Rc7txY8A-WzT",
        "outputId": "e9a26103-986a-4639-bbde-03e8c3011c00"
      },
      "execution_count": 30,
      "outputs": [
        {
          "output_type": "execute_result",
          "data": {
            "text/plain": [
              "{'GME': ['I followed the meme-stock craze in 2021 but didn’t make a lot of money.',\n",
              "  'We are aware of the issue and are working to resolve it.',\n",
              "  'Rent the Runway, C3.ai report better-than-expected results. Oil at US$72 after dropping roughly 10% this week to lowest level since January',\n",
              "  \"Cohen and Furlong's experiment is proving to be a failure. Third quarter sales down 8.5% year over year\",\n",
              "  'Third quarter sales were $1.186 billion, compared to $1.297 billion in the prior year. SG&A as a percentage of sales was down on a sequential basis from 34.1%',\n",
              "  'GME Resources insiders bought AU$100k worth of shares over the last year.',\n",
              "  'Rent the Runway, C3.ai, Duckhorn report better-than-expected results. Here’s a round-up of other tech earnings reports:',\n",
              "  'Retail investors are more likely to focus on value stocks. AMC, Bed Bath & Beyond among worst-performing meme stocks this year',\n",
              "  'Reported EPS is $-0.31, expectations were $-0.28.',\n",
              "  '10 stocks to buy now in the Mark Cuban stock portfolio.'],\n",
              " 'TSLA': ['Musk is ‘asleep at the wheel,’ ex-bull says. Tesla deliveries seen coming in at 410,000 to 415,000',\n",
              "  \"EV maker's stock is trading at a 52-week low. Musk says he only sold Tesla shares recently to prepare for recession\",\n",
              "  'We are aware of the issue and are working to resolve it.',\n",
              "  'Musk has offloaded shares worth $40 billion since late last year. Tesla shares are on course for their worst year since going public',\n",
              "  'Musk urges investors to ‘keep powder dry’. Tesla’s bankers are weighing new margin loans',\n",
              "  'Tesla earlier this month planned to suspend Model Y production. Shanghai plant is Tesla’s most productive manufacturing hub',\n",
              "  'EvercoreISI cuts price target on EV maker to $200 from $300. EV maker’s shares closed at a low not seen since late 2020',\n",
              "  'Canaccord Genuity sees fair value for the electric carmaker at $275 per share.',\n",
              "  'Cathie Wood is known for her aggressive stance on high-growth stocks.',\n",
              "  'Carmaker’s year-to-date losses are the largest in its history. Tesla is the most-profitable short this year'],\n",
              " 'BTC': ['Over 90% of Valkyrie’s assets are tied to Justin Sun. U.S.-based firm also manages ‘Justin Tron’ tokens',\n",
              "  'Core Scientific is one of the largest publicly traded crypto mining firms. Bitcoin is down 75% from its all-time high in November 2021',\n",
              "  'Bitcoin mining companies have been hit hard by falling prices and surging energy prices.',\n",
              "  'Bitcoin and USD currency pair ranked among top 10 tickers for 2022.',\n",
              "  'Senate weighs in on digital asset anti-money laundering bill. Warren says bill doesn’t go far enough',\n",
              "  'It was a year of highs and lows for crypto. Retail investors took a beating when FTX collapsed',\n",
              "  'Top companies operating in the blockchain space include Mastercard, Visa.',\n",
              "  'Bitcoin is eighth on the year’s top trending tickers list. Interest in the ticker surged early in 2021 after record highs',\n",
              "  'We are aware of the issue and are working to resolve it.',\n",
              "  'Ex-FTX CEO faces U.S. charges of fraud, money laundering. Bankman-Fried extradited from Bahamas after extradition cleared'],\n",
              " 'ETH': ['staking operations enhanced by new partnership with Blockdaemon.',\n",
              "  'Largest cryptocurrency climbs late, but still below $16,500. Ether falls after a joke about ‘price of irreverence’',\n",
              "  'Solidus Labs finds a 41% increase in rug pulls in 2022. Ether recently traded at around $1,220 after hitting a record high',\n",
              "  'Ether will be removed from Paxful marketplace, founder says. Paxful is a peer-to-peer marketplace popular in Africa',\n",
              "  'DropCatch DropCatch DropCatch DropCatch DropCatch DropCatch DropCatch DropCatch DropCatch DropCatch DropCatch DropCatch DropCatch has no issuer.',\n",
              "  'Supply has increased 0.14% at an annual rate over the past seven days. Ether’s inflation rate depends on a separate mechanism',\n",
              "  'Developers also agreed to a second hard fork in the fall of 2023. Shanghai is expected to launch a new public testnet Dec. 15-16',\n",
              "  'Some of the quirkier technology news stories from the past 24 hours.',\n",
              "  'stewards for Meta-Governance, ENS ecosystem and Public Goods working groups.',\n",
              "  'Rabbit2023 is the next $1+ billion meme coin on Ethereum and Smart Chain.']}"
            ]
          },
          "metadata": {},
          "execution_count": 30
        }
      ]
    },
    {
      "cell_type": "code",
      "source": [
        "scores"
      ],
      "metadata": {
        "colab": {
          "base_uri": "https://localhost:8080/"
        },
        "id": "Qq4qzyeM-b56",
        "outputId": "bd3605b7-0183-4e02-a71a-760865cc78ad"
      },
      "execution_count": 31,
      "outputs": [
        {
          "output_type": "execute_result",
          "data": {
            "text/plain": [
              "{'GME': [{'label': 'NEGATIVE', 'score': 0.9995830655097961},\n",
              "  {'label': 'POSITIVE', 'score': 0.9979088306427002},\n",
              "  {'label': 'NEGATIVE', 'score': 0.9902663826942444},\n",
              "  {'label': 'NEGATIVE', 'score': 0.9997759461402893},\n",
              "  {'label': 'NEGATIVE', 'score': 0.9996192455291748},\n",
              "  {'label': 'NEGATIVE', 'score': 0.96634441614151},\n",
              "  {'label': 'NEGATIVE', 'score': 0.9853072166442871},\n",
              "  {'label': 'NEGATIVE', 'score': 0.9997033476829529},\n",
              "  {'label': 'NEGATIVE', 'score': 0.9898213148117065},\n",
              "  {'label': 'POSITIVE', 'score': 0.8015463948249817}],\n",
              " 'TSLA': [{'label': 'NEGATIVE', 'score': 0.9959589838981628},\n",
              "  {'label': 'NEGATIVE', 'score': 0.9996263980865479},\n",
              "  {'label': 'POSITIVE', 'score': 0.9979088306427002},\n",
              "  {'label': 'NEGATIVE', 'score': 0.9997126460075378},\n",
              "  {'label': 'NEGATIVE', 'score': 0.9957268238067627},\n",
              "  {'label': 'NEGATIVE', 'score': 0.6679105758666992},\n",
              "  {'label': 'NEGATIVE', 'score': 0.9976456761360168},\n",
              "  {'label': 'NEGATIVE', 'score': 0.978071928024292},\n",
              "  {'label': 'POSITIVE', 'score': 0.9975804090499878},\n",
              "  {'label': 'NEGATIVE', 'score': 0.9965456128120422}],\n",
              " 'BTC': [{'label': 'POSITIVE', 'score': 0.8940140604972839},\n",
              "  {'label': 'NEGATIVE', 'score': 0.9986491799354553},\n",
              "  {'label': 'NEGATIVE', 'score': 0.9979472756385803},\n",
              "  {'label': 'POSITIVE', 'score': 0.9927968382835388},\n",
              "  {'label': 'NEGATIVE', 'score': 0.9945371747016907},\n",
              "  {'label': 'NEGATIVE', 'score': 0.9984845519065857},\n",
              "  {'label': 'POSITIVE', 'score': 0.6261817812919617},\n",
              "  {'label': 'POSITIVE', 'score': 0.9809703230857849},\n",
              "  {'label': 'POSITIVE', 'score': 0.9979088306427002},\n",
              "  {'label': 'NEGATIVE', 'score': 0.9893856048583984}],\n",
              " 'ETH': [{'label': 'POSITIVE', 'score': 0.9977149963378906},\n",
              "  {'label': 'NEGATIVE', 'score': 0.9991078972816467},\n",
              "  {'label': 'NEGATIVE', 'score': 0.9549647569656372},\n",
              "  {'label': 'NEGATIVE', 'score': 0.9964789748191833},\n",
              "  {'label': 'NEGATIVE', 'score': 0.9889634847640991},\n",
              "  {'label': 'NEGATIVE', 'score': 0.9880276918411255},\n",
              "  {'label': 'NEGATIVE', 'score': 0.9847054481506348},\n",
              "  {'label': 'POSITIVE', 'score': 0.9968018531799316},\n",
              "  {'label': 'POSITIVE', 'score': 0.9975827932357788},\n",
              "  {'label': 'NEGATIVE', 'score': 0.8802410960197449}]}"
            ]
          },
          "metadata": {},
          "execution_count": 31
        }
      ]
    },
    {
      "cell_type": "code",
      "source": [
        "cleaned_urls"
      ],
      "metadata": {
        "colab": {
          "base_uri": "https://localhost:8080/"
        },
        "id": "cz9wOy4d-fyc",
        "outputId": "d82aeb96-a43a-4f15-d158-c68b390070f5"
      },
      "execution_count": 32,
      "outputs": [
        {
          "output_type": "execute_result",
          "data": {
            "text/plain": [
              "{'GME': ['https://finance.yahoo.com/news/my-meme-stock-fiasco-153417561.html',\n",
              "  'https://finance.yahoo.com/video/meme-stocks-gain-steam-amc-164335352.html',\n",
              "  'https://ca.finance.yahoo.com/news/after-hours-stock-movers-game-stop-rent-the-runway-c-3-ai-and-more-232228102.html',\n",
              "  'https://finance.yahoo.com/news/the-game-stop-turnaround-promise-is-failing-111117027.html',\n",
              "  'https://finance.yahoo.com/news/gamestop-reports-third-quarter-fiscal-210500302.html',\n",
              "  'https://finance.yahoo.com/news/gme-resources-limited-asx-gme-223611770.html',\n",
              "  'https://finance.yahoo.com/news/after-hours-stock-movers-game-stop-rent-the-runway-c-3-ai-and-more-232228102.html',\n",
              "  'https://finance.yahoo.com/news/morningstar-ceos-message-to-meme-stock-investors-162841912.html',\n",
              "  'https://finance.yahoo.com/news/gamestop-corp-nyse-gme-q3-183439060.html',\n",
              "  'https://finance.yahoo.com/news/mark-cuban-stock-portfolio-10-211950824.html'],\n",
              " 'TSLA': ['https://finance.yahoo.com/news/tesla-stock-bull-elon-musk-asleep-at-wheel-twitter-112621568.html',\n",
              "  'https://finance.yahoo.com/news/elon-musk-says-were-overdue-000126704.html',\n",
              "  'https://finance.yahoo.com/video/twitter-much-more-aggressively-managed-163244630.html',\n",
              "  'https://finance.yahoo.com/news/elon-musks-vow-hold-tesla-162049771.html',\n",
              "  'https://finance.yahoo.com/news/elon-musk-warns-against-margin-215641054.html',\n",
              "  'https://finance.yahoo.com/news/tesla-suspends-production-shanghai-plant-125122362.html',\n",
              "  'https://finance.yahoo.com/news/tesla-stock-gets-more-cautious-comments-from-wall-street-131801888.html',\n",
              "  'https://finance.yahoo.com/news/tesla-stock-bull-price-sustainability-behemoth-171323053.html',\n",
              "  'https://finance.yahoo.com/news/cathie-wood-loading-12-stocks-231301471.html',\n",
              "  'https://finance.yahoo.com/news/teslas-largest-ever-decline-has-short-sellers-sitting-on-15-billion-in-profits-morning-brief-110021261.html'],\n",
              " 'BTC': ['https://finance.yahoo.com/news/tron-justin-sun-secret-top-191313018.html',\n",
              "  'https://finance.yahoo.com/news/u-crypto-miner-core-scientific-113132861.html',\n",
              "  'https://finance.yahoo.com/news/bitcoin-miner-core-scientific-files-for-bankruptcy-133753430.html',\n",
              "  'https://bitcoinist.com/bitcoin-interest-balloons-in-2022/',\n",
              "  'https://finance.yahoo.com/news/warren-reactionary-crypto-policy-vs-155000864.html',\n",
              "  'https://uk.finance.yahoo.com/news/how-crypto-fell-2022-eight-charts-story-of-cruel-crash-060058350.html',\n",
              "  'https://finance.yahoo.com/news/13-best-blockchain-stocks-buy-183040818.html',\n",
              "  'https://finance.yahoo.com/news/bitcoin-interest-surged-in-2022-as-crypto-winter-arrived-morning-brief-103134240.html',\n",
              "  'https://finance.yahoo.com/video/understanding-bitcoins-64-decline-2022-203743060.html',\n",
              "  'https://finance.yahoo.com/news/crypto-markets-today-federal-judge-220959175.html'],\n",
              " 'ETH': ['https://finance.yahoo.com/news/bit-digital-inc-announces-commencement-213000571.html',\n",
              "  'https://finance.yahoo.com/news/first-mover-asia-ethereum-isn-022654235.html',\n",
              "  'https://finance.yahoo.com/news/crypto-markets-today-bitcoin-ends-215556584.html',\n",
              "  'https://finance.yahoo.com/news/peer-peer-crypto-marketplace-paxful-131914185.html',\n",
              "  'https://uk.finance.yahoo.com/news/bitcoin-ethereum-not-securities-belgium-declares-141125670.html',\n",
              "  'https://finance.yahoo.com/news/ether-turns-inflationary-network-usage-011302069.html',\n",
              "  'https://finance.yahoo.com/news/ethereum-developers-target-march-2023-153950997.html',\n",
              "  'https://finance.yahoo.com/news/twitter-rolls-blue-business-visa-140826481.html',\n",
              "  'https://finance.yahoo.com/news/ethereum-name-dao-votes-stewards-091107739.html',\n",
              "  'https://finance.yahoo.com/news/rabbit2023-token-launched-bsc-eth-165300004.html']}"
            ]
          },
          "metadata": {},
          "execution_count": 32
        }
      ]
    },
    {
      "cell_type": "code",
      "source": [
        "range(len(summaries['GME']))"
      ],
      "metadata": {
        "colab": {
          "base_uri": "https://localhost:8080/"
        },
        "id": "wICQfCG2-kAM",
        "outputId": "e9b12270-7d2a-4c75-ed36-2ac524c93c5f"
      },
      "execution_count": 33,
      "outputs": [
        {
          "output_type": "execute_result",
          "data": {
            "text/plain": [
              "range(0, 10)"
            ]
          },
          "metadata": {},
          "execution_count": 33
        }
      ]
    },
    {
      "cell_type": "code",
      "source": [
        "summaries['GME'][3]"
      ],
      "metadata": {
        "colab": {
          "base_uri": "https://localhost:8080/",
          "height": 36
        },
        "id": "rg9E63c9-pGq",
        "outputId": "77040fac-70d8-4330-a345-0ef8e7252a46"
      },
      "execution_count": 34,
      "outputs": [
        {
          "output_type": "execute_result",
          "data": {
            "text/plain": [
              "\"Cohen and Furlong's experiment is proving to be a failure. Third quarter sales down 8.5% year over year\""
            ],
            "application/vnd.google.colaboratory.intrinsic+json": {
              "type": "string"
            }
          },
          "metadata": {},
          "execution_count": 34
        }
      ]
    },
    {
      "cell_type": "code",
      "source": [
        "def create_output_array(summaries, scores, urls):\n",
        "    output = []\n",
        "    for ticker in monitored_tickers:\n",
        "        for counter in range(len(summaries[ticker])):\n",
        "            output_this = [\n",
        "                ticker,\n",
        "                summaries[ticker][counter],\n",
        "                scores[ticker][counter]['label'],\n",
        "                scores[ticker][counter]['score'],\n",
        "                urls[ticker][counter]\n",
        "            ]\n",
        "            output.append(output_this)\n",
        "    return output"
      ],
      "metadata": {
        "id": "RoYm9U_e-tIF"
      },
      "execution_count": 35,
      "outputs": []
    },
    {
      "cell_type": "code",
      "source": [
        "final_output = create_output_array(summaries, scores, cleaned_urls)\n",
        "final_output"
      ],
      "metadata": {
        "colab": {
          "base_uri": "https://localhost:8080/"
        },
        "id": "RDzFsNRj_Bcd",
        "outputId": "b3351404-d4ae-4f1c-aba0-5b3601b97028"
      },
      "execution_count": 36,
      "outputs": [
        {
          "output_type": "execute_result",
          "data": {
            "text/plain": [
              "[['GME',\n",
              "  'I followed the meme-stock craze in 2021 but didn’t make a lot of money.',\n",
              "  'NEGATIVE',\n",
              "  0.9995830655097961,\n",
              "  'https://finance.yahoo.com/news/my-meme-stock-fiasco-153417561.html'],\n",
              " ['GME',\n",
              "  'We are aware of the issue and are working to resolve it.',\n",
              "  'POSITIVE',\n",
              "  0.9979088306427002,\n",
              "  'https://finance.yahoo.com/video/meme-stocks-gain-steam-amc-164335352.html'],\n",
              " ['GME',\n",
              "  'Rent the Runway, C3.ai report better-than-expected results. Oil at US$72 after dropping roughly 10% this week to lowest level since January',\n",
              "  'NEGATIVE',\n",
              "  0.9902663826942444,\n",
              "  'https://ca.finance.yahoo.com/news/after-hours-stock-movers-game-stop-rent-the-runway-c-3-ai-and-more-232228102.html'],\n",
              " ['GME',\n",
              "  \"Cohen and Furlong's experiment is proving to be a failure. Third quarter sales down 8.5% year over year\",\n",
              "  'NEGATIVE',\n",
              "  0.9997759461402893,\n",
              "  'https://finance.yahoo.com/news/the-game-stop-turnaround-promise-is-failing-111117027.html'],\n",
              " ['GME',\n",
              "  'Third quarter sales were $1.186 billion, compared to $1.297 billion in the prior year. SG&A as a percentage of sales was down on a sequential basis from 34.1%',\n",
              "  'NEGATIVE',\n",
              "  0.9996192455291748,\n",
              "  'https://finance.yahoo.com/news/gamestop-reports-third-quarter-fiscal-210500302.html'],\n",
              " ['GME',\n",
              "  'GME Resources insiders bought AU$100k worth of shares over the last year.',\n",
              "  'NEGATIVE',\n",
              "  0.96634441614151,\n",
              "  'https://finance.yahoo.com/news/gme-resources-limited-asx-gme-223611770.html'],\n",
              " ['GME',\n",
              "  'Rent the Runway, C3.ai, Duckhorn report better-than-expected results. Here’s a round-up of other tech earnings reports:',\n",
              "  'NEGATIVE',\n",
              "  0.9853072166442871,\n",
              "  'https://finance.yahoo.com/news/after-hours-stock-movers-game-stop-rent-the-runway-c-3-ai-and-more-232228102.html'],\n",
              " ['GME',\n",
              "  'Retail investors are more likely to focus on value stocks. AMC, Bed Bath & Beyond among worst-performing meme stocks this year',\n",
              "  'NEGATIVE',\n",
              "  0.9997033476829529,\n",
              "  'https://finance.yahoo.com/news/morningstar-ceos-message-to-meme-stock-investors-162841912.html'],\n",
              " ['GME',\n",
              "  'Reported EPS is $-0.31, expectations were $-0.28.',\n",
              "  'NEGATIVE',\n",
              "  0.9898213148117065,\n",
              "  'https://finance.yahoo.com/news/gamestop-corp-nyse-gme-q3-183439060.html'],\n",
              " ['GME',\n",
              "  '10 stocks to buy now in the Mark Cuban stock portfolio.',\n",
              "  'POSITIVE',\n",
              "  0.8015463948249817,\n",
              "  'https://finance.yahoo.com/news/mark-cuban-stock-portfolio-10-211950824.html'],\n",
              " ['TSLA',\n",
              "  'Musk is ‘asleep at the wheel,’ ex-bull says. Tesla deliveries seen coming in at 410,000 to 415,000',\n",
              "  'NEGATIVE',\n",
              "  0.9959589838981628,\n",
              "  'https://finance.yahoo.com/news/tesla-stock-bull-elon-musk-asleep-at-wheel-twitter-112621568.html'],\n",
              " ['TSLA',\n",
              "  \"EV maker's stock is trading at a 52-week low. Musk says he only sold Tesla shares recently to prepare for recession\",\n",
              "  'NEGATIVE',\n",
              "  0.9996263980865479,\n",
              "  'https://finance.yahoo.com/news/elon-musk-says-were-overdue-000126704.html'],\n",
              " ['TSLA',\n",
              "  'We are aware of the issue and are working to resolve it.',\n",
              "  'POSITIVE',\n",
              "  0.9979088306427002,\n",
              "  'https://finance.yahoo.com/video/twitter-much-more-aggressively-managed-163244630.html'],\n",
              " ['TSLA',\n",
              "  'Musk has offloaded shares worth $40 billion since late last year. Tesla shares are on course for their worst year since going public',\n",
              "  'NEGATIVE',\n",
              "  0.9997126460075378,\n",
              "  'https://finance.yahoo.com/news/elon-musks-vow-hold-tesla-162049771.html'],\n",
              " ['TSLA',\n",
              "  'Musk urges investors to ‘keep powder dry’. Tesla’s bankers are weighing new margin loans',\n",
              "  'NEGATIVE',\n",
              "  0.9957268238067627,\n",
              "  'https://finance.yahoo.com/news/elon-musk-warns-against-margin-215641054.html'],\n",
              " ['TSLA',\n",
              "  'Tesla earlier this month planned to suspend Model Y production. Shanghai plant is Tesla’s most productive manufacturing hub',\n",
              "  'NEGATIVE',\n",
              "  0.6679105758666992,\n",
              "  'https://finance.yahoo.com/news/tesla-suspends-production-shanghai-plant-125122362.html'],\n",
              " ['TSLA',\n",
              "  'EvercoreISI cuts price target on EV maker to $200 from $300. EV maker’s shares closed at a low not seen since late 2020',\n",
              "  'NEGATIVE',\n",
              "  0.9976456761360168,\n",
              "  'https://finance.yahoo.com/news/tesla-stock-gets-more-cautious-comments-from-wall-street-131801888.html'],\n",
              " ['TSLA',\n",
              "  'Canaccord Genuity sees fair value for the electric carmaker at $275 per share.',\n",
              "  'NEGATIVE',\n",
              "  0.978071928024292,\n",
              "  'https://finance.yahoo.com/news/tesla-stock-bull-price-sustainability-behemoth-171323053.html'],\n",
              " ['TSLA',\n",
              "  'Cathie Wood is known for her aggressive stance on high-growth stocks.',\n",
              "  'POSITIVE',\n",
              "  0.9975804090499878,\n",
              "  'https://finance.yahoo.com/news/cathie-wood-loading-12-stocks-231301471.html'],\n",
              " ['TSLA',\n",
              "  'Carmaker’s year-to-date losses are the largest in its history. Tesla is the most-profitable short this year',\n",
              "  'NEGATIVE',\n",
              "  0.9965456128120422,\n",
              "  'https://finance.yahoo.com/news/teslas-largest-ever-decline-has-short-sellers-sitting-on-15-billion-in-profits-morning-brief-110021261.html'],\n",
              " ['BTC',\n",
              "  'Over 90% of Valkyrie’s assets are tied to Justin Sun. U.S.-based firm also manages ‘Justin Tron’ tokens',\n",
              "  'POSITIVE',\n",
              "  0.8940140604972839,\n",
              "  'https://finance.yahoo.com/news/tron-justin-sun-secret-top-191313018.html'],\n",
              " ['BTC',\n",
              "  'Core Scientific is one of the largest publicly traded crypto mining firms. Bitcoin is down 75% from its all-time high in November 2021',\n",
              "  'NEGATIVE',\n",
              "  0.9986491799354553,\n",
              "  'https://finance.yahoo.com/news/u-crypto-miner-core-scientific-113132861.html'],\n",
              " ['BTC',\n",
              "  'Bitcoin mining companies have been hit hard by falling prices and surging energy prices.',\n",
              "  'NEGATIVE',\n",
              "  0.9979472756385803,\n",
              "  'https://finance.yahoo.com/news/bitcoin-miner-core-scientific-files-for-bankruptcy-133753430.html'],\n",
              " ['BTC',\n",
              "  'Bitcoin and USD currency pair ranked among top 10 tickers for 2022.',\n",
              "  'POSITIVE',\n",
              "  0.9927968382835388,\n",
              "  'https://bitcoinist.com/bitcoin-interest-balloons-in-2022/'],\n",
              " ['BTC',\n",
              "  'Senate weighs in on digital asset anti-money laundering bill. Warren says bill doesn’t go far enough',\n",
              "  'NEGATIVE',\n",
              "  0.9945371747016907,\n",
              "  'https://finance.yahoo.com/news/warren-reactionary-crypto-policy-vs-155000864.html'],\n",
              " ['BTC',\n",
              "  'It was a year of highs and lows for crypto. Retail investors took a beating when FTX collapsed',\n",
              "  'NEGATIVE',\n",
              "  0.9984845519065857,\n",
              "  'https://uk.finance.yahoo.com/news/how-crypto-fell-2022-eight-charts-story-of-cruel-crash-060058350.html'],\n",
              " ['BTC',\n",
              "  'Top companies operating in the blockchain space include Mastercard, Visa.',\n",
              "  'POSITIVE',\n",
              "  0.6261817812919617,\n",
              "  'https://finance.yahoo.com/news/13-best-blockchain-stocks-buy-183040818.html'],\n",
              " ['BTC',\n",
              "  'Bitcoin is eighth on the year’s top trending tickers list. Interest in the ticker surged early in 2021 after record highs',\n",
              "  'POSITIVE',\n",
              "  0.9809703230857849,\n",
              "  'https://finance.yahoo.com/news/bitcoin-interest-surged-in-2022-as-crypto-winter-arrived-morning-brief-103134240.html'],\n",
              " ['BTC',\n",
              "  'We are aware of the issue and are working to resolve it.',\n",
              "  'POSITIVE',\n",
              "  0.9979088306427002,\n",
              "  'https://finance.yahoo.com/video/understanding-bitcoins-64-decline-2022-203743060.html'],\n",
              " ['BTC',\n",
              "  'Ex-FTX CEO faces U.S. charges of fraud, money laundering. Bankman-Fried extradited from Bahamas after extradition cleared',\n",
              "  'NEGATIVE',\n",
              "  0.9893856048583984,\n",
              "  'https://finance.yahoo.com/news/crypto-markets-today-federal-judge-220959175.html'],\n",
              " ['ETH',\n",
              "  'staking operations enhanced by new partnership with Blockdaemon.',\n",
              "  'POSITIVE',\n",
              "  0.9977149963378906,\n",
              "  'https://finance.yahoo.com/news/bit-digital-inc-announces-commencement-213000571.html'],\n",
              " ['ETH',\n",
              "  'Largest cryptocurrency climbs late, but still below $16,500. Ether falls after a joke about ‘price of irreverence’',\n",
              "  'NEGATIVE',\n",
              "  0.9991078972816467,\n",
              "  'https://finance.yahoo.com/news/first-mover-asia-ethereum-isn-022654235.html'],\n",
              " ['ETH',\n",
              "  'Solidus Labs finds a 41% increase in rug pulls in 2022. Ether recently traded at around $1,220 after hitting a record high',\n",
              "  'NEGATIVE',\n",
              "  0.9549647569656372,\n",
              "  'https://finance.yahoo.com/news/crypto-markets-today-bitcoin-ends-215556584.html'],\n",
              " ['ETH',\n",
              "  'Ether will be removed from Paxful marketplace, founder says. Paxful is a peer-to-peer marketplace popular in Africa',\n",
              "  'NEGATIVE',\n",
              "  0.9964789748191833,\n",
              "  'https://finance.yahoo.com/news/peer-peer-crypto-marketplace-paxful-131914185.html'],\n",
              " ['ETH',\n",
              "  'DropCatch DropCatch DropCatch DropCatch DropCatch DropCatch DropCatch DropCatch DropCatch DropCatch DropCatch DropCatch DropCatch has no issuer.',\n",
              "  'NEGATIVE',\n",
              "  0.9889634847640991,\n",
              "  'https://uk.finance.yahoo.com/news/bitcoin-ethereum-not-securities-belgium-declares-141125670.html'],\n",
              " ['ETH',\n",
              "  'Supply has increased 0.14% at an annual rate over the past seven days. Ether’s inflation rate depends on a separate mechanism',\n",
              "  'NEGATIVE',\n",
              "  0.9880276918411255,\n",
              "  'https://finance.yahoo.com/news/ether-turns-inflationary-network-usage-011302069.html'],\n",
              " ['ETH',\n",
              "  'Developers also agreed to a second hard fork in the fall of 2023. Shanghai is expected to launch a new public testnet Dec. 15-16',\n",
              "  'NEGATIVE',\n",
              "  0.9847054481506348,\n",
              "  'https://finance.yahoo.com/news/ethereum-developers-target-march-2023-153950997.html'],\n",
              " ['ETH',\n",
              "  'Some of the quirkier technology news stories from the past 24 hours.',\n",
              "  'POSITIVE',\n",
              "  0.9968018531799316,\n",
              "  'https://finance.yahoo.com/news/twitter-rolls-blue-business-visa-140826481.html'],\n",
              " ['ETH',\n",
              "  'stewards for Meta-Governance, ENS ecosystem and Public Goods working groups.',\n",
              "  'POSITIVE',\n",
              "  0.9975827932357788,\n",
              "  'https://finance.yahoo.com/news/ethereum-name-dao-votes-stewards-091107739.html'],\n",
              " ['ETH',\n",
              "  'Rabbit2023 is the next $1+ billion meme coin on Ethereum and Smart Chain.',\n",
              "  'NEGATIVE',\n",
              "  0.8802410960197449,\n",
              "  'https://finance.yahoo.com/news/rabbit2023-token-launched-bsc-eth-165300004.html']]"
            ]
          },
          "metadata": {},
          "execution_count": 36
        }
      ]
    },
    {
      "cell_type": "code",
      "source": [
        "final_output.insert(0, ['Ticker', 'Summary', 'Label', 'Confidence', 'URL'])"
      ],
      "metadata": {
        "id": "ZlllP13k_YF2"
      },
      "execution_count": 37,
      "outputs": []
    },
    {
      "cell_type": "code",
      "source": [
        "final_output"
      ],
      "metadata": {
        "colab": {
          "base_uri": "https://localhost:8080/"
        },
        "id": "_IBPSmY9_bhy",
        "outputId": "17118bdc-06b4-4593-9faa-4a941975a5e4"
      },
      "execution_count": 38,
      "outputs": [
        {
          "output_type": "execute_result",
          "data": {
            "text/plain": [
              "[['Ticker', 'Summary', 'Label', 'Confidence', 'URL'],\n",
              " ['GME',\n",
              "  'I followed the meme-stock craze in 2021 but didn’t make a lot of money.',\n",
              "  'NEGATIVE',\n",
              "  0.9995830655097961,\n",
              "  'https://finance.yahoo.com/news/my-meme-stock-fiasco-153417561.html'],\n",
              " ['GME',\n",
              "  'We are aware of the issue and are working to resolve it.',\n",
              "  'POSITIVE',\n",
              "  0.9979088306427002,\n",
              "  'https://finance.yahoo.com/video/meme-stocks-gain-steam-amc-164335352.html'],\n",
              " ['GME',\n",
              "  'Rent the Runway, C3.ai report better-than-expected results. Oil at US$72 after dropping roughly 10% this week to lowest level since January',\n",
              "  'NEGATIVE',\n",
              "  0.9902663826942444,\n",
              "  'https://ca.finance.yahoo.com/news/after-hours-stock-movers-game-stop-rent-the-runway-c-3-ai-and-more-232228102.html'],\n",
              " ['GME',\n",
              "  \"Cohen and Furlong's experiment is proving to be a failure. Third quarter sales down 8.5% year over year\",\n",
              "  'NEGATIVE',\n",
              "  0.9997759461402893,\n",
              "  'https://finance.yahoo.com/news/the-game-stop-turnaround-promise-is-failing-111117027.html'],\n",
              " ['GME',\n",
              "  'Third quarter sales were $1.186 billion, compared to $1.297 billion in the prior year. SG&A as a percentage of sales was down on a sequential basis from 34.1%',\n",
              "  'NEGATIVE',\n",
              "  0.9996192455291748,\n",
              "  'https://finance.yahoo.com/news/gamestop-reports-third-quarter-fiscal-210500302.html'],\n",
              " ['GME',\n",
              "  'GME Resources insiders bought AU$100k worth of shares over the last year.',\n",
              "  'NEGATIVE',\n",
              "  0.96634441614151,\n",
              "  'https://finance.yahoo.com/news/gme-resources-limited-asx-gme-223611770.html'],\n",
              " ['GME',\n",
              "  'Rent the Runway, C3.ai, Duckhorn report better-than-expected results. Here’s a round-up of other tech earnings reports:',\n",
              "  'NEGATIVE',\n",
              "  0.9853072166442871,\n",
              "  'https://finance.yahoo.com/news/after-hours-stock-movers-game-stop-rent-the-runway-c-3-ai-and-more-232228102.html'],\n",
              " ['GME',\n",
              "  'Retail investors are more likely to focus on value stocks. AMC, Bed Bath & Beyond among worst-performing meme stocks this year',\n",
              "  'NEGATIVE',\n",
              "  0.9997033476829529,\n",
              "  'https://finance.yahoo.com/news/morningstar-ceos-message-to-meme-stock-investors-162841912.html'],\n",
              " ['GME',\n",
              "  'Reported EPS is $-0.31, expectations were $-0.28.',\n",
              "  'NEGATIVE',\n",
              "  0.9898213148117065,\n",
              "  'https://finance.yahoo.com/news/gamestop-corp-nyse-gme-q3-183439060.html'],\n",
              " ['GME',\n",
              "  '10 stocks to buy now in the Mark Cuban stock portfolio.',\n",
              "  'POSITIVE',\n",
              "  0.8015463948249817,\n",
              "  'https://finance.yahoo.com/news/mark-cuban-stock-portfolio-10-211950824.html'],\n",
              " ['TSLA',\n",
              "  'Musk is ‘asleep at the wheel,’ ex-bull says. Tesla deliveries seen coming in at 410,000 to 415,000',\n",
              "  'NEGATIVE',\n",
              "  0.9959589838981628,\n",
              "  'https://finance.yahoo.com/news/tesla-stock-bull-elon-musk-asleep-at-wheel-twitter-112621568.html'],\n",
              " ['TSLA',\n",
              "  \"EV maker's stock is trading at a 52-week low. Musk says he only sold Tesla shares recently to prepare for recession\",\n",
              "  'NEGATIVE',\n",
              "  0.9996263980865479,\n",
              "  'https://finance.yahoo.com/news/elon-musk-says-were-overdue-000126704.html'],\n",
              " ['TSLA',\n",
              "  'We are aware of the issue and are working to resolve it.',\n",
              "  'POSITIVE',\n",
              "  0.9979088306427002,\n",
              "  'https://finance.yahoo.com/video/twitter-much-more-aggressively-managed-163244630.html'],\n",
              " ['TSLA',\n",
              "  'Musk has offloaded shares worth $40 billion since late last year. Tesla shares are on course for their worst year since going public',\n",
              "  'NEGATIVE',\n",
              "  0.9997126460075378,\n",
              "  'https://finance.yahoo.com/news/elon-musks-vow-hold-tesla-162049771.html'],\n",
              " ['TSLA',\n",
              "  'Musk urges investors to ‘keep powder dry’. Tesla’s bankers are weighing new margin loans',\n",
              "  'NEGATIVE',\n",
              "  0.9957268238067627,\n",
              "  'https://finance.yahoo.com/news/elon-musk-warns-against-margin-215641054.html'],\n",
              " ['TSLA',\n",
              "  'Tesla earlier this month planned to suspend Model Y production. Shanghai plant is Tesla’s most productive manufacturing hub',\n",
              "  'NEGATIVE',\n",
              "  0.6679105758666992,\n",
              "  'https://finance.yahoo.com/news/tesla-suspends-production-shanghai-plant-125122362.html'],\n",
              " ['TSLA',\n",
              "  'EvercoreISI cuts price target on EV maker to $200 from $300. EV maker’s shares closed at a low not seen since late 2020',\n",
              "  'NEGATIVE',\n",
              "  0.9976456761360168,\n",
              "  'https://finance.yahoo.com/news/tesla-stock-gets-more-cautious-comments-from-wall-street-131801888.html'],\n",
              " ['TSLA',\n",
              "  'Canaccord Genuity sees fair value for the electric carmaker at $275 per share.',\n",
              "  'NEGATIVE',\n",
              "  0.978071928024292,\n",
              "  'https://finance.yahoo.com/news/tesla-stock-bull-price-sustainability-behemoth-171323053.html'],\n",
              " ['TSLA',\n",
              "  'Cathie Wood is known for her aggressive stance on high-growth stocks.',\n",
              "  'POSITIVE',\n",
              "  0.9975804090499878,\n",
              "  'https://finance.yahoo.com/news/cathie-wood-loading-12-stocks-231301471.html'],\n",
              " ['TSLA',\n",
              "  'Carmaker’s year-to-date losses are the largest in its history. Tesla is the most-profitable short this year',\n",
              "  'NEGATIVE',\n",
              "  0.9965456128120422,\n",
              "  'https://finance.yahoo.com/news/teslas-largest-ever-decline-has-short-sellers-sitting-on-15-billion-in-profits-morning-brief-110021261.html'],\n",
              " ['BTC',\n",
              "  'Over 90% of Valkyrie’s assets are tied to Justin Sun. U.S.-based firm also manages ‘Justin Tron’ tokens',\n",
              "  'POSITIVE',\n",
              "  0.8940140604972839,\n",
              "  'https://finance.yahoo.com/news/tron-justin-sun-secret-top-191313018.html'],\n",
              " ['BTC',\n",
              "  'Core Scientific is one of the largest publicly traded crypto mining firms. Bitcoin is down 75% from its all-time high in November 2021',\n",
              "  'NEGATIVE',\n",
              "  0.9986491799354553,\n",
              "  'https://finance.yahoo.com/news/u-crypto-miner-core-scientific-113132861.html'],\n",
              " ['BTC',\n",
              "  'Bitcoin mining companies have been hit hard by falling prices and surging energy prices.',\n",
              "  'NEGATIVE',\n",
              "  0.9979472756385803,\n",
              "  'https://finance.yahoo.com/news/bitcoin-miner-core-scientific-files-for-bankruptcy-133753430.html'],\n",
              " ['BTC',\n",
              "  'Bitcoin and USD currency pair ranked among top 10 tickers for 2022.',\n",
              "  'POSITIVE',\n",
              "  0.9927968382835388,\n",
              "  'https://bitcoinist.com/bitcoin-interest-balloons-in-2022/'],\n",
              " ['BTC',\n",
              "  'Senate weighs in on digital asset anti-money laundering bill. Warren says bill doesn’t go far enough',\n",
              "  'NEGATIVE',\n",
              "  0.9945371747016907,\n",
              "  'https://finance.yahoo.com/news/warren-reactionary-crypto-policy-vs-155000864.html'],\n",
              " ['BTC',\n",
              "  'It was a year of highs and lows for crypto. Retail investors took a beating when FTX collapsed',\n",
              "  'NEGATIVE',\n",
              "  0.9984845519065857,\n",
              "  'https://uk.finance.yahoo.com/news/how-crypto-fell-2022-eight-charts-story-of-cruel-crash-060058350.html'],\n",
              " ['BTC',\n",
              "  'Top companies operating in the blockchain space include Mastercard, Visa.',\n",
              "  'POSITIVE',\n",
              "  0.6261817812919617,\n",
              "  'https://finance.yahoo.com/news/13-best-blockchain-stocks-buy-183040818.html'],\n",
              " ['BTC',\n",
              "  'Bitcoin is eighth on the year’s top trending tickers list. Interest in the ticker surged early in 2021 after record highs',\n",
              "  'POSITIVE',\n",
              "  0.9809703230857849,\n",
              "  'https://finance.yahoo.com/news/bitcoin-interest-surged-in-2022-as-crypto-winter-arrived-morning-brief-103134240.html'],\n",
              " ['BTC',\n",
              "  'We are aware of the issue and are working to resolve it.',\n",
              "  'POSITIVE',\n",
              "  0.9979088306427002,\n",
              "  'https://finance.yahoo.com/video/understanding-bitcoins-64-decline-2022-203743060.html'],\n",
              " ['BTC',\n",
              "  'Ex-FTX CEO faces U.S. charges of fraud, money laundering. Bankman-Fried extradited from Bahamas after extradition cleared',\n",
              "  'NEGATIVE',\n",
              "  0.9893856048583984,\n",
              "  'https://finance.yahoo.com/news/crypto-markets-today-federal-judge-220959175.html'],\n",
              " ['ETH',\n",
              "  'staking operations enhanced by new partnership with Blockdaemon.',\n",
              "  'POSITIVE',\n",
              "  0.9977149963378906,\n",
              "  'https://finance.yahoo.com/news/bit-digital-inc-announces-commencement-213000571.html'],\n",
              " ['ETH',\n",
              "  'Largest cryptocurrency climbs late, but still below $16,500. Ether falls after a joke about ‘price of irreverence’',\n",
              "  'NEGATIVE',\n",
              "  0.9991078972816467,\n",
              "  'https://finance.yahoo.com/news/first-mover-asia-ethereum-isn-022654235.html'],\n",
              " ['ETH',\n",
              "  'Solidus Labs finds a 41% increase in rug pulls in 2022. Ether recently traded at around $1,220 after hitting a record high',\n",
              "  'NEGATIVE',\n",
              "  0.9549647569656372,\n",
              "  'https://finance.yahoo.com/news/crypto-markets-today-bitcoin-ends-215556584.html'],\n",
              " ['ETH',\n",
              "  'Ether will be removed from Paxful marketplace, founder says. Paxful is a peer-to-peer marketplace popular in Africa',\n",
              "  'NEGATIVE',\n",
              "  0.9964789748191833,\n",
              "  'https://finance.yahoo.com/news/peer-peer-crypto-marketplace-paxful-131914185.html'],\n",
              " ['ETH',\n",
              "  'DropCatch DropCatch DropCatch DropCatch DropCatch DropCatch DropCatch DropCatch DropCatch DropCatch DropCatch DropCatch DropCatch has no issuer.',\n",
              "  'NEGATIVE',\n",
              "  0.9889634847640991,\n",
              "  'https://uk.finance.yahoo.com/news/bitcoin-ethereum-not-securities-belgium-declares-141125670.html'],\n",
              " ['ETH',\n",
              "  'Supply has increased 0.14% at an annual rate over the past seven days. Ether’s inflation rate depends on a separate mechanism',\n",
              "  'NEGATIVE',\n",
              "  0.9880276918411255,\n",
              "  'https://finance.yahoo.com/news/ether-turns-inflationary-network-usage-011302069.html'],\n",
              " ['ETH',\n",
              "  'Developers also agreed to a second hard fork in the fall of 2023. Shanghai is expected to launch a new public testnet Dec. 15-16',\n",
              "  'NEGATIVE',\n",
              "  0.9847054481506348,\n",
              "  'https://finance.yahoo.com/news/ethereum-developers-target-march-2023-153950997.html'],\n",
              " ['ETH',\n",
              "  'Some of the quirkier technology news stories from the past 24 hours.',\n",
              "  'POSITIVE',\n",
              "  0.9968018531799316,\n",
              "  'https://finance.yahoo.com/news/twitter-rolls-blue-business-visa-140826481.html'],\n",
              " ['ETH',\n",
              "  'stewards for Meta-Governance, ENS ecosystem and Public Goods working groups.',\n",
              "  'POSITIVE',\n",
              "  0.9975827932357788,\n",
              "  'https://finance.yahoo.com/news/ethereum-name-dao-votes-stewards-091107739.html'],\n",
              " ['ETH',\n",
              "  'Rabbit2023 is the next $1+ billion meme coin on Ethereum and Smart Chain.',\n",
              "  'NEGATIVE',\n",
              "  0.8802410960197449,\n",
              "  'https://finance.yahoo.com/news/rabbit2023-token-launched-bsc-eth-165300004.html']]"
            ]
          },
          "metadata": {},
          "execution_count": 38
        }
      ]
    },
    {
      "cell_type": "code",
      "source": [
        "import csv\n",
        "with open('cryptosummaries.csv', mode='w', newline='') as f:\n",
        "    csv_writer = csv.writer(f, delimiter=',', quotechar='\"', quoting=csv.QUOTE_MINIMAL)\n",
        "    csv_writer.writerows(final_output)"
      ],
      "metadata": {
        "id": "onh1quaA_gwW"
      },
      "execution_count": 39,
      "outputs": []
    }
  ]
}